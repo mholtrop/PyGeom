{
 "cells": [
  {
   "cell_type": "markdown",
   "metadata": {},
   "source": [
    "# PyGeom: Gemc Python Geometry Example\n",
    "\n",
    "This example shows you the minimal Python commands needed to do something useful with the PyGeom package Python geometry.\n",
    "\n",
    "## Setup\n",
    "\n",
    "Note: Python is a highly interactive language and that makes it a lot of fun to work with. You can start a python shell by typing \"python\" at the command line, and follow along step by step. A slightly more convenient python shell is \"ipython\", which has command line completion incorporated. \n",
    "\n",
    "**Note**: At Jlab, you have limited ability to install system software your self. Fortunately CC has already installed a modern Python installation with all the scientific Python goodness as a package called Anaconda. This includes ipython and includes the MySQLdb plugin, plus a ton of other good things, see: https://docs.continuum.io/ and https://docs.continuum.io/anaconda/index. It's free to download to your own system.\n",
    "We get the Anaconda python by adding it to our path. At Jlab, for bash:\n",
    "> export PATH=/apps/anaconda/bin:${PATH}\n",
    "\n",
    "For tcsh:\n",
    "> setenv PATH /apps/anaconda/bin:${PATH}\n",
    "\n",
    "We are also going to want to use ROOT for allowing us to draw the geometries. This is not needed if you only want to create the TXT files that GEMC uses, but having it really will make the creation of geometries for GEMC easier. \n",
    "So before importing the GeometryROOT package (see below), you will want to have ROOTSYS setup by executing the \"thisroot.sh\" or \"thisroot.tcsh\" script. \n",
    "**At JLab** you want to do for bash:\n",
    "> . /apps/root/5.34.21/root/bin/thisroot.sh \n",
    "\n",
    "And for the tcsh shell:\n",
    "> source /apps/root/5.34.21/root/bin/thisroot.sh \n"
   ]
  },
  {
   "cell_type": "markdown",
   "metadata": {},
   "source": [
    "## A little bit of Python\n",
    "\n",
    "We now start python with\n",
    "> ipython\n",
    "\n",
    "At the python command line you can ask for help by typing:"
   ]
  },
  {
   "cell_type": "code",
   "execution_count": 1,
   "metadata": {
    "collapsed": false
   },
   "outputs": [
    {
     "data": {
      "text/plain": [
       "Type help() for interactive help, or help(object) for help about object."
      ]
     },
     "execution_count": 1,
     "metadata": {},
     "output_type": "execute_result"
    }
   ],
   "source": [
    "help"
   ]
  },
  {
   "cell_type": "code",
   "execution_count": 2,
   "metadata": {
    "collapsed": false
   },
   "outputs": [
    {
     "name": "stdout",
     "output_type": "stream",
     "text": [
      "Help on built-in function exit in module sys:\n",
      "\n",
      "exit(...)\n",
      "    exit([status])\n",
      "    \n",
      "    Exit the interpreter by raising SystemExit(status).\n",
      "    If the status is omitted or None, it defaults to zero (i.e., success).\n",
      "    If the status is an integer, it will be used as the system exit status.\n",
      "    If it is another kind of object, it will be printed and the system\n",
      "    exit status will be one (i.e., failure).\n",
      "\n"
     ]
    }
   ],
   "source": [
    "import sys\n",
    "help(sys.exit)"
   ]
  },
  {
   "cell_type": "markdown",
   "metadata": {},
   "source": [
    "There is lots of information and help available on Python on the web. Just google.\n",
    "\n",
    "### Notebooks:\n",
    "More interesting still, this very notebook is interactive. You can alter any of the code lines, and then execute the line by pressing the shift+enter key.\n",
    "\n",
    "**Note**: If you want to run this on your own system, you need a late version of ROOT6, and some magic incantations (see the JupyROOT documentation, all of which is experimental at this stage). You can then run \"root --notebook\", and a web browser page will open with the contends of the directory displayed. Then click on \"Index.ipynb\", and it should work. This is not yet properly installed at Jlab. This tutorial will still work interactively in Python. Without the comments in between."
   ]
  },
  {
   "cell_type": "code",
   "execution_count": 3,
   "metadata": {
    "collapsed": false,
    "raw_mimetype": "text/x-python"
   },
   "outputs": [
    {
     "name": "stdout",
     "output_type": "stream",
     "text": [
      "Each input line in this file shows the output right below. This line is Python.\n"
     ]
    }
   ],
   "source": [
    "print(\"Each input line in this file shows the output right below. This line is Python.\")"
   ]
  },
  {
   "cell_type": "markdown",
   "metadata": {},
   "source": [
    "## Getting the code\n",
    "\n",
    "OK, now let us get started with the actual geometry stuff.\n",
    "\n",
    "We need to get the code, which is stored on github. Simply clone the repository, or if you want to change the code, fork it or branch it. Look at Mauri's pages for some git introduction. The simplest is just to type:\n",
    "> git clone https://github.com/mholtrop/PyGeom.git\n",
    "\n",
    "You now have a directory called PyGeom, with inside it the Python package \"PyGeom\". In the near future, I will add a proper \"setup.py\" script, so you can install the package. For now, we just work from the PyGeom directory. So\n",
    "> cd PyGeom\n",
    "> ipython\n",
    "\n",
    "You can now follow along.\n",
    "\n",
    "## A first simple geometry\n",
    "\n",
    "We want to first import the packages into Python. This will do:"
   ]
  },
  {
   "cell_type": "code",
   "execution_count": 4,
   "metadata": {
    "collapsed": false
   },
   "outputs": [
    {
     "data": {
      "application/javascript": [
       "IPython.CodeCell.config_defaults.highlight_modes['magic_text/x-c++src'] = {'reg':[/^%%cpp/]};"
      ]
     },
     "metadata": {},
     "output_type": "display_data"
    },
    {
     "name": "stdout",
     "output_type": "stream",
     "text": [
      "Welcome to JupyROOT 6.07/05\n"
     ]
    }
   ],
   "source": [
    "from PyGeom import GeometryEngine\n",
    "from PyGeom import Geometry\n",
    "from PyGeom import GeometryROOT"
   ]
  },
  {
   "cell_type": "markdown",
   "metadata": {},
   "source": [
    "*Note that the last line returns a message that only shows up in this notebook, since this is JupyROOT.*\n",
    "\n",
    "We now want to initialize the GeometryEngine. The name \"TestGeom\" is the name of the Gemc \"detector\", so the text files written out will have names like: <code>TestGeom__geometry_original.txt</code>."
   ]
  },
  {
   "cell_type": "code",
   "execution_count": 5,
   "metadata": {
    "collapsed": true
   },
   "outputs": [],
   "source": [
    "gen = GeometryEngine(\"TestGeom\")"
   ]
  },
  {
   "cell_type": "markdown",
   "metadata": {
    "collapsed": false
   },
   "source": [
    "Let's define a simple scintillator paddle, dimensions 2x2x10cm, and positioned 20cm down stream of the target, which is at the origin: (0,0,0). We create the paddle by creating a Geometry object, and giving that object the needed parameter:"
   ]
  },
  {
   "cell_type": "code",
   "execution_count": 6,
   "metadata": {
    "collapsed": false
   },
   "outputs": [],
   "source": [
    "paddle = Geometry(name=\"paddle_1\",mother=\"root\",description=\"Example of a paddle\",\n",
    "                  pos=[0, 0, 20], pos_units='cm', \n",
    "                  rot=[0, 0, 0], rot_units='rad',\n",
    "                  col='339999', \n",
    "                  g4type='Box', \n",
    "                  dimensions=[2,2,10],dims_units='cm',\n",
    "                  material='ScintillatorB')"
   ]
  },
  {
   "cell_type": "markdown",
   "metadata": {},
   "source": [
    "**Some notes:**\n",
    "   - If you forget what parameters are needed/allowed, type: help(Geometry) at the prompt, and look at the __init__() line which will show you all the options.\n",
    "   - There is a bit of flexibility build into the Geometry. You can specify the position as a \"vector\": [x,y,z], or you can specify it as a string: \" 10.*cm 15.2*cm 1000*mm \".\n",
    "   - More flexibility, if you want units \"cm\" and \"rad\", then you can leave them out. If you want to mix units, then specify them as an array. So <code> pos=\"10.*cm 15.2*cm 1000*mm\" </code> is the same as <code> pos=[10.,15.2,1000.],pos_units=['cm','cm','mm'] </code>\n",
    "   - It is MUCH safer to specify a name for every argument, because then the order is not important. If you are careful about the order, and don't skip arguments, you can leave out the names (like C++ or Fortran).  \n"
   ]
  },
  {
   "cell_type": "markdown",
   "metadata": {},
   "source": [
    "Now we add this geometry object to the GeometryEngine: "
   ]
  },
  {
   "cell_type": "code",
   "execution_count": 7,
   "metadata": {
    "collapsed": true
   },
   "outputs": [],
   "source": [
    "gen.add(paddle)"
   ]
  },
  {
   "cell_type": "markdown",
   "metadata": {},
   "source": [
    "Let'd also add a target, at (0,0,0), made of liquid hydrogen (G4_lH2), and small flat pancake shape: a tube of 2 cm radius and 2 mm thickness. To show you a different way of entering the volume, we do the whole thing in one line:"
   ]
  },
  {
   "cell_type": "code",
   "execution_count": 8,
   "metadata": {
    "collapsed": false
   },
   "outputs": [],
   "source": [
    "gen.add( Geometry(name=\"target\",mother=\"root\",description=\"A thin LH2 target\",\n",
    "                  pos=\"0*cm 0*cm 0*cm\",\n",
    "                  rot=\"0*deg 0*deg 0*deg\",\n",
    "                  g4type=\"Tube\",\n",
    "                  dimensions=\" 0*cm 2*cm 2*mm 0*deg 360*deg\",\n",
    "                  material=\"G4_lH2\",\n",
    "                  col=\"880000\"))"
   ]
  },
  {
   "cell_type": "markdown",
   "metadata": {},
   "source": [
    "After you have added a number of items, you may now want to inspect what you have in your geometry. You can do this by simply printing the objects. You can print the GeometryEngine, to get a list of what is in it. To print the details of a specific Geometry, select it from the GeometryEngine. The Geometry engine is an itterator, so you can itterate on it to print everthing in detail. The detail you get is the same as would be printed in the GEMC geometry text file."
   ]
  },
  {
   "cell_type": "code",
   "execution_count": 9,
   "metadata": {
    "collapsed": false
   },
   "outputs": [
    {
     "name": "stdout",
     "output_type": "stream",
     "text": [
      "Database:  NOT OPENED \n",
      "Table   : TestGeom\n",
      "Geometry: \n",
      "     paddle_1 in root ::Example of a paddle\n",
      "     target in root ::A thin LH2 target\n",
      "\n",
      "paddle_1 | root | Example of a paddle | 0*cm 0*cm 0*cm  | 0*rad 0*rad 0*rad  | 339999 | Box | 2*cm 2*cm 10*cm  | ScintillatorB | no | 1 | 1 | 1 | 1 | 1 | no |  |  \n",
      "target | root | A thin LH2 target | 0.0*cm 0.0*cm 0.0*cm  | 0.0*rad 0.0*rad 0.0*rad  | 880000 | Tube | 0.0*cm 2.0*cm 0.2*cm 0.0*rad 6.28318530718*rad  | G4_lH2 | no | 1 | 1 | 1 | 1 | 1 | no |  |  \n"
     ]
    }
   ],
   "source": [
    "print gen\n",
    "print gen['paddle_1']\n",
    "print gen[1]"
   ]
  },
  {
   "cell_type": "code",
   "execution_count": 10,
   "metadata": {
    "collapsed": false
   },
   "outputs": [
    {
     "name": "stderr",
     "output_type": "stream",
     "text": [
      "Info in <TGeoManager::TGeoManager>: Geometry GEMC, Python ROOT Geometry Engine for GEMC created\n"
     ]
    }
   ],
   "source": [
    "rr=GeometryROOT()\n",
    "rr.debug = 1    # Set the debug level to 1"
   ]
  },
  {
   "cell_type": "code",
   "execution_count": 11,
   "metadata": {
    "collapsed": false
   },
   "outputs": [
    {
     "name": "stderr",
     "output_type": "stream",
     "text": [
      "Info in <TGeoManager::SetTopVolume>: Top volume is root. Master volume is root\n",
      "Info in <TGeoNavigator::BuildCache>: --- Maximum geometry depth set to 100\n"
     ]
    }
   ],
   "source": [
    "rr.create_root_volume()"
   ]
  },
  {
   "cell_type": "code",
   "execution_count": 12,
   "metadata": {
    "collapsed": false
   },
   "outputs": [
    {
     "name": "stdout",
     "output_type": "stream",
     "text": [
      "OOPS, the material: G4_lH2 has not yet been defined in Python world.  I'll pretend it is Aluminum...\n"
     ]
    }
   ],
   "source": [
    "rr.build_volumes(gen)"
   ]
  },
  {
   "cell_type": "markdown",
   "metadata": {
    "collapsed": true
   },
   "source": [
    "Note that some matials are not defined yet in the GeometryROOT package. I am working on adding these, please be patient. For showing the volumes, and for GEMC, these missing materials do not matter at all. "
   ]
  },
  {
   "cell_type": "code",
   "execution_count": null,
   "metadata": {
    "collapsed": true
   },
   "outputs": [],
   "source": [
    "rr.draw()"
   ]
  },
  {
   "cell_type": "code",
   "execution_count": null,
   "metadata": {
    "collapsed": true
   },
   "outputs": [],
   "source": []
  }
 ],
 "metadata": {
  "celltoolbar": "Raw Cell Format",
  "kernelspec": {
   "display_name": "Python 2",
   "language": "python",
   "name": "python2"
  },
  "language_info": {
   "codemirror_mode": {
    "name": "ipython",
    "version": 2
   },
   "file_extension": ".py",
   "mimetype": "text/x-python",
   "name": "python",
   "nbconvert_exporter": "python",
   "pygments_lexer": "ipython2",
   "version": "2.7.11"
  }
 },
 "nbformat": 4,
 "nbformat_minor": 0
}
