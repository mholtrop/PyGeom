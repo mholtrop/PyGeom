{
 "cells": [
  {
   "cell_type": "markdown",
   "metadata": {},
   "source": [
    "# PyGeom: Gemc Python Geometry Example\n",
    "\n",
    "This example shows you the minimal Python commands needed to do something useful with the PyGeom package Python geometry.\n",
    "\n",
    "If any of this is not clear, please email me: holtrop(at)jlab.org\n",
    "\n",
    "## Setup\n",
    "\n",
    "Note: Python is a highly interactive language and that makes it a lot of fun to work with. You can start a python shell by typing \"python\" at the command line, and follow along step by step. A slightly more convenient python shell is \"ipython\", which has command line completion incorporated. \n",
    "\n",
    "**Note**: If you want to install Python add-ons without modifying your system, check out \"Python virtualenv\". Even easier, CC at JLab has already installed a modern Python installation with all the scientific Python goodness as a package called Anaconda. This includes ipython and includes the MySQLdb plugin, plus a ton of other good things, see: https://docs.continuum.io/ and https://docs.continuum.io/anaconda/index. It's free to download to your own system.\n",
    "We get the Anaconda python by adding it to our path. At Jlab, for bash:\n",
    "> export PATH=/apps/anaconda/bin:${PATH}\n",
    "\n",
    "For tcsh:\n",
    "> setenv PATH /apps/anaconda/bin:${PATH}\n",
    "\n",
    "We are also going to want to use ROOT to allow us to draw the geometries. This is not stricktly needed if you only want to create the TXT files or database that GEMC uses, but having it really will make the creation of geometries for GEMC easier. So before importing the GeometryROOT package (see below), you will want to have ROOTSYS setup by executing the \"thisroot.sh\" or \"thisroot.tcsh\" script. \n",
    "**At JLab** you want to do for bash:\n",
    "> . /apps/root/5.34.21/root/bin/thisroot.sh \n",
    "\n",
    "And for the tcsh shell:\n",
    "> source /apps/root/5.34.21/root/bin/thisroot.sh \n",
    "\n",
    "A final note, this tutorial is in a Jypyter notebook with a ROOT kernel. To install it on your own system, you need a very recent (6.06 or later) version or ROOT with the http component enabled. In my experience, on a Mac, you need to compile ROOT against the system Python 2.7 (not the Anaconda version.) See the JupyROOT documentation. All of it is still experimental. You start the notebook either as \"root --notebook\" or \"jupyter notebook\""
   ]
  },
  {
   "cell_type": "markdown",
   "metadata": {},
   "source": [
    "## A little bit of Python\n",
    "\n",
    "We now start python with\n",
    "> ipython\n",
    "\n",
    "At the python command line you can ask for help by typing:"
   ]
  },
  {
   "cell_type": "code",
   "execution_count": 2,
   "metadata": {
    "collapsed": false
   },
   "outputs": [
    {
     "data": {
      "text/plain": [
       "Type help() for interactive help, or help(object) for help about object."
      ]
     },
     "execution_count": 2,
     "metadata": {},
     "output_type": "execute_result"
    }
   ],
   "source": [
    "help"
   ]
  },
  {
   "cell_type": "code",
   "execution_count": 3,
   "metadata": {
    "collapsed": false
   },
   "outputs": [
    {
     "name": "stdout",
     "output_type": "stream",
     "text": [
      "Help on built-in function exit in module sys:\n",
      "\n",
      "exit(...)\n",
      "    exit([status])\n",
      "    \n",
      "    Exit the interpreter by raising SystemExit(status).\n",
      "    If the status is omitted or None, it defaults to zero (i.e., success).\n",
      "    If the status is an integer, it will be used as the system exit status.\n",
      "    If it is another kind of object, it will be printed and the system\n",
      "    exit status will be one (i.e., failure).\n",
      "\n"
     ]
    }
   ],
   "source": [
    "import sys\n",
    "help(sys.exit)"
   ]
  },
  {
   "cell_type": "markdown",
   "metadata": {},
   "source": [
    "For a buildin Python command, such as \"import\" or \"print\", you want to add quotes around the command when asking for help. There is lots of information, tutorials and help available on Python on the web. Just google. The language is very easy to learn.\n",
    "\n",
    "### Notebooks:\n",
    "More interesting still, this very notebook is interactive. You can alter any of the code lines, and then execute the line by pressing the shift+enter key. So you can play and modify this tutorial from your browser. You do have to execute the commands in order for them to work as expected, so you need to start at [1]. "
   ]
  },
  {
   "cell_type": "code",
   "execution_count": 4,
   "metadata": {
    "collapsed": false,
    "raw_mimetype": "text/x-python"
   },
   "outputs": [
    {
     "name": "stdout",
     "output_type": "stream",
     "text": [
      "Each input line in this file shows the output right below. This line is Python.\n"
     ]
    }
   ],
   "source": [
    "print(\"Each input line in this file shows the output right below. This line is Python.\")"
   ]
  },
  {
   "cell_type": "markdown",
   "metadata": {},
   "source": [
    "## Getting the code\n",
    "\n",
    "OK, now let us get started with the actual GEMC geometry stuff.\n",
    "\n",
    "We need to get the code, which is stored on github. Simply clone the repository, or if you want to change the code, fork it or branch it. Look at Mauri's pages for some git introduction. The simplest is just to type:\n",
    "> git clone https://github.com/mholtrop/PyGeom.git\n",
    "\n",
    "You now have a directory called PyGeom, and inside it the Python package \"PyGeom\". In the near future, I will add a proper \"setup.py\" script, so you can install the package and make it part of your Python system. For now, we just work from the PyGeom directory. So\n",
    "> cd PyGeom\n",
    "> ipython\n",
    "\n",
    "You can now follow along the tutorials. \n",
    "\n",
    "## A first simple geometry\n",
    "\n",
    "We want to first import the packages into Python. This is done with the \"import\" buildin command. This will do:"
   ]
  },
  {
   "cell_type": "code",
   "execution_count": 5,
   "metadata": {
    "collapsed": false
   },
   "outputs": [
    {
     "data": {
      "application/javascript": [
       "require(['codemirror/mode/clike/clike'], function(Clike) { console.log('ROOTaaS - C++ CodeMirror module loaded'); });"
      ]
     },
     "metadata": {},
     "output_type": "display_data"
    },
    {
     "data": {
      "application/javascript": [
       "IPython.CodeCell.config_defaults.highlight_modes['magic_text/x-c++src'] = {'reg':[/^%%cpp/]};"
      ]
     },
     "metadata": {},
     "output_type": "display_data"
    },
    {
     "name": "stdout",
     "output_type": "stream",
     "text": [
      "Welcome to ROOTaaS 6.06/09\n",
      "warning MySQLdb not found - no database functionality.\n"
     ]
    },
    {
     "ename": "ImportError",
     "evalue": "No module named numpy",
     "output_type": "error",
     "traceback": [
      "\u001b[0;31m\u001b[0m",
      "\u001b[0;31mImportError\u001b[0mTraceback (most recent call last)",
      "\u001b[0;32m<ipython-input-5-a49e9bc7277d>\u001b[0m in \u001b[0;36m<module>\u001b[0;34m()\u001b[0m\n\u001b[1;32m      1\u001b[0m \u001b[0;32mimport\u001b[0m \u001b[0mROOT\u001b[0m \u001b[0;32mas\u001b[0m \u001b[0mR\u001b[0m\u001b[0;34m\u001b[0m\u001b[0m\n\u001b[0;32m----> 2\u001b[0;31m \u001b[0;32mfrom\u001b[0m \u001b[0mPyGeom\u001b[0m \u001b[0;32mimport\u001b[0m \u001b[0mGeometryEngine\u001b[0m\u001b[0;34m,\u001b[0m \u001b[0mGeometry\u001b[0m\u001b[0;34m,\u001b[0m \u001b[0mGeometryROOT\u001b[0m\u001b[0;34m\u001b[0m\u001b[0m\n\u001b[0m",
      "\u001b[0;32m/Users/maurik/root/root.git/lib/ROOT.pyc\u001b[0m in \u001b[0;36m_importhook\u001b[0;34m(name, *args, **kwds)\u001b[0m\n\u001b[1;32m    301\u001b[0m       \u001b[0;32mexcept\u001b[0m \u001b[0mException\u001b[0m\u001b[0;34m:\u001b[0m\u001b[0;34m\u001b[0m\u001b[0m\n\u001b[1;32m    302\u001b[0m          \u001b[0;32mpass\u001b[0m\u001b[0;34m\u001b[0m\u001b[0m\n\u001b[0;32m--> 303\u001b[0;31m    \u001b[0;32mreturn\u001b[0m \u001b[0m_orig_ihook\u001b[0m\u001b[0;34m(\u001b[0m \u001b[0mname\u001b[0m\u001b[0;34m,\u001b[0m \u001b[0;34m*\u001b[0m\u001b[0margs\u001b[0m\u001b[0;34m,\u001b[0m \u001b[0;34m**\u001b[0m\u001b[0mkwds\u001b[0m \u001b[0;34m)\u001b[0m\u001b[0;34m\u001b[0m\u001b[0m\n\u001b[0m\u001b[1;32m    304\u001b[0m \u001b[0;34m\u001b[0m\u001b[0m\n\u001b[1;32m    305\u001b[0m \u001b[0m__builtin__\u001b[0m\u001b[0;34m.\u001b[0m\u001b[0m__import__\u001b[0m \u001b[0;34m=\u001b[0m \u001b[0m_importhook\u001b[0m\u001b[0;34m\u001b[0m\u001b[0m\n",
      "\u001b[0;32m/data/CLAS12/gemc/PyGeom/PyGeom/__init__.py\u001b[0m in \u001b[0;36m<module>\u001b[0;34m()\u001b[0m\n\u001b[1;32m     10\u001b[0m \u001b[0;32mfrom\u001b[0m \u001b[0mSensitiveDetector\u001b[0m \u001b[0;32mimport\u001b[0m \u001b[0mSensitiveDetector\u001b[0m\u001b[0;34m\u001b[0m\u001b[0m\n\u001b[1;32m     11\u001b[0m \u001b[0;32mfrom\u001b[0m \u001b[0mMaterial\u001b[0m \u001b[0;32mimport\u001b[0m \u001b[0mMaterial\u001b[0m\u001b[0;34m\u001b[0m\u001b[0m\n\u001b[0;32m---> 12\u001b[0;31m \u001b[0;32mfrom\u001b[0m \u001b[0mVector\u001b[0m \u001b[0;32mimport\u001b[0m \u001b[0mVector\u001b[0m\u001b[0;34m\u001b[0m\u001b[0m\n\u001b[0m\u001b[1;32m     13\u001b[0m \u001b[0;32mfrom\u001b[0m \u001b[0mRotation\u001b[0m \u001b[0;32mimport\u001b[0m \u001b[0mRotation\u001b[0m\u001b[0;34m\u001b[0m\u001b[0m\n\u001b[1;32m     14\u001b[0m \u001b[0;34m\u001b[0m\u001b[0m\n",
      "\u001b[0;32m/Users/maurik/root/root.git/lib/ROOT.pyc\u001b[0m in \u001b[0;36m_importhook\u001b[0;34m(name, *args, **kwds)\u001b[0m\n\u001b[1;32m    301\u001b[0m       \u001b[0;32mexcept\u001b[0m \u001b[0mException\u001b[0m\u001b[0;34m:\u001b[0m\u001b[0;34m\u001b[0m\u001b[0m\n\u001b[1;32m    302\u001b[0m          \u001b[0;32mpass\u001b[0m\u001b[0;34m\u001b[0m\u001b[0m\n\u001b[0;32m--> 303\u001b[0;31m    \u001b[0;32mreturn\u001b[0m \u001b[0m_orig_ihook\u001b[0m\u001b[0;34m(\u001b[0m \u001b[0mname\u001b[0m\u001b[0;34m,\u001b[0m \u001b[0;34m*\u001b[0m\u001b[0margs\u001b[0m\u001b[0;34m,\u001b[0m \u001b[0;34m**\u001b[0m\u001b[0mkwds\u001b[0m \u001b[0;34m)\u001b[0m\u001b[0;34m\u001b[0m\u001b[0m\n\u001b[0m\u001b[1;32m    304\u001b[0m \u001b[0;34m\u001b[0m\u001b[0m\n\u001b[1;32m    305\u001b[0m \u001b[0m__builtin__\u001b[0m\u001b[0;34m.\u001b[0m\u001b[0m__import__\u001b[0m \u001b[0;34m=\u001b[0m \u001b[0m_importhook\u001b[0m\u001b[0;34m\u001b[0m\u001b[0m\n",
      "\u001b[0;32m/data/CLAS12/gemc/PyGeom/PyGeom/Vector.py\u001b[0m in \u001b[0;36m<module>\u001b[0;34m()\u001b[0m\n\u001b[1;32m      4\u001b[0m \u001b[0;31m#\u001b[0m\u001b[0;34m\u001b[0m\u001b[0;34m\u001b[0m\u001b[0m\n\u001b[1;32m      5\u001b[0m \u001b[0;31m##############################################################################################################\u001b[0m\u001b[0;34m\u001b[0m\u001b[0;34m\u001b[0m\u001b[0m\n\u001b[0;32m----> 6\u001b[0;31m \u001b[0;32mimport\u001b[0m \u001b[0mnumpy\u001b[0m \u001b[0;32mas\u001b[0m \u001b[0mnp\u001b[0m\u001b[0;34m\u001b[0m\u001b[0m\n\u001b[0m\u001b[1;32m      7\u001b[0m \u001b[0;32mimport\u001b[0m \u001b[0mmath\u001b[0m\u001b[0;34m\u001b[0m\u001b[0m\n\u001b[1;32m      8\u001b[0m \u001b[0;34m\u001b[0m\u001b[0m\n",
      "\u001b[0;32m/Users/maurik/root/root.git/lib/ROOT.pyc\u001b[0m in \u001b[0;36m_importhook\u001b[0;34m(name, *args, **kwds)\u001b[0m\n\u001b[1;32m    301\u001b[0m       \u001b[0;32mexcept\u001b[0m \u001b[0mException\u001b[0m\u001b[0;34m:\u001b[0m\u001b[0;34m\u001b[0m\u001b[0m\n\u001b[1;32m    302\u001b[0m          \u001b[0;32mpass\u001b[0m\u001b[0;34m\u001b[0m\u001b[0m\n\u001b[0;32m--> 303\u001b[0;31m    \u001b[0;32mreturn\u001b[0m \u001b[0m_orig_ihook\u001b[0m\u001b[0;34m(\u001b[0m \u001b[0mname\u001b[0m\u001b[0;34m,\u001b[0m \u001b[0;34m*\u001b[0m\u001b[0margs\u001b[0m\u001b[0;34m,\u001b[0m \u001b[0;34m**\u001b[0m\u001b[0mkwds\u001b[0m \u001b[0;34m)\u001b[0m\u001b[0;34m\u001b[0m\u001b[0m\n\u001b[0m\u001b[1;32m    304\u001b[0m \u001b[0;34m\u001b[0m\u001b[0m\n\u001b[1;32m    305\u001b[0m \u001b[0m__builtin__\u001b[0m\u001b[0;34m.\u001b[0m\u001b[0m__import__\u001b[0m \u001b[0;34m=\u001b[0m \u001b[0m_importhook\u001b[0m\u001b[0;34m\u001b[0m\u001b[0m\n",
      "\u001b[0;31mImportError\u001b[0m: No module named numpy"
     ]
    }
   ],
   "source": [
    "import ROOT as R\n",
    "from PyGeom import GeometryEngine, Geometry, GeometryROOT"
   ]
  },
  {
   "cell_type": "markdown",
   "metadata": {},
   "source": [
    "*Note that the last line returns a message that only shows up in this notebook, since this is JupyROOT. Also note, if MySQLdb is not installed for Python, initializeing the GeometryEngine will warn you that you will not be able to write to a database. Ask your sysadmin on how to install the MySQLdb module in Python.*\n",
    "\n",
    "We now want to initialize the GeometryEngine. The name \"TestGeom\" is the name of the Gemc \"detector\", so the text files written out will have names like: <code>TestGeom__geometry_original.txt</code>."
   ]
  },
  {
   "cell_type": "code",
   "execution_count": null,
   "metadata": {
    "collapsed": true
   },
   "outputs": [],
   "source": [
    "gen = GeometryEngine(\"TestGeom\")"
   ]
  },
  {
   "cell_type": "markdown",
   "metadata": {
    "collapsed": false
   },
   "source": [
    "Let's define a simple scintillator paddle, dimensions 2x2x10cm, and positioned 20cm down stream of the target, which is at the origin: (0,0,0). We create the paddle by creating a Geometry object, and giving that object the needed parameter:"
   ]
  },
  {
   "cell_type": "code",
   "execution_count": null,
   "metadata": {
    "collapsed": false
   },
   "outputs": [],
   "source": [
    "paddle = Geometry(name=\"paddle_1\",mother=\"root\",description=\"Example of a paddle\",\n",
    "                  pos=[0, 0, 20], pos_units='cm', \n",
    "                  rot=[0, 0, 0], rot_units='rad',\n",
    "                  col='339999', \n",
    "                  g4type='Box', \n",
    "                  dimensions=[2,2,10],dims_units='cm',\n",
    "                  material='ScintillatorB')"
   ]
  },
  {
   "cell_type": "markdown",
   "metadata": {},
   "source": [
    "**Some notes:**\n",
    "   - If you forget what parameters are needed/allowed, type: help(Geometry) at the prompt, and look at the __init__() line which will show you all the options.\n",
    "   - There is a bit of flexibility build into the Geometry. You can specify the position as a \"vector\": [x,y,z], or you can specify it as a string: \" 10.*cm 15.2*cm 1000*mm \".\n",
    "   - More flexibility, if you want units \"cm\" and \"rad\", then you can leave them out. If you want to mix units, then specify them as an array. So <code> pos=\"10.*cm 15.2*cm 1000*mm\" </code> is the same as <code> pos=[10.,15.2,1000.],pos_units=['cm','cm','mm'] </code>\n",
    "   - It is MUCH safer to specify a name for every argument, because then the order is not important. If you are careful about the order, and don't skip arguments, you can leave out the names (like C++ or Fortran).  \n"
   ]
  },
  {
   "cell_type": "markdown",
   "metadata": {},
   "source": [
    "Now we add this geometry object to the GeometryEngine: "
   ]
  },
  {
   "cell_type": "code",
   "execution_count": null,
   "metadata": {
    "collapsed": true
   },
   "outputs": [],
   "source": [
    "gen.add(paddle)"
   ]
  },
  {
   "cell_type": "markdown",
   "metadata": {},
   "source": [
    "Let'd also add a target, at (0,0,0), made of liquid hydrogen (G4_lH2), and small flat pancake shape: a tube of 2 cm radius and 2 mm thickness. To show you a different way of entering the volume, we do the whole thing in one line:"
   ]
  },
  {
   "cell_type": "code",
   "execution_count": null,
   "metadata": {
    "collapsed": false
   },
   "outputs": [],
   "source": [
    "gen.add( Geometry(name=\"target\",mother=\"root\",description=\"A thin LH2 target\",\n",
    "                  pos=\"0*cm 0*cm 0*cm\",\n",
    "                  rot=\"0*deg 0*deg 0*deg\",\n",
    "                  g4type=\"Tube\",\n",
    "                  dimensions=\" 0*cm 2*cm 2*mm 0*deg 360*deg\",\n",
    "                  material=\"G4_lH2\",\n",
    "                  col=\"CC0000\"))"
   ]
  },
  {
   "cell_type": "markdown",
   "metadata": {},
   "source": [
    "After you have added a number of items, you may now want to inspect what you have in your geometry. You can do this by simply printing the objects. You can print the GeometryEngine, to get a list of what is in it. To print the details of a specific Geometry, select it from the GeometryEngine. The Geometry engine is an itterator, so you can itterate on it to print everthing in detail. The detail you get is the same as would be printed in the GEMC geometry text file."
   ]
  },
  {
   "cell_type": "code",
   "execution_count": null,
   "metadata": {
    "collapsed": false
   },
   "outputs": [],
   "source": [
    "print gen\n",
    "print gen['paddle_1']\n",
    "print gen[1]"
   ]
  },
  {
   "cell_type": "code",
   "execution_count": null,
   "metadata": {
    "collapsed": false
   },
   "outputs": [],
   "source": [
    "rr=GeometryROOT()\n",
    "rr.debug = 1    # Set the debug level to 1"
   ]
  },
  {
   "cell_type": "code",
   "execution_count": null,
   "metadata": {
    "collapsed": false
   },
   "outputs": [],
   "source": [
    "rr.create_root_volume(size=[30,30,30],visible=0)"
   ]
  },
  {
   "cell_type": "code",
   "execution_count": null,
   "metadata": {
    "collapsed": false
   },
   "outputs": [],
   "source": [
    "rr.build_volumes(gen)"
   ]
  },
  {
   "cell_type": "markdown",
   "metadata": {
    "collapsed": true
   },
   "source": [
    "Note that some matials are not defined yet in the GeometryROOT package. I am working on adding these, please be patient. For showing the volumes, and for GEMC, these missing materials do not matter at all, they would only be important if you want to track particles through your ROOT geometry. Doing that would still need a significant amount of code...\n",
    "\n",
    "## Drawing the geometry\n",
    "\n",
    "You can now draw the geomerty by calling the \"draw()\" method of your GeometryROOT object.\n",
    "If you do this is a *live* notebook (either a root --notebook, or jupyter notebook, or on binder), then the picture produced below will rotate, zoom etc, just as it would if you executed these command in a python shell."
   ]
  },
  {
   "cell_type": "code",
   "execution_count": 1,
   "metadata": {
    "collapsed": false,
    "scrolled": false
   },
   "outputs": [
    {
     "ename": "NameError",
     "evalue": "name 'rr' is not defined",
     "output_type": "error",
     "traceback": [
      "\u001b[0;31m---------------------------------------------------------------------------\u001b[0m",
      "\u001b[0;31mNameError\u001b[0m                                 Traceback (most recent call last)",
      "\u001b[0;32m<ipython-input-1-fbbf1cdb9986>\u001b[0m in \u001b[0;36m<module>\u001b[0;34m()\u001b[0m\n\u001b[0;32m----> 1\u001b[0;31m \u001b[0mrr\u001b[0m\u001b[0;34m.\u001b[0m\u001b[0mdraw\u001b[0m\u001b[0;34m(\u001b[0m\u001b[0;34m\"oglx\"\u001b[0m\u001b[0;34m)\u001b[0m\u001b[0;34m\u001b[0m\u001b[0m\n\u001b[0m\u001b[1;32m      2\u001b[0m \u001b[0;31m# Note: the 'option' \"olgx\", draws the picture with OpenGL for this notebook. For Python, you may need \"OGL\" instead.\u001b[0m\u001b[0;34m\u001b[0m\u001b[0;34m\u001b[0m\u001b[0m\n\u001b[1;32m      3\u001b[0m \u001b[0;31m# If you leave the option out, the default will be used, which may be a wireframe picture.\u001b[0m\u001b[0;34m\u001b[0m\u001b[0;34m\u001b[0m\u001b[0m\n",
      "\u001b[0;31mNameError\u001b[0m: name 'rr' is not defined"
     ]
    }
   ],
   "source": [
    "rr.draw(\"oglx\")    \n",
    "# Note: the 'option' \"olgx\", draws the picture with OpenGL for this notebook. For Python, you may need \"OGL\" instead.\n",
    "# If you leave the option out, the default will be used, which may be a wireframe picture."
   ]
  },
  {
   "cell_type": "markdown",
   "metadata": {
    "collapsed": true
   },
   "source": [
    "## Modifying\n",
    "Since this is a interactive session for geometry, you probably want to be able to adjust one of your objects, and then look at it again. Let's shorten the paddle from 10 cm to 5 cm.\n",
    "\n",
    "We need to manipulate the object inside the GeometryEngine object, \"gen\". What we do is change the length, and then look at it again.\n",
    "**Note:** We can only have one active GeometryROOT object at one time right now. So we re-initialize our rr object to clear out the old geometry and load the new one. "
   ]
  },
  {
   "cell_type": "code",
   "execution_count": null,
   "metadata": {
    "collapsed": true
   },
   "outputs": [],
   "source": [
    "gen['paddle_1'].dimensions[2]=5"
   ]
  },
  {
   "cell_type": "code",
   "execution_count": null,
   "metadata": {
    "collapsed": false
   },
   "outputs": [],
   "source": [
    "rr = GeometryROOT()\n",
    "rr.create_root_volume()\n",
    "rr.build_volumes(gen)"
   ]
  },
  {
   "cell_type": "code",
   "execution_count": null,
   "metadata": {
    "collapsed": false
   },
   "outputs": [],
   "source": [
    "rr.draw(\"oglx\")"
   ]
  },
  {
   "cell_type": "markdown",
   "metadata": {},
   "source": [
    "## Directly interacting with the ROOT objects\n",
    "It is possible to directly interact with the underlying ROOT objects. This is more *expert level*, but I just want to show you some fun. Let's change the geometry of the paddle again, but now only in ROOT.\n",
    "We now need to access the volume in the store of ROOT objects, in rr._volumes, which is a dictionary."
   ]
  },
  {
   "cell_type": "code",
   "execution_count": null,
   "metadata": {
    "collapsed": false
   },
   "outputs": [],
   "source": [
    "import numpy as np\n",
    "ndims=np.array([10,10,1],dtype='double')\n",
    "rr._volumes['paddle_1'].GetShape().SetDimensions(ndims)\n",
    "rr.draw(\"oglx\")"
   ]
  },
  {
   "cell_type": "markdown",
   "metadata": {},
   "source": [
    "That is it for now. In the next step of this tutorial, we will turn the interactive session of Python into a proper Python script that can be executed to create the GEMC geometry files (or database entries.)"
   ]
  }
 ],
 "metadata": {
  "celltoolbar": "Raw Cell Format",
  "kernelspec": {
   "display_name": "Python 2",
   "language": "python",
   "name": "python2"
  },
  "language_info": {
   "codemirror_mode": {
    "name": "ipython",
    "version": 2
   },
   "file_extension": ".py",
   "mimetype": "text/x-python",
   "name": "python",
   "nbconvert_exporter": "python",
   "pygments_lexer": "ipython2",
   "version": "2.7.12"
  }
 },
 "nbformat": 4,
 "nbformat_minor": 0
}
