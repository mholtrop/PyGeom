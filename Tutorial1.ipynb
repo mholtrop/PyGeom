{
 "cells": [
  {
   "cell_type": "markdown",
   "metadata": {},
   "source": [
    "# PyGeom: Gemc Python Geometry Tutorial\n",
    "\n",
    "This file is more a tutorial. To get the very first steps, please look at the index.ipny file in this directory.\n",
    "In this file I assume you have ROOT installed and have the PyGeom package available. \n",
    "\n",
    "# Table of Contents\n",
    "\n",
    "1. [Getting Started](#getting_started)\n",
    "1. [The Geomtery Engine](#the_geometry_engine) <br>\n",
    "    1.1 [Importing TXT tables](#importing_txt_tables) <br>\n",
    "    1.2 [Inspecting the Geometry](#inspecting_the_geometry) <br>    \n",
    "1. [Geometry Objects](#geometry_objects) <br>\n",
    "    1.1 [Drawing the Geometry](#drawing_the_geometry) <br>\n",
    "    1.2 [Modifying Geometry](#modifying_geometry) <br>\n",
    "    1.3 [Directly interacting with the ROOT objects](#Directly_interacting_with_the_ROOT_objects)\n",
    "\n",
    "<a id=\"getting_started\"></a>\n",
    "# Getting Started\n",
    "\n",
    "To the the ROOT viewing functionality, you need to have installed ROOT on your system and have sourced the \"thisroot.sh\" or \"thisroot.csh\" file so that the ROOT libraries can be found.\n",
    "\n",
    "Similarly, to use the MySQL database connectivity feature, you need to have \"MySQLdb\" installed on your system. This is usually done with: \"pip install mysql-python\" (python 2), or \"pip install mysqlclient\" (python 3). \n",
    "\n",
    "Usually you will not have the PyGeom package installed as a sub-directory of the directory you are working in. You can do two things to make PyGeom available anywhere you are working:\n",
    "1. Add the directory to your PYTHONPATH. In bash: `export PYTHONPATH=/my/directory/PyGeom:${PYTHONPATH}` or in tcsh: `setenv PYTHONPATH /my/directory/PyGeom:$PYTHONPATH`\n",
    "2. In your Python script, add the following, where you want to replace the '/data/CLAS12/gemc/PyGeom' with the directory where you placed the PyGeom files:"
   ]
  },
  {
   "cell_type": "code",
   "execution_count": 1,
   "metadata": {},
   "outputs": [],
   "source": [
    "import sys\n",
    "sys.path.append('/data/CLAS12/gemc/PyGeom')"
   ]
  },
  {
   "cell_type": "markdown",
   "metadata": {},
   "source": [
    "Where '/data/CLAS12/gemc/PyGeom' is the path where I happen to have installed the PyGeom package.\n",
    "\n",
    "_Future versions of PyGeom will come with a setup.py file so you have the option to install the package in a systems location._\n",
    "\n",
    "You should now be able to import the PyGeom package. "
   ]
  },
  {
   "cell_type": "code",
   "execution_count": 1,
   "metadata": {},
   "outputs": [
    {
     "name": "stdout",
     "output_type": "stream",
     "text": [
      "Welcome to JupyROOT 6.27/01\n"
     ]
    }
   ],
   "source": [
    "import PyGeom"
   ]
  },
  {
   "cell_type": "markdown",
   "metadata": {},
   "source": [
    "<a id=\"the_geometry_engine\"></a>\n",
    "# The GeometryEngine\n",
    "\n",
    "\n",
    "The class that stores all individual items for your geometry is the `GeometryEngine`. From the Python docs:"
   ]
  },
  {
   "cell_type": "code",
   "execution_count": 3,
   "metadata": {},
   "outputs": [
    {
     "name": "stdout",
     "output_type": "stream",
     "text": [
      "You can use help(), but it print a lot of text.\n"
     ]
    }
   ],
   "source": [
    "print(\"You can use help(), but it print a lot of text.\")\n",
    "# help(PyGeom.GeometryEngine)"
   ]
  },
  {
   "cell_type": "markdown",
   "metadata": {},
   "source": [
    "Most of the time you would only need to specify the detector name when initializing this class. The database paramters can be specified at initialization, or later when connecting to a database with the GeometryEngine.MySQL_OpenDB() function.\n",
    "\n",
    "A typical command to start the GeometryEngine would thus be:"
   ]
  },
  {
   "cell_type": "code",
   "execution_count": 2,
   "metadata": {},
   "outputs": [],
   "source": [
    "gen = PyGeom.GeometryEngine(\"MyDetector\")"
   ]
  },
  {
   "cell_type": "markdown",
   "metadata": {},
   "source": [
    "You can now add Geometry() objects into this GeometryEngine(), or, as shown below, you can load a text table (or MySQL table) into the geometry."
   ]
  },
  {
   "cell_type": "markdown",
   "metadata": {},
   "source": [
    "<a id=\"importing_txt_tables\"></a>\n",
    "## Importing TXT Tables\n",
    "\n",
    "One nice feature of the GeometryEngine is that it can not only write out GEMC tables, but also read them in. It can do the same with MySQL tables, which can be read as well as written. You can thus use the GeometryEngine to convert between different file formats. One such format for output is Python code, which can be added to a script.\n",
    "\n",
    "Here is an example: read the geometry for the beamline from the standard CLAS12 detector, then show the geometry in a ROOT window and write out a Python template file. Again, you would want to replace the long string '/data/CLAS12/...' with the location of the TXT file you are interested in rendering. Note that TGeoManager is a bit verbose (pink text)"
   ]
  },
  {
   "cell_type": "code",
   "execution_count": 3,
   "metadata": {},
   "outputs": [
    {
     "name": "stderr",
     "output_type": "stream",
     "text": [
      "Info in <TGeoManager::TGeoManager>: Geometry GEMC, Python ROOT Geometry Engine for GEMC created\n"
     ]
    }
   ],
   "source": [
    "gen.txt_read_geometry(\"/data/CLAS12/clas12Tags/4.4.1/experiments/clas12/beamline/beamline__geometry_FTOn.txt\")\n",
    "rr = PyGeom.GeometryROOT()"
   ]
  },
  {
   "cell_type": "code",
   "execution_count": 4,
   "metadata": {},
   "outputs": [
    {
     "ename": "SegmentationViolation",
     "evalue": "void TGeoVolume::Draw(const char* option = \"\") =>\n    SegmentationViolation: segfault in C++; program state was reset",
     "output_type": "error",
     "traceback": [
      "\u001b[0;31m---------------------------------------------------------------------------\u001b[0m",
      "\u001b[0;31mSegmentationViolation\u001b[0m                     Traceback (most recent call last)",
      "\u001b[0;32m<ipython-input-4-7678bb51171a>\u001b[0m in \u001b[0;36m<module>\u001b[0;34m\u001b[0m\n\u001b[1;32m      1\u001b[0m \u001b[0mrr\u001b[0m\u001b[0;34m.\u001b[0m\u001b[0mbuild_volumes\u001b[0m\u001b[0;34m(\u001b[0m\u001b[0mgen\u001b[0m\u001b[0;34m)\u001b[0m\u001b[0;34m\u001b[0m\u001b[0;34m\u001b[0m\u001b[0m\n\u001b[1;32m      2\u001b[0m \u001b[0mrr\u001b[0m\u001b[0;34m.\u001b[0m\u001b[0mclose_geometry\u001b[0m\u001b[0;34m(\u001b[0m\u001b[0;34m)\u001b[0m\u001b[0;34m\u001b[0m\u001b[0;34m\u001b[0m\u001b[0m\n\u001b[0;32m----> 3\u001b[0;31m \u001b[0mrr\u001b[0m\u001b[0;34m.\u001b[0m\u001b[0mdraw\u001b[0m\u001b[0;34m(\u001b[0m\u001b[0;34m\"OGLX\"\u001b[0m\u001b[0;34m)\u001b[0m            \u001b[0;31m# Draw the geometry on the screen. On a Mac use \"ogl\" instead of \"OGLX\"\u001b[0m\u001b[0;34m\u001b[0m\u001b[0;34m\u001b[0m\u001b[0m\n\u001b[0m\u001b[1;32m      4\u001b[0m \u001b[0mgen\u001b[0m\u001b[0;34m.\u001b[0m\u001b[0mPython_Write\u001b[0m\u001b[0;34m(\u001b[0m\u001b[0;34m\"test\"\u001b[0m\u001b[0;34m)\u001b[0m  \u001b[0;31m# Write the file Template_MyDetector.py\u001b[0m\u001b[0;34m\u001b[0m\u001b[0;34m\u001b[0m\u001b[0m\n",
      "\u001b[0;32m/System/Volumes/Data/data/CLAS12/gemc/PyGeom/PyGeom/GeometryROOT.py\u001b[0m in \u001b[0;36mdraw\u001b[0;34m(self, option)\u001b[0m\n\u001b[1;32m   1028\u001b[0m \u001b[0;31m#        self._geom.SetTopVisible(0)\u001b[0m\u001b[0;34m\u001b[0m\u001b[0;34m\u001b[0m\u001b[0;34m\u001b[0m\u001b[0m\n\u001b[1;32m   1029\u001b[0m         \u001b[0mtopvol\u001b[0m\u001b[0;34m.\u001b[0m\u001b[0mSetVisibility\u001b[0m\u001b[0;34m(\u001b[0m\u001b[0;36m0\u001b[0m\u001b[0;34m)\u001b[0m\u001b[0;34m\u001b[0m\u001b[0;34m\u001b[0m\u001b[0m\n\u001b[0;32m-> 1030\u001b[0;31m         \u001b[0mtopvol\u001b[0m\u001b[0;34m.\u001b[0m\u001b[0mDraw\u001b[0m\u001b[0;34m(\u001b[0m\u001b[0moption\u001b[0m\u001b[0;34m)\u001b[0m\u001b[0;34m\u001b[0m\u001b[0;34m\u001b[0m\u001b[0m\n\u001b[0m\u001b[1;32m   1031\u001b[0m \u001b[0;34m\u001b[0m\u001b[0m\n\u001b[1;32m   1032\u001b[0m     \u001b[0;32mdef\u001b[0m \u001b[0m__str__\u001b[0m\u001b[0;34m(\u001b[0m\u001b[0mself\u001b[0m\u001b[0;34m)\u001b[0m\u001b[0;34m:\u001b[0m\u001b[0;34m\u001b[0m\u001b[0;34m\u001b[0m\u001b[0m\n",
      "\u001b[0;31mSegmentationViolation\u001b[0m: void TGeoVolume::Draw(const char* option = \"\") =>\n    SegmentationViolation: segfault in C++; program state was reset"
     ]
    },
    {
     "name": "stdout",
     "output_type": "stream",
     "text": [
      "[/Users/maurik/root/root.git/lib/libCore.so] TUnixSystem::DispatchSignals(ESignals) (no debug info)\n",
      "[/usr/lib/system/libsystem_platform.dylib] _sigtramp (no debug info)\n",
      "[<unknown binary>] (no debug info)\n",
      "[/Users/maurik/root/root.git/lib/libcppyy_backend3_8.so] WrapperCall(long, unsigned long, void*, void*, void*) (no debug info)\n",
      "[/Users/maurik/root/root.git/lib/libcppyy3_8.so] CPyCppyy::(anonymous namespace)::VoidExecutor::Execute(long, void*, CPyCppyy::CallContext*) (no debug info)\n",
      "[/Users/maurik/root/root.git/lib/libcppyy3_8.so] CPyCppyy::CPPMethod::ExecuteFast(void*, long, CPyCppyy::CallContext*) (no debug info)\n",
      "[/Users/maurik/root/root.git/lib/libcppyy3_8.so] CPyCppyy::CPPMethod::ExecuteProtected(void*, long, CPyCppyy::CallContext*) (no debug info)\n",
      "[/Users/maurik/root/root.git/lib/libcppyy3_8.so] CPyCppyy::CPPMethod::Call(CPyCppyy::CPPInstance*&, _object*, _object*, CPyCppyy::CallContext*) (no debug info)\n",
      "[/Users/maurik/root/root.git/lib/libcppyy3_8.so] CPyCppyy::(anonymous namespace)::mp_call(CPyCppyy::CPPOverload*, _object*, _object*) (no debug info)\n",
      "[/usr/local/Cellar/python@3.8/3.8.8_1/Frameworks/Python.framework/Versions/3.8/Python] _PyObject_MakeTpCall (no debug info)\n",
      "[/usr/local/Cellar/python@3.8/3.8.8_1/Frameworks/Python.framework/Versions/3.8/Python] call_function (no debug info)\n",
      "[/usr/local/Cellar/python@3.8/3.8.8_1/Frameworks/Python.framework/Versions/3.8/Python] _PyEval_EvalFrameDefault (no debug info)\n",
      "[/usr/local/Cellar/python@3.8/3.8.8_1/Frameworks/Python.framework/Versions/3.8/Python] _PyEval_EvalCodeWithName (no debug info)\n",
      "[/usr/local/Cellar/python@3.8/3.8.8_1/Frameworks/Python.framework/Versions/3.8/Python] _PyFunction_Vectorcall (no debug info)\n",
      "[/usr/local/Cellar/python@3.8/3.8.8_1/Frameworks/Python.framework/Versions/3.8/Python] call_function (no debug info)\n",
      "[/usr/local/Cellar/python@3.8/3.8.8_1/Frameworks/Python.framework/Versions/3.8/Python] _PyEval_EvalFrameDefault (no debug info)\n",
      "[/usr/local/Cellar/python@3.8/3.8.8_1/Frameworks/Python.framework/Versions/3.8/Python] _PyEval_EvalCodeWithName (no debug info)\n",
      "[/usr/local/Cellar/python@3.8/3.8.8_1/Frameworks/Python.framework/Versions/3.8/Python] PyEval_EvalCode (no debug info)\n",
      "[/usr/local/Cellar/python@3.8/3.8.8_1/Frameworks/Python.framework/Versions/3.8/Python] builtin_exec (no debug info)\n",
      "[/usr/local/Cellar/python@3.8/3.8.8_1/Frameworks/Python.framework/Versions/3.8/Python] cfunction_vectorcall_FASTCALL (no debug info)\n",
      "[/usr/local/Cellar/python@3.8/3.8.8_1/Frameworks/Python.framework/Versions/3.8/Python] call_function (no debug info)\n",
      "[/usr/local/Cellar/python@3.8/3.8.8_1/Frameworks/Python.framework/Versions/3.8/Python] _PyEval_EvalFrameDefault (no debug info)\n",
      "[/usr/local/Cellar/python@3.8/3.8.8_1/Frameworks/Python.framework/Versions/3.8/Python] gen_send_ex (no debug info)\n",
      "[/usr/local/Cellar/python@3.8/3.8.8_1/Frameworks/Python.framework/Versions/3.8/Python] _PyEval_EvalFrameDefault (no debug info)\n",
      "[/usr/local/Cellar/python@3.8/3.8.8_1/Frameworks/Python.framework/Versions/3.8/Python] gen_send_ex (no debug info)\n",
      "[/usr/local/Cellar/python@3.8/3.8.8_1/Frameworks/Python.framework/Versions/3.8/Python] _PyEval_EvalFrameDefault (no debug info)\n",
      "[/usr/local/Cellar/python@3.8/3.8.8_1/Frameworks/Python.framework/Versions/3.8/Python] gen_send_ex (no debug info)\n",
      "[/usr/local/Cellar/python@3.8/3.8.8_1/Frameworks/Python.framework/Versions/3.8/Python] method_vectorcall_O (no debug info)\n",
      "[/usr/local/Cellar/python@3.8/3.8.8_1/Frameworks/Python.framework/Versions/3.8/Python] call_function (no debug info)\n",
      "[/usr/local/Cellar/python@3.8/3.8.8_1/Frameworks/Python.framework/Versions/3.8/Python] _PyEval_EvalFrameDefault (no debug info)\n",
      "[/usr/local/Cellar/python@3.8/3.8.8_1/Frameworks/Python.framework/Versions/3.8/Python] function_code_fastcall (no debug info)\n",
      "[/usr/local/Cellar/python@3.8/3.8.8_1/Frameworks/Python.framework/Versions/3.8/Python] call_function (no debug info)\n",
      "[/usr/local/Cellar/python@3.8/3.8.8_1/Frameworks/Python.framework/Versions/3.8/Python] _PyEval_EvalFrameDefault (no debug info)\n",
      "[/usr/local/Cellar/python@3.8/3.8.8_1/Frameworks/Python.framework/Versions/3.8/Python] function_code_fastcall (no debug info)\n",
      "[/usr/local/Cellar/python@3.8/3.8.8_1/Frameworks/Python.framework/Versions/3.8/Python] call_function (no debug info)\n",
      "[/usr/local/Cellar/python@3.8/3.8.8_1/Frameworks/Python.framework/Versions/3.8/Python] _PyEval_EvalFrameDefault (no debug info)\n",
      "[/usr/local/Cellar/python@3.8/3.8.8_1/Frameworks/Python.framework/Versions/3.8/Python] _PyEval_EvalCodeWithName (no debug info)\n",
      "[/usr/local/Cellar/python@3.8/3.8.8_1/Frameworks/Python.framework/Versions/3.8/Python] _PyFunction_Vectorcall (no debug info)\n",
      "[/usr/local/Cellar/python@3.8/3.8.8_1/Frameworks/Python.framework/Versions/3.8/Python] method_vectorcall (no debug info)\n",
      "[/usr/local/Cellar/python@3.8/3.8.8_1/Frameworks/Python.framework/Versions/3.8/Python] PyVectorcall_Call (no debug info)\n",
      "[/usr/local/Cellar/python@3.8/3.8.8_1/Frameworks/Python.framework/Versions/3.8/Python] _PyEval_EvalFrameDefault (no debug info)\n",
      "[/usr/local/Cellar/python@3.8/3.8.8_1/Frameworks/Python.framework/Versions/3.8/Python] _PyEval_EvalCodeWithName (no debug info)\n",
      "[/usr/local/Cellar/python@3.8/3.8.8_1/Frameworks/Python.framework/Versions/3.8/Python] _PyFunction_Vectorcall (no debug info)\n",
      "[/usr/local/Cellar/python@3.8/3.8.8_1/Frameworks/Python.framework/Versions/3.8/Python] method_vectorcall (no debug info)\n",
      "[/usr/local/Cellar/python@3.8/3.8.8_1/Frameworks/Python.framework/Versions/3.8/Python] call_function (no debug info)\n",
      "[/usr/local/Cellar/python@3.8/3.8.8_1/Frameworks/Python.framework/Versions/3.8/Python] _PyEval_EvalFrameDefault (no debug info)\n",
      "[/usr/local/Cellar/python@3.8/3.8.8_1/Frameworks/Python.framework/Versions/3.8/Python] gen_send_ex (no debug info)\n",
      "[/usr/local/Cellar/python@3.8/3.8.8_1/Frameworks/Python.framework/Versions/3.8/Python] builtin_next (no debug info)\n",
      "[/usr/local/Cellar/python@3.8/3.8.8_1/Frameworks/Python.framework/Versions/3.8/Python] cfunction_vectorcall_FASTCALL (no debug info)\n",
      "[/usr/local/Cellar/python@3.8/3.8.8_1/Frameworks/Python.framework/Versions/3.8/Python] call_function (no debug info)\n",
      "[/usr/local/Cellar/python@3.8/3.8.8_1/Frameworks/Python.framework/Versions/3.8/Python] _PyEval_EvalFrameDefault (no debug info)\n",
      "[/usr/local/Cellar/python@3.8/3.8.8_1/Frameworks/Python.framework/Versions/3.8/Python] _PyEval_EvalCodeWithName (no debug info)\n",
      "[/usr/local/Cellar/python@3.8/3.8.8_1/Frameworks/Python.framework/Versions/3.8/Python] _PyFunction_Vectorcall (no debug info)\n",
      "[/usr/local/Cellar/python@3.8/3.8.8_1/Frameworks/Python.framework/Versions/3.8/Python] call_function (no debug info)\n",
      "[/usr/local/Cellar/python@3.8/3.8.8_1/Frameworks/Python.framework/Versions/3.8/Python] _PyEval_EvalFrameDefault (no debug info)\n",
      "[/usr/local/Cellar/python@3.8/3.8.8_1/Frameworks/Python.framework/Versions/3.8/Python] gen_send_ex (no debug info)\n",
      "[/usr/local/Cellar/python@3.8/3.8.8_1/Frameworks/Python.framework/Versions/3.8/Python] builtin_next (no debug info)\n",
      "[/usr/local/Cellar/python@3.8/3.8.8_1/Frameworks/Python.framework/Versions/3.8/Python] cfunction_vectorcall_FASTCALL (no debug info)\n",
      "[/usr/local/Cellar/python@3.8/3.8.8_1/Frameworks/Python.framework/Versions/3.8/Python] call_function (no debug info)\n",
      "[/usr/local/Cellar/python@3.8/3.8.8_1/Frameworks/Python.framework/Versions/3.8/Python] _PyEval_EvalFrameDefault (no debug info)\n",
      "[/usr/local/Cellar/python@3.8/3.8.8_1/Frameworks/Python.framework/Versions/3.8/Python] _PyEval_EvalCodeWithName (no debug info)\n",
      "[/usr/local/Cellar/python@3.8/3.8.8_1/Frameworks/Python.framework/Versions/3.8/Python] _PyFunction_Vectorcall (no debug info)\n",
      "[/usr/local/Cellar/python@3.8/3.8.8_1/Frameworks/Python.framework/Versions/3.8/Python] method_vectorcall (no debug info)\n",
      "[/usr/local/Cellar/python@3.8/3.8.8_1/Frameworks/Python.framework/Versions/3.8/Python] call_function (no debug info)\n",
      "[/usr/local/Cellar/python@3.8/3.8.8_1/Frameworks/Python.framework/Versions/3.8/Python] _PyEval_EvalFrameDefault (no debug info)\n",
      "[/usr/local/Cellar/python@3.8/3.8.8_1/Frameworks/Python.framework/Versions/3.8/Python] gen_send_ex (no debug info)\n",
      "[/usr/local/Cellar/python@3.8/3.8.8_1/Frameworks/Python.framework/Versions/3.8/Python] builtin_next (no debug info)\n",
      "[/usr/local/Cellar/python@3.8/3.8.8_1/Frameworks/Python.framework/Versions/3.8/Python] cfunction_vectorcall_FASTCALL (no debug info)\n",
      "[/usr/local/Cellar/python@3.8/3.8.8_1/Frameworks/Python.framework/Versions/3.8/Python] call_function (no debug info)\n",
      "[/usr/local/Cellar/python@3.8/3.8.8_1/Frameworks/Python.framework/Versions/3.8/Python] _PyEval_EvalFrameDefault (no debug info)\n",
      "[/usr/local/Cellar/python@3.8/3.8.8_1/Frameworks/Python.framework/Versions/3.8/Python] _PyEval_EvalCodeWithName (no debug info)\n",
      "[/usr/local/Cellar/python@3.8/3.8.8_1/Frameworks/Python.framework/Versions/3.8/Python] _PyFunction_Vectorcall (no debug info)\n",
      "[/usr/local/Cellar/python@3.8/3.8.8_1/Frameworks/Python.framework/Versions/3.8/Python] method_vectorcall (no debug info)\n",
      "[/usr/local/Cellar/python@3.8/3.8.8_1/Frameworks/Python.framework/Versions/3.8/Python] PyVectorcall_Call (no debug info)\n",
      "[/usr/local/Cellar/python@3.8/3.8.8_1/Frameworks/Python.framework/Versions/3.8/Python] _PyEval_EvalFrameDefault (no debug info)\n",
      "[/usr/local/Cellar/python@3.8/3.8.8_1/Frameworks/Python.framework/Versions/3.8/Python] gen_send_ex (no debug info)\n",
      "[/usr/local/Cellar/python@3.8/3.8.8_1/Frameworks/Python.framework/Versions/3.8/Python] method_vectorcall_O (no debug info)\n",
      "[/usr/local/Cellar/python@3.8/3.8.8_1/Frameworks/Python.framework/Versions/3.8/Python] call_function (no debug info)\n",
      "[/usr/local/Cellar/python@3.8/3.8.8_1/Frameworks/Python.framework/Versions/3.8/Python] _PyEval_EvalFrameDefault (no debug info)\n",
      "[/usr/local/Cellar/python@3.8/3.8.8_1/Frameworks/Python.framework/Versions/3.8/Python] function_code_fastcall (no debug info)\n",
      "[/usr/local/Cellar/python@3.8/3.8.8_1/Frameworks/Python.framework/Versions/3.8/Python] call_function (no debug info)\n",
      "[/usr/local/Cellar/python@3.8/3.8.8_1/Frameworks/Python.framework/Versions/3.8/Python] _PyEval_EvalFrameDefault (no debug info)\n",
      "[/usr/local/Cellar/python@3.8/3.8.8_1/Frameworks/Python.framework/Versions/3.8/Python] _PyEval_EvalCodeWithName (no debug info)\n",
      "[/usr/local/Cellar/python@3.8/3.8.8_1/Frameworks/Python.framework/Versions/3.8/Python] _PyFunction_Vectorcall (no debug info)\n",
      "[/usr/local/Cellar/python@3.8/3.8.8_1/Frameworks/Python.framework/Versions/3.8/Python] _PyObject_FastCallDict (no debug info)\n",
      "[/usr/local/Cellar/python@3.8/3.8.8_1/Frameworks/Python.framework/Versions/3.8/Python] partial_call (no debug info)\n",
      "[/usr/local/Cellar/python@3.8/3.8.8_1/Frameworks/Python.framework/Versions/3.8/Python] _PyObject_MakeTpCall (no debug info)\n",
      "[/usr/local/Cellar/python@3.8/3.8.8_1/Frameworks/Python.framework/Versions/3.8/Python] call_function (no debug info)\n",
      "[/usr/local/Cellar/python@3.8/3.8.8_1/Frameworks/Python.framework/Versions/3.8/Python] _PyEval_EvalFrameDefault (no debug info)\n",
      "[/usr/local/Cellar/python@3.8/3.8.8_1/Frameworks/Python.framework/Versions/3.8/Python] function_code_fastcall (no debug info)\n",
      "[/usr/local/Cellar/python@3.8/3.8.8_1/Frameworks/Python.framework/Versions/3.8/Python] call_function (no debug info)\n",
      "[/usr/local/Cellar/python@3.8/3.8.8_1/Frameworks/Python.framework/Versions/3.8/Python] _PyEval_EvalFrameDefault (no debug info)\n",
      "[/usr/local/Cellar/python@3.8/3.8.8_1/Frameworks/Python.framework/Versions/3.8/Python] _PyEval_EvalCodeWithName (no debug info)\n",
      "[/usr/local/Cellar/python@3.8/3.8.8_1/Frameworks/Python.framework/Versions/3.8/Python] _PyFunction_Vectorcall (no debug info)\n",
      "[/usr/local/Cellar/python@3.8/3.8.8_1/Frameworks/Python.framework/Versions/3.8/Python] context_run (no debug info)\n",
      "[/usr/local/Cellar/python@3.8/3.8.8_1/Frameworks/Python.framework/Versions/3.8/Python] cfunction_vectorcall_FASTCALL_KEYWORDS (no debug info)\n",
      "[/usr/local/Cellar/python@3.8/3.8.8_1/Frameworks/Python.framework/Versions/3.8/Python] PyVectorcall_Call (no debug info)\n",
      "[/usr/local/Cellar/python@3.8/3.8.8_1/Frameworks/Python.framework/Versions/3.8/Python] _PyEval_EvalFrameDefault (no debug info)\n",
      "[/usr/local/Cellar/python@3.8/3.8.8_1/Frameworks/Python.framework/Versions/3.8/Python] function_code_fastcall (no debug info)\n",
      "[/usr/local/Cellar/python@3.8/3.8.8_1/Frameworks/Python.framework/Versions/3.8/Python] call_function (no debug info)\n",
      "[/usr/local/Cellar/python@3.8/3.8.8_1/Frameworks/Python.framework/Versions/3.8/Python] _PyEval_EvalFrameDefault (no debug info)\n",
      "[/usr/local/Cellar/python@3.8/3.8.8_1/Frameworks/Python.framework/Versions/3.8/Python] function_code_fastcall (no debug info)\n",
      "[/usr/local/Cellar/python@3.8/3.8.8_1/Frameworks/Python.framework/Versions/3.8/Python] call_function (no debug info)\n",
      "[/usr/local/Cellar/python@3.8/3.8.8_1/Frameworks/Python.framework/Versions/3.8/Python] _PyEval_EvalFrameDefault (no debug info)\n",
      "[/usr/local/Cellar/python@3.8/3.8.8_1/Frameworks/Python.framework/Versions/3.8/Python] function_code_fastcall (no debug info)\n",
      "[/usr/local/Cellar/python@3.8/3.8.8_1/Frameworks/Python.framework/Versions/3.8/Python] call_function (no debug info)\n",
      "[/usr/local/Cellar/python@3.8/3.8.8_1/Frameworks/Python.framework/Versions/3.8/Python] _PyEval_EvalFrameDefault (no debug info)\n",
      "[/usr/local/Cellar/python@3.8/3.8.8_1/Frameworks/Python.framework/Versions/3.8/Python] function_code_fastcall (no debug info)\n",
      "[/usr/local/Cellar/python@3.8/3.8.8_1/Frameworks/Python.framework/Versions/3.8/Python] call_function (no debug info)\n",
      "[/usr/local/Cellar/python@3.8/3.8.8_1/Frameworks/Python.framework/Versions/3.8/Python] _PyEval_EvalFrameDefault (no debug info)\n",
      "[/usr/local/Cellar/python@3.8/3.8.8_1/Frameworks/Python.framework/Versions/3.8/Python] function_code_fastcall (no debug info)\n",
      "[/usr/local/Cellar/python@3.8/3.8.8_1/Frameworks/Python.framework/Versions/3.8/Python] call_function (no debug info)\n",
      "[/usr/local/Cellar/python@3.8/3.8.8_1/Frameworks/Python.framework/Versions/3.8/Python] _PyEval_EvalFrameDefault (no debug info)\n",
      "[/usr/local/Cellar/python@3.8/3.8.8_1/Frameworks/Python.framework/Versions/3.8/Python] _PyEval_EvalCodeWithName (no debug info)\n",
      "[/usr/local/Cellar/python@3.8/3.8.8_1/Frameworks/Python.framework/Versions/3.8/Python] _PyFunction_Vectorcall (no debug info)\n",
      "[/usr/local/Cellar/python@3.8/3.8.8_1/Frameworks/Python.framework/Versions/3.8/Python] method_vectorcall (no debug info)\n",
      "[/usr/local/Cellar/python@3.8/3.8.8_1/Frameworks/Python.framework/Versions/3.8/Python] call_function (no debug info)\n",
      "[/usr/local/Cellar/python@3.8/3.8.8_1/Frameworks/Python.framework/Versions/3.8/Python] _PyEval_EvalFrameDefault (no debug info)\n",
      "[/usr/local/Cellar/python@3.8/3.8.8_1/Frameworks/Python.framework/Versions/3.8/Python] _PyEval_EvalCodeWithName (no debug info)\n",
      "[/usr/local/Cellar/python@3.8/3.8.8_1/Frameworks/Python.framework/Versions/3.8/Python] PyEval_EvalCode (no debug info)\n",
      "[/usr/local/Cellar/python@3.8/3.8.8_1/Frameworks/Python.framework/Versions/3.8/Python] builtin_exec (no debug info)\n",
      "[/usr/local/Cellar/python@3.8/3.8.8_1/Frameworks/Python.framework/Versions/3.8/Python] cfunction_vectorcall_FASTCALL (no debug info)\n",
      "[/usr/local/Cellar/python@3.8/3.8.8_1/Frameworks/Python.framework/Versions/3.8/Python] call_function (no debug info)\n",
      "[/usr/local/Cellar/python@3.8/3.8.8_1/Frameworks/Python.framework/Versions/3.8/Python] _PyEval_EvalFrameDefault (no debug info)\n",
      "[/usr/local/Cellar/python@3.8/3.8.8_1/Frameworks/Python.framework/Versions/3.8/Python] _PyEval_EvalCodeWithName (no debug info)\n",
      "[/usr/local/Cellar/python@3.8/3.8.8_1/Frameworks/Python.framework/Versions/3.8/Python] _PyFunction_Vectorcall (no debug info)\n",
      "Error in callback <bound method CaptureDrawnPrimitives._post_execute of <JupyROOT.helpers.utils.CaptureDrawnPrimitives object at 0x13224beb0>> (for post_execute):\n"
     ]
    },
    {
     "name": "stderr",
     "output_type": "stream",
     "text": [
      "Info in <TGeoManager::SetTopVolume>: Top volume is root. Master volume is root\n",
      "Info in <TGeoNavigator::BuildCache>: --- Maximum geometry depth set to 100\n",
      "Info in <TGeoManager::CheckGeometry>: Fixing runtime shapes...\n",
      "Info in <TGeoManager::CheckGeometry>: ...Nothing to fix\n",
      "Info in <TGeoManager::CloseGeometry>: Counting nodes...\n",
      "Info in <TGeoManager::Voxelize>: Voxelizing...\n",
      "Info in <TGeoManager::CloseGeometry>: Building cache...\n",
      "Info in <TGeoManager::CountLevels>: max level = 2, max placements = 5\n",
      "Info in <TGeoManager::CloseGeometry>: 9 nodes/ 9 volume UID's in Python ROOT Geometry Engine for GEMC\n",
      "Info in <TGeoManager::CloseGeometry>: ----------------modeler ready----------------\n",
      "Error in <TPluginHandler::SetupCallEnv>: class ROOT::Experimental::REveGeoPainter not found in plugin ROOTEve\n",
      "Error in <TGeoManager::GetGeomPainter>: could not create web geo_painter\n",
      " *** Break *** segmentation violation\n"
     ]
    },
    {
     "ename": "AttributeError",
     "evalue": "'TGeoVolume' object has no attribute 'GetListOfPrimitives'",
     "output_type": "error",
     "traceback": [
      "\u001b[0;31m---------------------------------------------------------------------------\u001b[0m",
      "\u001b[0;31mAttributeError\u001b[0m                            Traceback (most recent call last)",
      "\u001b[0;32m~/root/root.git/lib/JupyROOT/helpers/utils.py\u001b[0m in \u001b[0;36m_post_execute\u001b[0;34m(self)\u001b[0m\n\u001b[1;32m    459\u001b[0m \u001b[0;34m\u001b[0m\u001b[0m\n\u001b[1;32m    460\u001b[0m     \u001b[0;32mdef\u001b[0m \u001b[0m_post_execute\u001b[0m\u001b[0;34m(\u001b[0m\u001b[0mself\u001b[0m\u001b[0;34m)\u001b[0m\u001b[0;34m:\u001b[0m\u001b[0;34m\u001b[0m\u001b[0;34m\u001b[0m\u001b[0m\n\u001b[0;32m--> 461\u001b[0;31m         \u001b[0mNotebookDraw\u001b[0m\u001b[0;34m(\u001b[0m\u001b[0;34m)\u001b[0m\u001b[0;34m\u001b[0m\u001b[0;34m\u001b[0m\u001b[0m\n\u001b[0m\u001b[1;32m    462\u001b[0m \u001b[0;34m\u001b[0m\u001b[0m\n\u001b[1;32m    463\u001b[0m     \u001b[0;32mdef\u001b[0m \u001b[0mregister\u001b[0m\u001b[0;34m(\u001b[0m\u001b[0mself\u001b[0m\u001b[0;34m)\u001b[0m\u001b[0;34m:\u001b[0m\u001b[0;34m\u001b[0m\u001b[0;34m\u001b[0m\u001b[0m\n",
      "\u001b[0;32m~/root/root.git/lib/JupyROOT/helpers/utils.py\u001b[0m in \u001b[0;36mNotebookDraw\u001b[0;34m()\u001b[0m\n\u001b[1;32m    447\u001b[0m \u001b[0;34m\u001b[0m\u001b[0m\n\u001b[1;32m    448\u001b[0m \u001b[0;32mdef\u001b[0m \u001b[0mNotebookDraw\u001b[0m\u001b[0;34m(\u001b[0m\u001b[0;34m)\u001b[0m\u001b[0;34m:\u001b[0m\u001b[0;34m\u001b[0m\u001b[0;34m\u001b[0m\u001b[0m\n\u001b[0;32m--> 449\u001b[0;31m     \u001b[0mDrawGeometry\u001b[0m\u001b[0;34m(\u001b[0m\u001b[0;34m)\u001b[0m\u001b[0;34m\u001b[0m\u001b[0;34m\u001b[0m\u001b[0m\n\u001b[0m\u001b[1;32m    450\u001b[0m     \u001b[0mDrawCanvases\u001b[0m\u001b[0;34m(\u001b[0m\u001b[0;34m)\u001b[0m\u001b[0;34m\u001b[0m\u001b[0;34m\u001b[0m\u001b[0m\n\u001b[1;32m    451\u001b[0m     \u001b[0mDrawRCanvases\u001b[0m\u001b[0;34m(\u001b[0m\u001b[0;34m)\u001b[0m\u001b[0;34m\u001b[0m\u001b[0;34m\u001b[0m\u001b[0m\n",
      "\u001b[0;32m~/root/root.git/lib/JupyROOT/helpers/utils.py\u001b[0m in \u001b[0;36mDrawGeometry\u001b[0;34m()\u001b[0m\n\u001b[1;32m    434\u001b[0m     \u001b[0mdrawer\u001b[0m \u001b[0;34m=\u001b[0m \u001b[0mGetGeometryDrawer\u001b[0m\u001b[0;34m(\u001b[0m\u001b[0;34m)\u001b[0m\u001b[0;34m\u001b[0m\u001b[0;34m\u001b[0m\u001b[0m\n\u001b[1;32m    435\u001b[0m     \u001b[0;32mif\u001b[0m \u001b[0mdrawer\u001b[0m\u001b[0;34m:\u001b[0m\u001b[0;34m\u001b[0m\u001b[0;34m\u001b[0m\u001b[0m\n\u001b[0;32m--> 436\u001b[0;31m         \u001b[0mdrawer\u001b[0m\u001b[0;34m.\u001b[0m\u001b[0mDraw\u001b[0m\u001b[0;34m(\u001b[0m\u001b[0;34m)\u001b[0m\u001b[0;34m\u001b[0m\u001b[0;34m\u001b[0m\u001b[0m\n\u001b[0m\u001b[1;32m    437\u001b[0m \u001b[0;34m\u001b[0m\u001b[0m\n\u001b[1;32m    438\u001b[0m \u001b[0;32mdef\u001b[0m \u001b[0mDrawCanvases\u001b[0m\u001b[0;34m(\u001b[0m\u001b[0;34m)\u001b[0m\u001b[0;34m:\u001b[0m\u001b[0;34m\u001b[0m\u001b[0;34m\u001b[0m\u001b[0m\n",
      "\u001b[0;32m~/root/root.git/lib/JupyROOT/helpers/utils.py\u001b[0m in \u001b[0;36mDraw\u001b[0;34m(self)\u001b[0m\n\u001b[1;32m    596\u001b[0m \u001b[0;34m\u001b[0m\u001b[0m\n\u001b[1;32m    597\u001b[0m     \u001b[0;32mdef\u001b[0m \u001b[0mDraw\u001b[0m\u001b[0;34m(\u001b[0m\u001b[0mself\u001b[0m\u001b[0;34m)\u001b[0m\u001b[0;34m:\u001b[0m\u001b[0;34m\u001b[0m\u001b[0;34m\u001b[0m\u001b[0m\n\u001b[0;32m--> 598\u001b[0;31m         \u001b[0mself\u001b[0m\u001b[0;34m.\u001b[0m\u001b[0m_display\u001b[0m\u001b[0;34m(\u001b[0m\u001b[0;34m)\u001b[0m\u001b[0;34m\u001b[0m\u001b[0;34m\u001b[0m\u001b[0m\n\u001b[0m\u001b[1;32m    599\u001b[0m         \u001b[0;32mreturn\u001b[0m \u001b[0;36m0\u001b[0m\u001b[0;34m\u001b[0m\u001b[0;34m\u001b[0m\u001b[0m\n\u001b[1;32m    600\u001b[0m \u001b[0;34m\u001b[0m\u001b[0m\n",
      "\u001b[0;32m~/root/root.git/lib/JupyROOT/helpers/utils.py\u001b[0m in \u001b[0;36m_display\u001b[0;34m(self)\u001b[0m\n\u001b[1;32m    579\u001b[0m        \u001b[0;32melse\u001b[0m\u001b[0;34m:\u001b[0m\u001b[0;34m\u001b[0m\u001b[0;34m\u001b[0m\u001b[0m\n\u001b[1;32m    580\u001b[0m          \u001b[0;32mif\u001b[0m \u001b[0mself\u001b[0m\u001b[0;34m.\u001b[0m\u001b[0m_canJsDisplay\u001b[0m\u001b[0;34m(\u001b[0m\u001b[0;34m)\u001b[0m\u001b[0;34m:\u001b[0m\u001b[0;34m\u001b[0m\u001b[0;34m\u001b[0m\u001b[0m\n\u001b[0;32m--> 581\u001b[0;31m             \u001b[0mself\u001b[0m\u001b[0;34m.\u001b[0m\u001b[0m_jsDisplay\u001b[0m\u001b[0;34m(\u001b[0m\u001b[0;34m)\u001b[0m\u001b[0;34m\u001b[0m\u001b[0;34m\u001b[0m\u001b[0m\n\u001b[0m\u001b[1;32m    582\u001b[0m          \u001b[0;32melse\u001b[0m\u001b[0;34m:\u001b[0m\u001b[0;34m\u001b[0m\u001b[0;34m\u001b[0m\u001b[0m\n\u001b[1;32m    583\u001b[0m             \u001b[0mself\u001b[0m\u001b[0;34m.\u001b[0m\u001b[0m_pngDisplay\u001b[0m\u001b[0;34m(\u001b[0m\u001b[0;34m)\u001b[0m\u001b[0;34m\u001b[0m\u001b[0;34m\u001b[0m\u001b[0m\n",
      "\u001b[0;32m~/root/root.git/lib/JupyROOT/helpers/utils.py\u001b[0m in \u001b[0;36m_jsDisplay\u001b[0;34m(self)\u001b[0m\n\u001b[1;32m    557\u001b[0m \u001b[0;34m\u001b[0m\u001b[0m\n\u001b[1;32m    558\u001b[0m     \u001b[0;32mdef\u001b[0m \u001b[0m_jsDisplay\u001b[0m\u001b[0;34m(\u001b[0m\u001b[0mself\u001b[0m\u001b[0;34m)\u001b[0m\u001b[0;34m:\u001b[0m\u001b[0;34m\u001b[0m\u001b[0;34m\u001b[0m\u001b[0m\n\u001b[0;32m--> 559\u001b[0;31m         \u001b[0mIPython\u001b[0m\u001b[0;34m.\u001b[0m\u001b[0mdisplay\u001b[0m\u001b[0;34m.\u001b[0m\u001b[0mdisplay\u001b[0m\u001b[0;34m(\u001b[0m\u001b[0mself\u001b[0m\u001b[0;34m.\u001b[0m\u001b[0m_getJsDiv\u001b[0m\u001b[0;34m(\u001b[0m\u001b[0;34m)\u001b[0m\u001b[0;34m)\u001b[0m\u001b[0;34m\u001b[0m\u001b[0;34m\u001b[0m\u001b[0m\n\u001b[0m\u001b[1;32m    560\u001b[0m         \u001b[0;32mreturn\u001b[0m \u001b[0;36m0\u001b[0m\u001b[0;34m\u001b[0m\u001b[0;34m\u001b[0m\u001b[0m\n\u001b[1;32m    561\u001b[0m \u001b[0;34m\u001b[0m\u001b[0m\n",
      "\u001b[0;32m~/root/root.git/lib/JupyROOT/helpers/utils.py\u001b[0m in \u001b[0;36m_getJsDiv\u001b[0;34m(self)\u001b[0m\n\u001b[1;32m    554\u001b[0m \u001b[0;34m\u001b[0m\u001b[0m\n\u001b[1;32m    555\u001b[0m     \u001b[0;32mdef\u001b[0m \u001b[0m_getJsDiv\u001b[0m\u001b[0;34m(\u001b[0m\u001b[0mself\u001b[0m\u001b[0;34m)\u001b[0m\u001b[0;34m:\u001b[0m\u001b[0;34m\u001b[0m\u001b[0;34m\u001b[0m\u001b[0m\n\u001b[0;32m--> 556\u001b[0;31m         \u001b[0;32mreturn\u001b[0m \u001b[0mHTML\u001b[0m\u001b[0;34m(\u001b[0m\u001b[0mself\u001b[0m\u001b[0;34m.\u001b[0m\u001b[0m_getJsCode\u001b[0m\u001b[0;34m(\u001b[0m\u001b[0;34m)\u001b[0m\u001b[0;34m)\u001b[0m\u001b[0;34m\u001b[0m\u001b[0;34m\u001b[0m\u001b[0m\n\u001b[0m\u001b[1;32m    557\u001b[0m \u001b[0;34m\u001b[0m\u001b[0m\n\u001b[1;32m    558\u001b[0m     \u001b[0;32mdef\u001b[0m \u001b[0m_jsDisplay\u001b[0m\u001b[0;34m(\u001b[0m\u001b[0mself\u001b[0m\u001b[0;34m)\u001b[0m\u001b[0;34m:\u001b[0m\u001b[0;34m\u001b[0m\u001b[0;34m\u001b[0m\u001b[0m\n",
      "\u001b[0;32m~/root/root.git/lib/JupyROOT/helpers/utils.py\u001b[0m in \u001b[0;36m_getJsCode\u001b[0;34m(self)\u001b[0m\n\u001b[1;32m    527\u001b[0m             \u001b[0mjson\u001b[0m \u001b[0;34m=\u001b[0m \u001b[0mself\u001b[0m\u001b[0;34m.\u001b[0m\u001b[0mdrawableObject\u001b[0m\u001b[0;34m.\u001b[0m\u001b[0mCreateJSON\u001b[0m\u001b[0;34m(\u001b[0m\u001b[0;34m)\u001b[0m\u001b[0;34m\u001b[0m\u001b[0;34m\u001b[0m\u001b[0m\n\u001b[1;32m    528\u001b[0m         \u001b[0;32melse\u001b[0m\u001b[0;34m:\u001b[0m\u001b[0;34m\u001b[0m\u001b[0;34m\u001b[0m\u001b[0m\n\u001b[0;32m--> 529\u001b[0;31m             \u001b[0mjson\u001b[0m \u001b[0;34m=\u001b[0m \u001b[0mproduceCanvasJson\u001b[0m\u001b[0;34m(\u001b[0m\u001b[0mself\u001b[0m\u001b[0;34m.\u001b[0m\u001b[0mdrawableObject\u001b[0m\u001b[0;34m)\u001b[0m\u001b[0;34m.\u001b[0m\u001b[0mData\u001b[0m\u001b[0;34m(\u001b[0m\u001b[0;34m)\u001b[0m\u001b[0;34m\u001b[0m\u001b[0;34m\u001b[0m\u001b[0m\n\u001b[0m\u001b[1;32m    530\u001b[0m \u001b[0;34m\u001b[0m\u001b[0m\n\u001b[1;32m    531\u001b[0m         \u001b[0;31m# Here we could optimise the string manipulation\u001b[0m\u001b[0;34m\u001b[0m\u001b[0;34m\u001b[0m\u001b[0;34m\u001b[0m\u001b[0m\n",
      "\u001b[0;32m~/root/root.git/lib/JupyROOT/helpers/utils.py\u001b[0m in \u001b[0;36mproduceCanvasJson\u001b[0;34m(canvas)\u001b[0m\n\u001b[1;32m    294\u001b[0m \u001b[0;32mdef\u001b[0m \u001b[0mproduceCanvasJson\u001b[0m\u001b[0;34m(\u001b[0m\u001b[0mcanvas\u001b[0m\u001b[0;34m)\u001b[0m\u001b[0;34m:\u001b[0m\u001b[0;34m\u001b[0m\u001b[0;34m\u001b[0m\u001b[0m\n\u001b[1;32m    295\u001b[0m    \u001b[0;31m# Add extra primitives to canvas with custom colors, palette, gStyle\u001b[0m\u001b[0;34m\u001b[0m\u001b[0;34m\u001b[0m\u001b[0;34m\u001b[0m\u001b[0m\n\u001b[0;32m--> 296\u001b[0;31m    \u001b[0mprim\u001b[0m \u001b[0;34m=\u001b[0m \u001b[0mcanvas\u001b[0m\u001b[0;34m.\u001b[0m\u001b[0mGetListOfPrimitives\u001b[0m\u001b[0;34m(\u001b[0m\u001b[0;34m)\u001b[0m\u001b[0;34m\u001b[0m\u001b[0;34m\u001b[0m\u001b[0m\n\u001b[0m\u001b[1;32m    297\u001b[0m \u001b[0;34m\u001b[0m\u001b[0m\n\u001b[1;32m    298\u001b[0m    \u001b[0mstyle\u001b[0m \u001b[0;34m=\u001b[0m \u001b[0mROOT\u001b[0m\u001b[0;34m.\u001b[0m\u001b[0mgStyle\u001b[0m\u001b[0;34m\u001b[0m\u001b[0;34m\u001b[0m\u001b[0m\n",
      "\u001b[0;31mAttributeError\u001b[0m: 'TGeoVolume' object has no attribute 'GetListOfPrimitives'"
     ]
    }
   ],
   "source": [
    "rr.build_volumes(gen)\n",
    "rr.close_geometry()\n",
    "rr.draw(\"OGLX\")            # Draw the geometry on the screen. On a Mac use \"ogl\" instead of \"OGLX\"\n",
    "gen.Python_Write(\"test\")  # Write the file Template_MyDetector.py"
   ]
  },
  {
   "cell_type": "markdown",
   "metadata": {},
   "source": [
    "\n",
    "The picture shows the rendering of the beamline. In a Jupyter notebook (of this file), you can rotate and zoom the picture. If you did this on your own computer in Python, you would get a ROOT window in which you can move and manipulate the picure. \n",
    "\n",
    "The final command wrote a new file called \"Template_MyDetector.py\", which contains a python function \"calculate_MyDetector_geometry(g_en)\", that re-creates the geometry in a geometry engine object that is passed to it. You can then edit this file, rename the function if desired, and change parameters of the geometric objects. You can read it all back in by importing the file into Python and calling the function."
   ]
  },
  {
   "cell_type": "markdown",
   "metadata": {},
   "source": [
    "<a id=\"inspecting_the_geometry\"></a>\n",
    "## Inspecting the Geometry\n",
    "If you want to inspect the Geometry object you just created, just print it:"
   ]
  },
  {
   "cell_type": "code",
   "execution_count": 6,
   "metadata": {},
   "outputs": [
    {
     "name": "stdout",
     "output_type": "stream",
     "text": [
      "Database:  NOT OPENED \n",
      "Table   : MyDetector\n",
      "Geometry: \n",
      "     aluminumBeamPipe in root ::aluminum beampipe\n",
      "     vacuumBeamPipe in aluminumBeamPipe ::vacuum inside aluminum beampipe\n",
      "     airPipe in root ::air line from target to vacuum line\n",
      "     tungstenConeFT in root ::FT tungsten moller shield\n",
      "     mountToTorus in root ::mount to torus\n",
      "     mountToMount in root ::beamline mount to torus mount\n",
      "     mountInnerShielding in root ::beamline mount to torus beamline inner shield\n",
      "     mountOuterShielding in root ::beamline mount to torus beamline outer shield\n",
      "     tungstenTorusBeamShield in root ::tungsten beampipe shield inside torus\n",
      "     downstreamShield in root ::Shielding pipe after the torus\n",
      "     downstreamNose in root ::Shielding nose after the torus\n",
      "\n"
     ]
    }
   ],
   "source": [
    "print gen"
   ]
  },
  {
   "cell_type": "markdown",
   "metadata": {},
   "source": [
    "You can retrieve individual Geomtery objects by name or number. The Geometry class is both a \"list\" and a \"dictionary\" in the Python sense. or You can also search for items, which can useful with large geometries."
   ]
  },
  {
   "cell_type": "code",
   "execution_count": 7,
   "metadata": {},
   "outputs": [
    {
     "name": "stdout",
     "output_type": "stream",
     "text": [
      "tungstenConeFT | root | FT tungsten moller shield | 0.0*mm 0.0*mm 877.4*mm  | 0.0*cm 0.0*cm 0.0*cm  | ff0000 | Polycone | 0.0*deg 360.0*deg 4.0*counts 35.1028*mm 35.1028*mm 40.1*mm 40.1*mm 38.1508*mm 71.0925912531*mm 71.0925912531*mm 76.0476*mm 0.0*mm 767.2*mm 767.2*mm 882.6*mm  | beamline_W | no | 1 | 1 | 1 | 1 | 1 | no | no | no \n",
      "-----------------------------\n",
      "mountToTorus | root | mount to torus | 0.0*mm 0.0*mm 2358.7*mm  | 0.0*cm 0.0*cm 0.0*cm  | 55ff55 | Polycone | 0.0*deg 360.0*deg 4.0*counts 76.2*mm 76.2*mm 76.2*mm 76.2*mm 95.25*mm 95.25*mm 126.9*mm 126.9*mm 0.0*mm 382.3*mm 382.3*mm 395.0*mm  | G4_STAINLESS-STEEL | no | 1 | 1 | 1 | 1 | 1 | no | no | no \n"
     ]
    }
   ],
   "source": [
    "print gen[3]  # Print the *fourth* item in the list\n",
    "print \"-----------------------------\"\n",
    "print gen['mountToTorus'] # Print the item by name"
   ]
  },
  {
   "cell_type": "markdown",
   "metadata": {},
   "source": [
    "You could also have used gen.find_volume('mountToTorus')\n",
    "\n",
    "If you want to search without a complete name, you can use find_volume_regex, which will return a list of found volumes. Eg:"
   ]
  },
  {
   "cell_type": "code",
   "execution_count": 8,
   "metadata": {},
   "outputs": [
    {
     "name": "stdout",
     "output_type": "stream",
     "text": [
      "The number of volumes with mount is:  4\n",
      "---------------------\n",
      "mountToTorus\n",
      "mountToMount\n",
      "mountInnerShielding\n",
      "mountOuterShielding\n"
     ]
    }
   ],
   "source": [
    "mount_vols = gen.find_volume_regex('mount.*')\n",
    "print \"The number of volumes with mount is: \",len(mount_vols)\n",
    "print \"---------------------\"\n",
    "for vol in mount_vols:\n",
    "    print vol.name"
   ]
  },
  {
   "cell_type": "markdown",
   "metadata": {},
   "source": [
    "<a id=\"geometry_objects\"></a>\n",
    "# Geometry Objects\n",
    "\n",
    "You can create new primitive geometry objects using the Geomtery class. Each such geometry object is stored in the GeometryEngine, and these objects can be combined using boolean geometry operators: \"add\", \"subtract\"."
   ]
  },
  {
   "cell_type": "code",
   "execution_count": 9,
   "metadata": {},
   "outputs": [
    {
     "name": "stdout",
     "output_type": "stream",
     "text": [
      "Help on class Geometry in module PyGeom.Geometry:\n",
      "\n",
      "class Geometry\n",
      " |  A Class for storing the geometry of an objects to be rendered in the output.\n",
      " |  You would typicaly add these objects into a GeometryEngine object.\n",
      " |  Each of the paramters corresponds to the parameters defined in the GEMC text\n",
      " |  input format. For great detail, check the GEMC documentation.\n",
      " |  \n",
      " |  gobj = Geometry(\n",
      " |       name=\"unknown\",  # String. Name of the object.\n",
      " |       mother=\"root\",   # String. Name of the mother of this object.\n",
      " |       description=\"\",  # String. Text description of the object.\n",
      " |       pos=[0,0,0],     # List.   Position of the object in a list of 3 floats.\n",
      " |       pos_units=\"cm\",  # String. Units for the position of the object: mm, cm, inch, m\n",
      " |       rot=[0,0,0],     # List.   Angles defining the rotation of the object.\n",
      " |       rot_units=\"rad\", # String. Units for the angles: deg, rad, mrad\n",
      " |       rot_order=\"\",    # String. Order of the angles: \"xyz\", \"zyx\" etc.\n",
      " |       col=\"000000\",    # String. Color for the object when it is being rendered.\n",
      " |       g4type=\"\",       # String. G4Type - the type of object, eg. \"box\"\n",
      " |       dimensions=\"\",   # List or String. The dimensions that correspond to the g4type\n",
      " |       dims_units=\"cm\", # String or List. The units used for the dimensions.\n",
      " |                        # If string the same unit will be used for all dimensions.\n",
      " |       material=\"Vacuum\",# String. The material to be used for the object.\n",
      " |       magfield=\"no\",   # String. The magnetic field in the object. \"no\" for no field.\n",
      " |       ncopy=1,         # Int.    The GEMC ncopy parameter, see GEMC docs.\n",
      " |       pmany=1,         # Int.    The GEMC pmany parameter, see GEMC docs.\n",
      " |       exist=1,         # Int.    Flag whether the object is used.\n",
      " |       visible=1,       # Int.    Flag whether the object should be visible.\n",
      " |       style=1,         # Int.    Flag whether the object is wireframe(0) or solid (1)\n",
      " |       sensitivity=\"no\",# String. Which type of sensitivity this object has.\n",
      " |       hittype=\"\",      # String. Which hit routine should be used for this object.\n",
      " |       identity=\"\",     # String. The id string for the object.\n",
      " |       )\n",
      " |  \n",
      " |  Methods defined here:\n",
      " |  \n",
      " |  MySQL_str(self, Table, variation=0, idn=1)\n",
      " |      Return a MySQL statement to insert the geometry into a GEMC Table in a MySQL database\n",
      " |  \n",
      " |  __getitem__(self, i)\n",
      " |      To treat the Geometry as a dictionary or list...\n",
      " |  \n",
      " |  __init__(self, name='unknown', mother='root', description='', pos=[0, 0, 0], pos_units='cm', rot=[0, 0, 0], rot_units='rad', rot_order='', col='000000', g4type='', dimensions='', dims_units='cm', material='Vacuum', magfield='no', ncopy=1, pmany=1, exist=1, visible=1, style=1, sensitivity='no', hittype='', identity='', force_unit_conversion=False, base_units=['cm', 'rad'])\n",
      " |  \n",
      " |  __str__(self)\n",
      " |      Return a string with the geometry as a '|' delimited string, as Maurizio's perl scripts\n",
      " |  \n",
      " |  calc_g4_trapezoid(self, front, depth, p1x, p1z, theta1, p2x, p2z, theta2)\n",
      " |  \n",
      " |  make_string(self, item, units)\n",
      " |      Turn a list and units into a Maurizio's MySQL Database style string.\n",
      " |  \n",
      " |  parse_gemc_rot_str(self, string, base_unit=0)\n",
      " |      Convert the Rotation GEMC MySQL string with units and ordered statement into a list and a units list and order, based on the base_unit\n",
      " |  \n",
      " |  parse_gemc_str(self, string, base_unit=0)\n",
      " |      Convert the GEMC MySQL string with units into a list and a units list based on the base_unit\n",
      " |  \n",
      " |  python_str(self, indent=4)\n",
      " |      Return a string containing a python statement that will render this geometry.\n",
      " |      This can be used to create a template script from the contents of a database.\n",
      " |      Code will be indented by 'indent'\n",
      " |  \n",
      " |  set_dimensions(self, dims, units)\n",
      " |      Set the dimensions of the object from a string or a list\n",
      " |  \n",
      " |  set_position(self, pos, units)\n",
      " |      Set the position from a string or a list, in the latter case use units for the units.\n",
      " |  \n",
      " |  set_rotation(self, rot, units, order)\n",
      " |      Set the rotation of the object from a string or a list.\n",
      " |  \n",
      " |  unit_convert_dict(self, base_unit)\n",
      " |      Return a conversion dict and translation dict that provides the correct unit conversions based on base_unit\n",
      " |      base_unit is a string or a list and contains a unit for lenght and one for angles\n",
      " |      The conversion dict contains the numeric constant to covert to the base_unit.\n",
      " |      The translation dict converts the unit name to the base unit name.\n",
      " |  \n",
      " |  validate(self)\n",
      " |      Attempt to check yourself for valid entries.\n",
      " |      If all is OK, then return a 0.\n",
      " |      If an error is expected, return a integer indicating the field where the first error is expected.\n",
      " |      Clearly this can only catch the most simple errors, such as formatting problems.\n",
      " |  \n",
      " |  ----------------------------------------------------------------------\n",
      " |  Data and other attributes defined here:\n",
      " |  \n",
      " |  base_units = ['cm', 'rad']\n",
      " |  \n",
      " |  col = '000000'\n",
      " |  \n",
      " |  debug = 0\n",
      " |  \n",
      " |  description = ''\n",
      " |  \n",
      " |  dimensions = ''\n",
      " |  \n",
      " |  dims_units = 'cm'\n",
      " |  \n",
      " |  exist = 1\n",
      " |  \n",
      " |  force_unit_conversion = False\n",
      " |  \n",
      " |  g4type = ''\n",
      " |  \n",
      " |  hittype = 'no'\n",
      " |  \n",
      " |  identity = 'no'\n",
      " |  \n",
      " |  magfield = 'no'\n",
      " |  \n",
      " |  material = ''\n",
      " |  \n",
      " |  mother = ''\n",
      " |  \n",
      " |  name = ''\n",
      " |  \n",
      " |  ncopy = 1\n",
      " |  \n",
      " |  pmany = 1\n",
      " |  \n",
      " |  pos = [0, 0, 0]\n",
      " |  \n",
      " |  pos_units = 'cm'\n",
      " |  \n",
      " |  rot = [0, 0, 0]\n",
      " |  \n",
      " |  rot_order = ''\n",
      " |  \n",
      " |  rot_units = 'rad'\n",
      " |  \n",
      " |  sensitivity = 'no'\n",
      " |  \n",
      " |  style = 1\n",
      " |  \n",
      " |  visible = 1\n",
      "\n"
     ]
    }
   ],
   "source": [
    "help(PyGeom.Geometry)"
   ]
  },
  {
   "cell_type": "code",
   "execution_count": 10,
   "metadata": {},
   "outputs": [],
   "source": [
    "gen2 = PyGeom.GeometryEngine(\"PaddleTest\")\n",
    "paddle = PyGeom.Geometry(name=\"paddle\",mother=\"root\",description=\"Example of a paddle\",\n",
    "                  pos=[0, 0, 20], pos_units='cm', \n",
    "                  rot=[0, 0, 0], rot_units='rad',\n",
    "                  col='339999', \n",
    "                  g4type='Box', \n",
    "                  dimensions=[2,2,10],dims_units='cm',\n",
    "                  material='ScintillatorB')"
   ]
  },
  {
   "cell_type": "markdown",
   "metadata": {},
   "source": [
    "**Some notes:**\n",
    "   - If you forget what parameters are needed/allowed, type: help(Geometry) at the prompt, and look at the documentation which shows you all the options.\n",
    "   - There is a bit of flexibility build into the Geometry. You can specify the position as a \"vector\": [x,y,z], or you can specify it as a GEMC style string: \" 10.*cm 15.2*cm 1000*mm \".\n",
    "   - More flexibility, if you want to mix units, then specify them as an array. So <code> pos=\"10.*cm 15.2*cm 1000*mm\" </code> is the same as <code> pos=[10.,15.2,1000.],pos_units=['cm','cm','mm'] </code>.\n",
    "   - See the section \"Unit Conversions\" for information on converting units automatically.\n",
    "   - It is MUCH safer to specify a name for every argument, because then the order is not important. If you are careful about the order, and don't skip arguments, you can leave out the names (like C++ or Fortran).  "
   ]
  },
  {
   "cell_type": "code",
   "execution_count": 11,
   "metadata": {},
   "outputs": [
    {
     "name": "stdout",
     "output_type": "stream",
     "text": [
      "paddle | root | Example of a paddle | 0*cm 0*cm 20*cm  | 0*rad 0*rad 0*rad  | 339999 | Box | 2*cm 2*cm 10*cm  | ScintillatorB | no | 1 | 1 | 1 | 1 | 1 | no |  |  \n"
     ]
    }
   ],
   "source": [
    "print paddle"
   ]
  },
  {
   "cell_type": "markdown",
   "metadata": {},
   "source": [
    "Now we add this geometry object to the GeometryEngine: "
   ]
  },
  {
   "cell_type": "code",
   "execution_count": 12,
   "metadata": {},
   "outputs": [],
   "source": [
    "gen2.add(paddle)"
   ]
  },
  {
   "cell_type": "markdown",
   "metadata": {},
   "source": [
    "Let'd also add a target, at (0,0,0), made of liquid hydrogen (G4_lH2), and small flat pancake shape: a tube of 2 cm radius and 2 mm thickness. To show you a different way of entering the volume, we do the whole thing in one line:"
   ]
  },
  {
   "cell_type": "code",
   "execution_count": 13,
   "metadata": {},
   "outputs": [],
   "source": [
    "gen2.add( PyGeom.Geometry(name=\"target\",mother=\"root\",description=\"A thin LH2 target\",\n",
    "                  pos=\"0*cm 0*cm 0*cm\",\n",
    "                  rot=\"0*deg 0*deg 0*deg\",\n",
    "                  g4type=\"Tube\",\n",
    "                  dimensions=\" 0*cm 2*cm 2*mm 0*deg 360*deg\",\n",
    "                  material=\"G4_lH2\",\n",
    "                  col=\"CC0000\"))"
   ]
  },
  {
   "cell_type": "markdown",
   "metadata": {},
   "source": [
    "After you have added a number of items, you may now want to inspect what you have in your geometry. See more in [Inspecting the Geometry](#inspecting_the_geometry)"
   ]
  },
  {
   "cell_type": "code",
   "execution_count": 14,
   "metadata": {},
   "outputs": [
    {
     "name": "stdout",
     "output_type": "stream",
     "text": [
      "target | root | A thin LH2 target | 0.0*cm 0.0*cm 0.0*cm  | 0.0*deg 0.0*deg 0.0*deg  | CC0000 | Tube | 0.0*cm 2.0*cm 2.0*mm 0.0*deg 360.0*deg  | G4_lH2 | no | 1 | 1 | 1 | 1 | 1 | no |  |  \n"
     ]
    }
   ],
   "source": [
    "print gen2[1]"
   ]
  },
  {
   "cell_type": "markdown",
   "metadata": {},
   "source": [
    "You can draw the geometry. See below."
   ]
  },
  {
   "cell_type": "markdown",
   "metadata": {},
   "source": [
    "<a id=\"drawing_the_geometry\"></a>\n",
    "## Drawing the geometry\n",
    "\n",
    "To render the geometry you created with ROOT, you first of all need to have the ROOT environment setup, using the standard method. Often all this takes is to source \"thisroot.sh\" in your shell, *before* you start ipython, or jupyter notebook.\n",
    "\n"
   ]
  },
  {
   "cell_type": "code",
   "execution_count": 15,
   "metadata": {},
   "outputs": [
    {
     "name": "stderr",
     "output_type": "stream",
     "text": [
      "Warning in <TGeoManager::Init>: Deleting previous geometry: GEMC/Python ROOT Geometry Engine for GEMC\n",
      "Info in <TGeoManager::TGeoManager>: Geometry PaddleTest, Geometry for PaddleTest variation: original created\n",
      "Info in <TGeoManager::SetTopVolume>: Top volume is root. Master volume is root\n"
     ]
    }
   ],
   "source": [
    "rr2=PyGeom.GeometryROOT(gen2)"
   ]
  },
  {
   "cell_type": "markdown",
   "metadata": {},
   "source": [
    "Note that some matials are not defined yet in the GeometryROOT package. I am working on adding these, please be patient. For showing the volumes, and for GEMC, these missing materials do not matter at all, they would only be important if you want to track particles through your ROOT geometry. Doing that would still need a significant amount of code...\n",
    "\n",
    "You can now draw the geomerty by calling the \"draw()\" method of your GeometryROOT object.\n",
    "If you do this is a *live* notebook (either a root --notebook, or jupyter notebook, or on binder), then the picture produced below will rotate, zoom etc, just as it would if you executed these command in a python shell."
   ]
  },
  {
   "cell_type": "code",
   "execution_count": 16,
   "metadata": {},
   "outputs": [
    {
     "data": {
      "text/html": [
       "\n",
       "<div id=\"root_plot_2\"\n",
       "     style=\"width: 600px; height: 600px\">\n",
       "</div>\n",
       "\n",
       "<script>\n",
       " requirejs.config({\n",
       "     paths: {\n",
       "       'JSRootCore' : 'https://root.cern.ch/js/notebook//scripts/JSRootCore',\n",
       "     }\n",
       "   });\n",
       " require(['JSRootCore'],\n",
       "     function(Core) {\n",
       "       var obj = Core.JSONR_unref({\"_typename\":\"TGeoVolume\",\"fUniqueID\":0,\"fBits\":58720264,\"fName\":\"root\",\"fTitle\":\"Top volume\",\"fGeoAtt\":3080,\"fLineColor\":18,\"fLineStyle\":1,\"fLineWidth\":1,\"fFillColor\":19,\"fFillStyle\":1001,\"fNodes\":{\"_typename\":\"TObjArray\",\"name\":\"TObjArray\",\"arr\":[{\"_typename\":\"TGeoNodeMatrix\",\"fUniqueID\":0,\"fBits\":50331648,\"fName\":\"paddle_1\",\"fTitle\":\"\",\"fGeoAtt\":3084,\"fVolume\":{\"_typename\":\"TGeoVolume\",\"fUniqueID\":0,\"fBits\":58720264,\"fName\":\"paddle\",\"fTitle\":\"\",\"fGeoAtt\":3212,\"fLineColor\":430,\"fLineStyle\":1,\"fLineWidth\":1,\"fFillColor\":19,\"fFillStyle\":1001,\"fNodes\":null,\"fShape\":{\"_typename\":\"TGeoBBox\",\"fUniqueID\":0,\"fBits\":50331656,\"fName\":\"paddle_shape\",\"fTitle\":\"\",\"fShapeId\":256,\"fShapeBits\":1024,\"fDX\":2,\"fDY\":2,\"fDZ\":10,\"fOrigin\":[0,0,0]},\"fMedium\":{\"_typename\":\"TGeoMedium\",\"fUniqueID\":0,\"fBits\":50331656,\"fName\":\"ScintillatorB\",\"fTitle\":\"\",\"fId\":1,\"fParams\":[0,0,0,0,0,0,0,0,0,0,0,0,0,0,0,0,0,0,0,0],\"fMaterial\":{\"_typename\":\"TGeoMixture\",\"fUniqueID\":0,\"fBits\":50462728,\"fName\":\"ScintillatorB\",\"fTitle\":\"\",\"fFillColor\":19,\"fFillStyle\":3000,\"fIndex\":1,\"fA\":11.0722564862827,\"fZ\":5.57354176873926,\"fDensity\":1.032,\"fRadLen\":42.13201332142,\"fIntLen\":70.100677118772,\"fTemperature\":273.15,\"fPressure\":632420000,\"fState\":0,\"fShader\":null,\"fCerenkov\":null,\"fElement\":null,\"fNelements\":2,\"fZmixture\":[6,1],\"fAmixture\":[12.0107,1.00794],\"fWeights\":[0.914708353747852,0.0852916462521483],\"fNatoms\":[9,10],\"fElements\":{\"_typename\":\"TObjArray\",\"name\":\"TObjArray\",\"arr\":[{\"_typename\":\"TGeoElement\",\"fUniqueID\":0,\"fBits\":50593800,\"fName\":\"C\",\"fTitle\":\"CARBON\",\"fZ\":6,\"fN\":12,\"fNisotopes\":0,\"fA\":12.0107,\"fIsotopes\":null,\"fAbundances\":[]},{\"_typename\":\"TGeoElement\",\"fUniqueID\":0,\"fBits\":50593800,\"fName\":\"H\",\"fTitle\":\"HYDROGEN\",\"fZ\":1,\"fN\":1,\"fNisotopes\":0,\"fA\":1.00794,\"fIsotopes\":null,\"fAbundances\":[]}]}}},\"fFinder\":null,\"fVoxels\":null,\"fNumber\":2,\"fNtotal\":0,\"fRefCount\":1},\"fMother\":{\"$ref\":0},\"fNumber\":1,\"fNovlp\":0,\"fOverlaps\":[],\"fMatrix\":{\"_typename\":\"TGeoCombiTrans\",\"fUniqueID\":0,\"fBits\":52822024,\"fName\":\"\",\"fTitle\":\"\",\"fTranslation\":[0,0,20],\"fRotation\":{\"_typename\":\"TGeoRotation\",\"fUniqueID\":0,\"fBits\":52690952,\"fName\":\"paddle_rot\",\"fTitle\":\"\",\"fRotationMatrix\":[1,0,0,0,1,0,0,0,1]}}},{\"_typename\":\"TGeoNodeMatrix\",\"fUniqueID\":0,\"fBits\":50331648,\"fName\":\"target_1\",\"fTitle\":\"\",\"fGeoAtt\":3084,\"fVolume\":{\"_typename\":\"TGeoVolume\",\"fUniqueID\":0,\"fBits\":58720264,\"fName\":\"target\",\"fTitle\":\"\",\"fGeoAtt\":3212,\"fLineColor\":633,\"fLineStyle\":1,\"fLineWidth\":1,\"fFillColor\":19,\"fFillStyle\":1001,\"fNodes\":null,\"fShape\":{\"_typename\":\"TGeoTube\",\"fUniqueID\":0,\"fBits\":50331656,\"fName\":\"target_shape\",\"fTitle\":\"\",\"fShapeId\":256,\"fShapeBits\":9216,\"fDX\":2,\"fDY\":2,\"fDZ\":0.2,\"fOrigin\":[0,0,0],\"fRmin\":0,\"fRmax\":2,\"fDz\":0.2},\"fMedium\":{\"_typename\":\"TGeoMedium\",\"fUniqueID\":0,\"fBits\":50331656,\"fName\":\"Aluminum\",\"fTitle\":\"\",\"fId\":2,\"fParams\":[0,0,0,0,0,0,0,0,0,0,0,0,0,0,0,0,0,0,0,0],\"fMaterial\":{\"_typename\":\"TGeoMaterial\",\"fUniqueID\":0,\"fBits\":50462728,\"fName\":\"Aluminum\",\"fTitle\":\"\",\"fFillColor\":19,\"fFillStyle\":3000,\"fIndex\":2,\"fA\":26.98,\"fZ\":13,\"fDensity\":2.7,\"fRadLen\":8.87510465963777,\"fIntLen\":38.8622319406182,\"fTemperature\":273.15,\"fPressure\":632420000,\"fState\":0,\"fShader\":null,\"fCerenkov\":null,\"fElement\":null}},\"fFinder\":null,\"fVoxels\":null,\"fNumber\":3,\"fNtotal\":0,\"fRefCount\":1},\"fMother\":{\"$ref\":0},\"fNumber\":1,\"fNovlp\":0,\"fOverlaps\":[],\"fMatrix\":{\"_typename\":\"TGeoCombiTrans\",\"fUniqueID\":0,\"fBits\":52690952,\"fName\":\"\",\"fTitle\":\"\",\"fTranslation\":[0,0,0],\"fRotation\":{\"_typename\":\"TGeoRotation\",\"fUniqueID\":0,\"fBits\":52690952,\"fName\":\"target_rot\",\"fTitle\":\"\",\"fRotationMatrix\":[1,0,0,0,1,0,0,0,1]}}}]},\"fShape\":{\"_typename\":\"TGeoBBox\",\"fUniqueID\":0,\"fBits\":50331648,\"fName\":\"root\",\"fTitle\":\"\",\"fShapeId\":256,\"fShapeBits\":1024,\"fDX\":1000,\"fDY\":1000,\"fDZ\":1000,\"fOrigin\":[0,0,0]},\"fMedium\":{\"_typename\":\"TGeoMedium\",\"fUniqueID\":0,\"fBits\":50331656,\"fName\":\"Vacuum\",\"fTitle\":\"\",\"fId\":0,\"fParams\":[0,0,0,0,0,0,0,0,0,0,0,0,0,0,0,0,0,0,0,0],\"fMaterial\":{\"_typename\":\"TGeoMaterial\",\"fUniqueID\":0,\"fBits\":50462728,\"fName\":\"Vacuum\",\"fTitle\":\"\",\"fFillColor\":19,\"fFillStyle\":3080,\"fIndex\":0,\"fA\":0,\"fZ\":0,\"fDensity\":0,\"fRadLen\":1000000000000000019884624838656,\"fIntLen\":1000000000000000019884624838656,\"fTemperature\":273.15,\"fPressure\":632420000,\"fState\":0,\"fShader\":null,\"fCerenkov\":null,\"fElement\":null}},\"fFinder\":null,\"fVoxels\":null,\"fNumber\":1,\"fNtotal\":0,\"fRefCount\":3});\n",
       "       Core.draw(\"root_plot_2\", obj, \"all\");\n",
       "     }\n",
       " );\n",
       "</script>\n"
      ],
      "text/plain": [
       "<IPython.core.display.HTML object>"
      ]
     },
     "metadata": {},
     "output_type": "display_data"
    }
   ],
   "source": [
    "rr2.draw(\"oglx\")    \n",
    "# Note: the 'option' \"olgx\", draws the picture with OpenGL for this notebook. For Python, you may need \"OGL\" instead.\n",
    "# If you leave the option out, the default will be used, which may be a wireframe picture."
   ]
  },
  {
   "cell_type": "markdown",
   "metadata": {},
   "source": [
    "<a id=\"modifying_geometry\"></a>\n",
    "## Modifying Geometry\n",
    "\n",
    "Since this is a interactive session for geometry, you probably want to be able to adjust one of your objects, and then look at it again. Let's shorten the paddle from 10 cm to 5 cm.\n",
    "\n",
    "We need to manipulate the object inside the GeometryEngine object, \"gen\". What we do is change the length, and then look at it again.\n",
    "**Note:** We can only have one active GeometryROOT object at one time right now. So we re-initialize our rr object to clear out the old geometry and load the new one. "
   ]
  },
  {
   "cell_type": "code",
   "execution_count": 17,
   "metadata": {},
   "outputs": [],
   "source": [
    "gen2['paddle'].dimensions[2]=5"
   ]
  },
  {
   "cell_type": "code",
   "execution_count": 18,
   "metadata": {},
   "outputs": [
    {
     "name": "stderr",
     "output_type": "stream",
     "text": [
      "Warning in <TGeoManager::Init>: Deleting previous geometry: PaddleTest/Geometry for PaddleTest variation: original\n",
      "Info in <TGeoManager::TGeoManager>: Geometry PaddleTest, Geometry for PaddleTest variation: original created\n",
      "Info in <TGeoManager::SetTopVolume>: Top volume is root. Master volume is root\n"
     ]
    }
   ],
   "source": [
    "rr3 = PyGeom.GeometryROOT(gen2)"
   ]
  },
  {
   "cell_type": "code",
   "execution_count": 19,
   "metadata": {},
   "outputs": [
    {
     "data": {
      "text/html": [
       "\n",
       "<div id=\"root_plot_3\"\n",
       "     style=\"width: 600px; height: 600px\">\n",
       "</div>\n",
       "\n",
       "<script>\n",
       " requirejs.config({\n",
       "     paths: {\n",
       "       'JSRootCore' : 'https://root.cern.ch/js/notebook//scripts/JSRootCore',\n",
       "     }\n",
       "   });\n",
       " require(['JSRootCore'],\n",
       "     function(Core) {\n",
       "       var obj = Core.JSONR_unref({\"_typename\":\"TGeoVolume\",\"fUniqueID\":0,\"fBits\":58720264,\"fName\":\"root\",\"fTitle\":\"Top volume\",\"fGeoAtt\":3080,\"fLineColor\":18,\"fLineStyle\":1,\"fLineWidth\":1,\"fFillColor\":19,\"fFillStyle\":1001,\"fNodes\":{\"_typename\":\"TObjArray\",\"name\":\"TObjArray\",\"arr\":[{\"_typename\":\"TGeoNodeMatrix\",\"fUniqueID\":0,\"fBits\":50331648,\"fName\":\"paddle_1\",\"fTitle\":\"\",\"fGeoAtt\":3084,\"fVolume\":{\"_typename\":\"TGeoVolume\",\"fUniqueID\":0,\"fBits\":58720264,\"fName\":\"paddle\",\"fTitle\":\"\",\"fGeoAtt\":3212,\"fLineColor\":430,\"fLineStyle\":1,\"fLineWidth\":1,\"fFillColor\":19,\"fFillStyle\":1001,\"fNodes\":null,\"fShape\":{\"_typename\":\"TGeoBBox\",\"fUniqueID\":0,\"fBits\":50331656,\"fName\":\"paddle_shape\",\"fTitle\":\"\",\"fShapeId\":256,\"fShapeBits\":1024,\"fDX\":2,\"fDY\":2,\"fDZ\":5,\"fOrigin\":[0,0,0]},\"fMedium\":{\"_typename\":\"TGeoMedium\",\"fUniqueID\":0,\"fBits\":50331656,\"fName\":\"ScintillatorB\",\"fTitle\":\"\",\"fId\":1,\"fParams\":[0,0,0,0,0,0,0,0,0,0,0,0,0,0,0,0,0,0,0,0],\"fMaterial\":{\"_typename\":\"TGeoMixture\",\"fUniqueID\":0,\"fBits\":50462728,\"fName\":\"ScintillatorB\",\"fTitle\":\"\",\"fFillColor\":19,\"fFillStyle\":3000,\"fIndex\":1,\"fA\":11.0722564862827,\"fZ\":5.57354176873926,\"fDensity\":1.032,\"fRadLen\":42.13201332142,\"fIntLen\":70.100677118772,\"fTemperature\":273.15,\"fPressure\":632420000,\"fState\":0,\"fShader\":null,\"fCerenkov\":null,\"fElement\":null,\"fNelements\":2,\"fZmixture\":[6,1],\"fAmixture\":[12.0107,1.00794],\"fWeights\":[0.914708353747852,0.0852916462521483],\"fNatoms\":[9,10],\"fElements\":{\"_typename\":\"TObjArray\",\"name\":\"TObjArray\",\"arr\":[{\"_typename\":\"TGeoElement\",\"fUniqueID\":0,\"fBits\":50593800,\"fName\":\"C\",\"fTitle\":\"CARBON\",\"fZ\":6,\"fN\":12,\"fNisotopes\":0,\"fA\":12.0107,\"fIsotopes\":null,\"fAbundances\":[]},{\"_typename\":\"TGeoElement\",\"fUniqueID\":0,\"fBits\":50593800,\"fName\":\"H\",\"fTitle\":\"HYDROGEN\",\"fZ\":1,\"fN\":1,\"fNisotopes\":0,\"fA\":1.00794,\"fIsotopes\":null,\"fAbundances\":[]}]}}},\"fFinder\":null,\"fVoxels\":null,\"fNumber\":2,\"fNtotal\":0,\"fRefCount\":1},\"fMother\":{\"$ref\":0},\"fNumber\":1,\"fNovlp\":0,\"fOverlaps\":[],\"fMatrix\":{\"_typename\":\"TGeoCombiTrans\",\"fUniqueID\":0,\"fBits\":52822024,\"fName\":\"\",\"fTitle\":\"\",\"fTranslation\":[0,0,20],\"fRotation\":{\"_typename\":\"TGeoRotation\",\"fUniqueID\":0,\"fBits\":52690952,\"fName\":\"paddle_rot\",\"fTitle\":\"\",\"fRotationMatrix\":[1,0,0,0,1,0,0,0,1]}}},{\"_typename\":\"TGeoNodeMatrix\",\"fUniqueID\":0,\"fBits\":50331648,\"fName\":\"target_1\",\"fTitle\":\"\",\"fGeoAtt\":3084,\"fVolume\":{\"_typename\":\"TGeoVolume\",\"fUniqueID\":0,\"fBits\":58720264,\"fName\":\"target\",\"fTitle\":\"\",\"fGeoAtt\":3212,\"fLineColor\":633,\"fLineStyle\":1,\"fLineWidth\":1,\"fFillColor\":19,\"fFillStyle\":1001,\"fNodes\":null,\"fShape\":{\"_typename\":\"TGeoTube\",\"fUniqueID\":0,\"fBits\":50331656,\"fName\":\"target_shape\",\"fTitle\":\"\",\"fShapeId\":256,\"fShapeBits\":9216,\"fDX\":2,\"fDY\":2,\"fDZ\":0.2,\"fOrigin\":[0,0,0],\"fRmin\":0,\"fRmax\":2,\"fDz\":0.2},\"fMedium\":{\"_typename\":\"TGeoMedium\",\"fUniqueID\":0,\"fBits\":50331656,\"fName\":\"Aluminum\",\"fTitle\":\"\",\"fId\":2,\"fParams\":[0,0,0,0,0,0,0,0,0,0,0,0,0,0,0,0,0,0,0,0],\"fMaterial\":{\"_typename\":\"TGeoMaterial\",\"fUniqueID\":0,\"fBits\":50462728,\"fName\":\"Aluminum\",\"fTitle\":\"\",\"fFillColor\":19,\"fFillStyle\":3000,\"fIndex\":2,\"fA\":26.98,\"fZ\":13,\"fDensity\":2.7,\"fRadLen\":8.87510465963777,\"fIntLen\":38.8622319406182,\"fTemperature\":273.15,\"fPressure\":632420000,\"fState\":0,\"fShader\":null,\"fCerenkov\":null,\"fElement\":null}},\"fFinder\":null,\"fVoxels\":null,\"fNumber\":3,\"fNtotal\":0,\"fRefCount\":1},\"fMother\":{\"$ref\":0},\"fNumber\":1,\"fNovlp\":0,\"fOverlaps\":[],\"fMatrix\":{\"_typename\":\"TGeoCombiTrans\",\"fUniqueID\":0,\"fBits\":52690952,\"fName\":\"\",\"fTitle\":\"\",\"fTranslation\":[0,0,0],\"fRotation\":{\"_typename\":\"TGeoRotation\",\"fUniqueID\":0,\"fBits\":52690952,\"fName\":\"target_rot\",\"fTitle\":\"\",\"fRotationMatrix\":[1,0,0,0,1,0,0,0,1]}}}]},\"fShape\":{\"_typename\":\"TGeoBBox\",\"fUniqueID\":0,\"fBits\":50331648,\"fName\":\"root\",\"fTitle\":\"\",\"fShapeId\":256,\"fShapeBits\":1024,\"fDX\":1000,\"fDY\":1000,\"fDZ\":1000,\"fOrigin\":[0,0,0]},\"fMedium\":{\"_typename\":\"TGeoMedium\",\"fUniqueID\":0,\"fBits\":50331656,\"fName\":\"Vacuum\",\"fTitle\":\"\",\"fId\":0,\"fParams\":[0,0,0,0,0,0,0,0,0,0,0,0,0,0,0,0,0,0,0,0],\"fMaterial\":{\"_typename\":\"TGeoMaterial\",\"fUniqueID\":0,\"fBits\":50462728,\"fName\":\"Vacuum\",\"fTitle\":\"\",\"fFillColor\":19,\"fFillStyle\":3080,\"fIndex\":0,\"fA\":0,\"fZ\":0,\"fDensity\":0,\"fRadLen\":1000000000000000019884624838656,\"fIntLen\":1000000000000000019884624838656,\"fTemperature\":273.15,\"fPressure\":632420000,\"fState\":0,\"fShader\":null,\"fCerenkov\":null,\"fElement\":null}},\"fFinder\":null,\"fVoxels\":null,\"fNumber\":1,\"fNtotal\":0,\"fRefCount\":3});\n",
       "       Core.draw(\"root_plot_3\", obj, \"all\");\n",
       "     }\n",
       " );\n",
       "</script>\n"
      ],
      "text/plain": [
       "<IPython.core.display.HTML object>"
      ]
     },
     "metadata": {},
     "output_type": "display_data"
    }
   ],
   "source": [
    "rr3.draw(\"oglx\")"
   ]
  },
  {
   "cell_type": "markdown",
   "metadata": {},
   "source": [
    "<a id=\"Directly_interacting_with_the_ROOT_objects\"></a>\n",
    "## Directly interacting with the ROOT objects\n",
    "It is possible to directly interact with the underlying ROOT objects. This is more *expert level*, but I just want to show you some fun. Let's change the geometry of the paddle again, but now only in ROOT.\n",
    "We now need to access the volume in the store of ROOT objects, in rr._volumes, which is a dictionary."
   ]
  },
  {
   "cell_type": "code",
   "execution_count": 20,
   "metadata": {},
   "outputs": [
    {
     "data": {
      "text/html": [
       "\n",
       "<div id=\"root_plot_4\"\n",
       "     style=\"width: 600px; height: 600px\">\n",
       "</div>\n",
       "\n",
       "<script>\n",
       " requirejs.config({\n",
       "     paths: {\n",
       "       'JSRootCore' : 'https://root.cern.ch/js/notebook//scripts/JSRootCore',\n",
       "     }\n",
       "   });\n",
       " require(['JSRootCore'],\n",
       "     function(Core) {\n",
       "       var obj = Core.JSONR_unref({\"_typename\":\"TGeoVolume\",\"fUniqueID\":0,\"fBits\":58720264,\"fName\":\"root\",\"fTitle\":\"Top volume\",\"fGeoAtt\":7176,\"fLineColor\":18,\"fLineStyle\":1,\"fLineWidth\":1,\"fFillColor\":19,\"fFillStyle\":1001,\"fNodes\":{\"_typename\":\"TObjArray\",\"name\":\"TObjArray\",\"arr\":[{\"_typename\":\"TGeoNodeMatrix\",\"fUniqueID\":0,\"fBits\":50331648,\"fName\":\"paddle_1\",\"fTitle\":\"\",\"fGeoAtt\":3084,\"fVolume\":{\"_typename\":\"TGeoVolume\",\"fUniqueID\":0,\"fBits\":58720264,\"fName\":\"paddle\",\"fTitle\":\"\",\"fGeoAtt\":3212,\"fLineColor\":430,\"fLineStyle\":1,\"fLineWidth\":1,\"fFillColor\":19,\"fFillStyle\":1001,\"fNodes\":null,\"fShape\":{\"_typename\":\"TGeoBBox\",\"fUniqueID\":0,\"fBits\":50331656,\"fName\":\"paddle_shape\",\"fTitle\":\"\",\"fShapeId\":256,\"fShapeBits\":1024,\"fDX\":10,\"fDY\":10,\"fDZ\":1,\"fOrigin\":[0,0,0]},\"fMedium\":{\"_typename\":\"TGeoMedium\",\"fUniqueID\":0,\"fBits\":50331656,\"fName\":\"ScintillatorB\",\"fTitle\":\"\",\"fId\":1,\"fParams\":[0,0,0,0,0,0,0,0,0,0,0,0,0,0,0,0,0,0,0,0],\"fMaterial\":{\"_typename\":\"TGeoMixture\",\"fUniqueID\":0,\"fBits\":50462728,\"fName\":\"ScintillatorB\",\"fTitle\":\"\",\"fFillColor\":19,\"fFillStyle\":3000,\"fIndex\":1,\"fA\":11.0722564862827,\"fZ\":5.57354176873926,\"fDensity\":1.032,\"fRadLen\":42.13201332142,\"fIntLen\":70.100677118772,\"fTemperature\":273.15,\"fPressure\":632420000,\"fState\":0,\"fShader\":null,\"fCerenkov\":null,\"fElement\":null,\"fNelements\":2,\"fZmixture\":[6,1],\"fAmixture\":[12.0107,1.00794],\"fWeights\":[0.914708353747852,0.0852916462521483],\"fNatoms\":[9,10],\"fElements\":{\"_typename\":\"TObjArray\",\"name\":\"TObjArray\",\"arr\":[{\"_typename\":\"TGeoElement\",\"fUniqueID\":0,\"fBits\":50593800,\"fName\":\"C\",\"fTitle\":\"CARBON\",\"fZ\":6,\"fN\":12,\"fNisotopes\":0,\"fA\":12.0107,\"fIsotopes\":null,\"fAbundances\":[]},{\"_typename\":\"TGeoElement\",\"fUniqueID\":0,\"fBits\":50593800,\"fName\":\"H\",\"fTitle\":\"HYDROGEN\",\"fZ\":1,\"fN\":1,\"fNisotopes\":0,\"fA\":1.00794,\"fIsotopes\":null,\"fAbundances\":[]}]}}},\"fFinder\":null,\"fVoxels\":null,\"fNumber\":2,\"fNtotal\":0,\"fRefCount\":1},\"fMother\":{\"$ref\":0},\"fNumber\":1,\"fNovlp\":0,\"fOverlaps\":[],\"fMatrix\":{\"_typename\":\"TGeoCombiTrans\",\"fUniqueID\":0,\"fBits\":52822024,\"fName\":\"\",\"fTitle\":\"\",\"fTranslation\":[0,0,20],\"fRotation\":{\"_typename\":\"TGeoRotation\",\"fUniqueID\":0,\"fBits\":52690952,\"fName\":\"paddle_rot\",\"fTitle\":\"\",\"fRotationMatrix\":[1,0,0,0,1,0,0,0,1]}}},{\"_typename\":\"TGeoNodeMatrix\",\"fUniqueID\":0,\"fBits\":50331648,\"fName\":\"target_1\",\"fTitle\":\"\",\"fGeoAtt\":3084,\"fVolume\":{\"_typename\":\"TGeoVolume\",\"fUniqueID\":0,\"fBits\":58720264,\"fName\":\"target\",\"fTitle\":\"\",\"fGeoAtt\":3212,\"fLineColor\":633,\"fLineStyle\":1,\"fLineWidth\":1,\"fFillColor\":19,\"fFillStyle\":1001,\"fNodes\":null,\"fShape\":{\"_typename\":\"TGeoTube\",\"fUniqueID\":0,\"fBits\":50331656,\"fName\":\"target_shape\",\"fTitle\":\"\",\"fShapeId\":256,\"fShapeBits\":9216,\"fDX\":2,\"fDY\":2,\"fDZ\":0.2,\"fOrigin\":[0,0,0],\"fRmin\":0,\"fRmax\":2,\"fDz\":0.2},\"fMedium\":{\"_typename\":\"TGeoMedium\",\"fUniqueID\":0,\"fBits\":50331656,\"fName\":\"Aluminum\",\"fTitle\":\"\",\"fId\":2,\"fParams\":[0,0,0,0,0,0,0,0,0,0,0,0,0,0,0,0,0,0,0,0],\"fMaterial\":{\"_typename\":\"TGeoMaterial\",\"fUniqueID\":0,\"fBits\":50462728,\"fName\":\"Aluminum\",\"fTitle\":\"\",\"fFillColor\":19,\"fFillStyle\":3000,\"fIndex\":2,\"fA\":26.98,\"fZ\":13,\"fDensity\":2.7,\"fRadLen\":8.87510465963777,\"fIntLen\":38.8622319406182,\"fTemperature\":273.15,\"fPressure\":632420000,\"fState\":0,\"fShader\":null,\"fCerenkov\":null,\"fElement\":null}},\"fFinder\":null,\"fVoxels\":null,\"fNumber\":3,\"fNtotal\":0,\"fRefCount\":1},\"fMother\":{\"$ref\":0},\"fNumber\":1,\"fNovlp\":0,\"fOverlaps\":[],\"fMatrix\":{\"_typename\":\"TGeoCombiTrans\",\"fUniqueID\":0,\"fBits\":52690952,\"fName\":\"\",\"fTitle\":\"\",\"fTranslation\":[0,0,0],\"fRotation\":{\"_typename\":\"TGeoRotation\",\"fUniqueID\":0,\"fBits\":52690952,\"fName\":\"target_rot\",\"fTitle\":\"\",\"fRotationMatrix\":[1,0,0,0,1,0,0,0,1]}}}]},\"fShape\":{\"_typename\":\"TGeoBBox\",\"fUniqueID\":0,\"fBits\":50331648,\"fName\":\"root\",\"fTitle\":\"\",\"fShapeId\":256,\"fShapeBits\":1024,\"fDX\":1000,\"fDY\":1000,\"fDZ\":1000,\"fOrigin\":[0,0,0]},\"fMedium\":{\"_typename\":\"TGeoMedium\",\"fUniqueID\":0,\"fBits\":50331656,\"fName\":\"Vacuum\",\"fTitle\":\"\",\"fId\":0,\"fParams\":[0,0,0,0,0,0,0,0,0,0,0,0,0,0,0,0,0,0,0,0],\"fMaterial\":{\"_typename\":\"TGeoMaterial\",\"fUniqueID\":0,\"fBits\":50462728,\"fName\":\"Vacuum\",\"fTitle\":\"\",\"fFillColor\":19,\"fFillStyle\":3080,\"fIndex\":0,\"fA\":0,\"fZ\":0,\"fDensity\":0,\"fRadLen\":1000000000000000019884624838656,\"fIntLen\":1000000000000000019884624838656,\"fTemperature\":273.15,\"fPressure\":632420000,\"fState\":0,\"fShader\":null,\"fCerenkov\":null,\"fElement\":null}},\"fFinder\":null,\"fVoxels\":null,\"fNumber\":1,\"fNtotal\":0,\"fRefCount\":3});\n",
       "       Core.draw(\"root_plot_4\", obj, \"all\");\n",
       "     }\n",
       " );\n",
       "</script>\n"
      ],
      "text/plain": [
       "<IPython.core.display.HTML object>"
      ]
     },
     "metadata": {},
     "output_type": "display_data"
    }
   ],
   "source": [
    "import numpy as np\n",
    "ndims=np.array([10,10,1],dtype='double')\n",
    "rr3._volumes['paddle'].GetShape().SetDimensions(ndims)\n",
    "rr3.draw(\"oglx\")"
   ]
  },
  {
   "cell_type": "markdown",
   "metadata": {},
   "source": [
    "If you are interested in details of the object, you can ask ROOT about it. The Dump() method for ROOT object gives you the information on that object."
   ]
  },
  {
   "cell_type": "code",
   "execution_count": 21,
   "metadata": {},
   "outputs": [
    {
     "name": "stdout",
     "output_type": "stream",
     "text": [
      "==> Dumping object at: 0x00007ff090579920, name=paddle, class=TGeoVolume\n",
      "\n",
      "*fNodes                       ->0                 array of nodes inside this volume\n",
      "*fShape                       ->7ff09058c7b0      shape\n",
      "*fMedium                      ->7ff08c9622d0      tracking medium\n",
      "*fFinder                      ->0                 finder object for divisions\n",
      "*fVoxels                      ->0                 finder object for bounding boxes\n",
      "*fGeoManager                  ->7ff08d83e800      ! pointer to TGeoManager owning this volume\n",
      "*fField                       ->0                 ! just a hook for now\n",
      "fOption                                           ! option - if any\n",
      "fOption.fRep                  ->7ff0905799d8      ! String data\n",
      "fOption.fRep.                 ->7ff0905799d8      \n",
      "fNumber                       2                   volume serial number in the list of volumes\n",
      "fNtotal                       0                   total number of physical nodes\n",
      "fRefCount                     1                   reference counter\n",
      "*fUserExtension               ->0                 ! Transient user-defined extension to volumes\n",
      "*fFWExtension                 ->0                 ! Transient framework-defined extension to volumes\n",
      "fName                         paddle              object identifier\n",
      "fName.fRep                    ->7ff090579938      ! String data\n",
      "fName.fRep.                   ->7ff090579938      \n",
      "fTitle                                            object title\n",
      "fTitle.fRep                   ->7ff090579950      ! String data\n",
      "fTitle.fRep.                  ->7ff090579950      \n",
      "fUniqueID                     0                   object unique identifier\n",
      "fBits                         0x03800008          bit field status word\n",
      "fGeoAtt                       3212                option flags\n",
      "fLineColor                    430                 Line color\n",
      "fLineStyle                    1                   Line style\n",
      "fLineWidth                    1                   Line width\n",
      "fFillColor                    19                  Fill area color\n",
      "fFillStyle                    1001                Fill area style\n"
     ]
    }
   ],
   "source": [
    "rr3._volumes['paddle'].Dump()"
   ]
  },
  {
   "cell_type": "markdown",
   "metadata": {},
   "source": [
    "Note that since ROOT is C++, the Dump() gives you C++ style informatio. Interacting with the ROOT objects requires proper type casting, which is why you needed to create a numpy array of doubles for the changed geometry."
   ]
  },
  {
   "cell_type": "code",
   "execution_count": null,
   "metadata": {
    "collapsed": true,
    "jupyter": {
     "outputs_hidden": true
    }
   },
   "outputs": [],
   "source": []
  }
 ],
 "metadata": {
  "celltoolbar": "Raw Cell Format",
  "kernelspec": {
   "display_name": "Python 3",
   "language": "python",
   "name": "python3"
  },
  "language_info": {
   "codemirror_mode": {
    "name": "ipython",
    "version": 3
   },
   "file_extension": ".py",
   "mimetype": "text/x-python",
   "name": "python",
   "nbconvert_exporter": "python",
   "pygments_lexer": "ipython3",
   "version": "3.8.8"
  }
 },
 "nbformat": 4,
 "nbformat_minor": 4
}
