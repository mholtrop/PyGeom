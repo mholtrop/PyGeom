{
 "cells": [
  {
   "cell_type": "markdown",
   "metadata": {},
   "source": [
    "# PyGeom: Gemc Python Geometry Example\n",
    "\n",
    "This example shows you the minimal Python commands needed to do something useful with the PyGeom package Python geometry.\n",
    "\n",
    "If any of this is not clear, please email me: holtrop(at)jlab.org\n",
    "\n",
    "## Setup\n",
    "\n",
    "Note: Python is a highly interactive language and that makes it a lot of fun to work with. You can start a python shell by typing \"python\" at the command line, and follow along step by step. A slightly more convenient python shell is \"ipython\", which has command line completion incorporated. \n",
    "\n",
    "**Note**: At Jlab, you have limited ability to install system software your self. Fortunately CC has already installed a modern Python installation with all the scientific Python goodness as a package called Anaconda. This includes ipython and includes the MySQLdb plugin, plus a ton of other good things, see: https://docs.continuum.io/ and https://docs.continuum.io/anaconda/index. It's free to download to your own system.\n",
    "We get the Anaconda python by adding it to our path. At Jlab, for bash:\n",
    "> export PATH=/apps/anaconda/bin:${PATH}\n",
    "\n",
    "For tcsh:\n",
    "> setenv PATH /apps/anaconda/bin:${PATH}\n",
    "\n",
    "We are also going to want to use ROOT for allowing us to draw the geometries. This is not needed if you only want to create the TXT files that GEMC uses, but having it really will make the creation of geometries for GEMC easier. \n",
    "So before importing the GeometryROOT package (see below), you will want to have ROOTSYS setup by executing the \"thisroot.sh\" or \"thisroot.tcsh\" script. \n",
    "**At JLab** you want to do for bash:\n",
    "> . /apps/root/5.34.21/root/bin/thisroot.sh \n",
    "\n",
    "And for the tcsh shell:\n",
    "> source /apps/root/5.34.21/root/bin/thisroot.sh \n"
   ]
  },
  {
   "cell_type": "markdown",
   "metadata": {},
   "source": [
    "## A little bit of Python\n",
    "\n",
    "We now start python with\n",
    "> ipython\n",
    "\n",
    "At the python command line you can ask for help by typing:"
   ]
  },
  {
   "cell_type": "code",
   "execution_count": 1,
   "metadata": {
    "collapsed": false
   },
   "outputs": [
    {
     "data": {
      "text/plain": [
       "Type help() for interactive help, or help(object) for help about object."
      ]
     },
     "execution_count": 1,
     "metadata": {},
     "output_type": "execute_result"
    }
   ],
   "source": [
    "help"
   ]
  },
  {
   "cell_type": "code",
   "execution_count": 2,
   "metadata": {
    "collapsed": false
   },
   "outputs": [
    {
     "name": "stdout",
     "output_type": "stream",
     "text": [
      "Help on built-in function exit in module sys:\n",
      "\n",
      "exit(...)\n",
      "    exit([status])\n",
      "    \n",
      "    Exit the interpreter by raising SystemExit(status).\n",
      "    If the status is omitted or None, it defaults to zero (i.e., success).\n",
      "    If the status is an integer, it will be used as the system exit status.\n",
      "    If it is another kind of object, it will be printed and the system\n",
      "    exit status will be one (i.e., failure).\n",
      "\n"
     ]
    }
   ],
   "source": [
    "import sys\n",
    "help(sys.exit)"
   ]
  },
  {
   "cell_type": "markdown",
   "metadata": {},
   "source": [
    "There is lots of information and help available on Python on the web. Just google.\n",
    "\n",
    "### Notebooks:\n",
    "More interesting still, this very notebook is interactive. You can alter any of the code lines, and then execute the line by pressing the shift+enter key.\n",
    "\n",
    "**Note**: If you want to run this on your own system, you need a late version of ROOT6, and some magic incantations (see the JupyROOT documentation, all of which is experimental at this stage). You can then run \"root --notebook\", and a web browser page will open with the contends of the directory displayed. Then click on \"Index.ipynb\", and it should work. This is not yet properly installed at Jlab. This tutorial will still work interactively in Python. Without the comments in between."
   ]
  },
  {
   "cell_type": "code",
   "execution_count": 3,
   "metadata": {
    "collapsed": false,
    "raw_mimetype": "text/x-python"
   },
   "outputs": [
    {
     "name": "stdout",
     "output_type": "stream",
     "text": [
      "Each input line in this file shows the output right below. This line is Python.\n"
     ]
    }
   ],
   "source": [
    "print(\"Each input line in this file shows the output right below. This line is Python.\")"
   ]
  },
  {
   "cell_type": "markdown",
   "metadata": {},
   "source": [
    "## Getting the code\n",
    "\n",
    "OK, now let us get started with the actual geometry stuff.\n",
    "\n",
    "We need to get the code, which is stored on github. Simply clone the repository, or if you want to change the code, fork it or branch it. Look at Mauri's pages for some git introduction. The simplest is just to type:\n",
    "> git clone https://github.com/mholtrop/PyGeom.git\n",
    "\n",
    "You now have a directory called PyGeom, with inside it the Python package \"PyGeom\". In the near future, I will add a proper \"setup.py\" script, so you can install the package. For now, we just work from the PyGeom directory. So\n",
    "> cd PyGeom\n",
    "> ipython\n",
    "\n",
    "You can now follow along.\n",
    "\n",
    "## A first simple geometry\n",
    "\n",
    "We want to first import the packages into Python. This will do:"
   ]
  },
  {
   "cell_type": "code",
   "execution_count": 4,
   "metadata": {
    "collapsed": false
   },
   "outputs": [
    {
     "name": "stdout",
     "output_type": "stream",
     "text": [
      "warning MySQLdb not found - no database functionality.\n"
     ]
    },
    {
     "data": {
      "application/javascript": [
       "IPython.CodeCell.config_defaults.highlight_modes['magic_text/x-c++src'] = {'reg':[/^%%cpp/]};"
      ]
     },
     "metadata": {},
     "output_type": "display_data"
    },
    {
     "name": "stdout",
     "output_type": "stream",
     "text": [
      "Welcome to JupyROOT 6.07/05\n"
     ]
    }
   ],
   "source": [
    "from PyGeom import GeometryEngine\n",
    "from PyGeom import Geometry\n",
    "from PyGeom import GeometryROOT"
   ]
  },
  {
   "cell_type": "markdown",
   "metadata": {},
   "source": [
    "*Note that the last line returns a message that only shows up in this notebook, since this is JupyROOT. Also note, if MySQLdb is not installed for Python, initializeing the GeometryEngine will warn you that you will not be able to write to a database. Ask your sysadmin on how to install the MySQLdb module in Python.*\n",
    "\n",
    "We now want to initialize the GeometryEngine. The name \"TestGeom\" is the name of the Gemc \"detector\", so the text files written out will have names like: <code>TestGeom__geometry_original.txt</code>."
   ]
  },
  {
   "cell_type": "code",
   "execution_count": 5,
   "metadata": {
    "collapsed": true
   },
   "outputs": [],
   "source": [
    "gen = GeometryEngine(\"TestGeom\")"
   ]
  },
  {
   "cell_type": "markdown",
   "metadata": {
    "collapsed": false
   },
   "source": [
    "Let's define a simple scintillator paddle, dimensions 2x2x10cm, and positioned 20cm down stream of the target, which is at the origin: (0,0,0). We create the paddle by creating a Geometry object, and giving that object the needed parameter:"
   ]
  },
  {
   "cell_type": "code",
   "execution_count": 6,
   "metadata": {
    "collapsed": false
   },
   "outputs": [],
   "source": [
    "paddle = Geometry(name=\"paddle_1\",mother=\"root\",description=\"Example of a paddle\",\n",
    "                  pos=[0, 0, 20], pos_units='cm', \n",
    "                  rot=[0, 0, 0], rot_units='rad',\n",
    "                  col='339999', \n",
    "                  g4type='Box', \n",
    "                  dimensions=[2,2,10],dims_units='cm',\n",
    "                  material='ScintillatorB')"
   ]
  },
  {
   "cell_type": "markdown",
   "metadata": {},
   "source": [
    "**Some notes:**\n",
    "   - If you forget what parameters are needed/allowed, type: help(Geometry) at the prompt, and look at the __init__() line which will show you all the options.\n",
    "   - There is a bit of flexibility build into the Geometry. You can specify the position as a \"vector\": [x,y,z], or you can specify it as a string: \" 10.*cm 15.2*cm 1000*mm \".\n",
    "   - More flexibility, if you want units \"cm\" and \"rad\", then you can leave them out. If you want to mix units, then specify them as an array. So <code> pos=\"10.*cm 15.2*cm 1000*mm\" </code> is the same as <code> pos=[10.,15.2,1000.],pos_units=['cm','cm','mm'] </code>\n",
    "   - It is MUCH safer to specify a name for every argument, because then the order is not important. If you are careful about the order, and don't skip arguments, you can leave out the names (like C++ or Fortran).  \n"
   ]
  },
  {
   "cell_type": "markdown",
   "metadata": {},
   "source": [
    "Now we add this geometry object to the GeometryEngine: "
   ]
  },
  {
   "cell_type": "code",
   "execution_count": 7,
   "metadata": {
    "collapsed": true
   },
   "outputs": [],
   "source": [
    "gen.add(paddle)"
   ]
  },
  {
   "cell_type": "markdown",
   "metadata": {},
   "source": [
    "Let'd also add a target, at (0,0,0), made of liquid hydrogen (G4_lH2), and small flat pancake shape: a tube of 2 cm radius and 2 mm thickness. To show you a different way of entering the volume, we do the whole thing in one line:"
   ]
  },
  {
   "cell_type": "code",
   "execution_count": 8,
   "metadata": {
    "collapsed": false
   },
   "outputs": [],
   "source": [
    "gen.add( Geometry(name=\"target\",mother=\"root\",description=\"A thin LH2 target\",\n",
    "                  pos=\"0*cm 0*cm 0*cm\",\n",
    "                  rot=\"0*deg 0*deg 0*deg\",\n",
    "                  g4type=\"Tube\",\n",
    "                  dimensions=\" 0*cm 2*cm 2*mm 0*deg 360*deg\",\n",
    "                  material=\"G4_lH2\",\n",
    "                  col=\"CC0000\"))"
   ]
  },
  {
   "cell_type": "markdown",
   "metadata": {},
   "source": [
    "After you have added a number of items, you may now want to inspect what you have in your geometry. You can do this by simply printing the objects. You can print the GeometryEngine, to get a list of what is in it. To print the details of a specific Geometry, select it from the GeometryEngine. The Geometry engine is an itterator, so you can itterate on it to print everthing in detail. The detail you get is the same as would be printed in the GEMC geometry text file."
   ]
  },
  {
   "cell_type": "code",
   "execution_count": 9,
   "metadata": {
    "collapsed": false
   },
   "outputs": [
    {
     "name": "stdout",
     "output_type": "stream",
     "text": [
      "Database:  NOT OPENED \n",
      "Table   : TestGeom\n",
      "Geometry: \n",
      "     paddle_1 in root ::Example of a paddle\n",
      "     target in root ::A thin LH2 target\n",
      "\n",
      "paddle_1 | root | Example of a paddle | 0*cm 0*cm 20*cm  | 0*rad 0*rad 0*rad  | 339999 | Box | 2*cm 2*cm 10*cm  | ScintillatorB | no | 1 | 1 | 1 | 1 | 1 | no |  |  \n",
      "target | root | A thin LH2 target | 0.0*cm 0.0*cm 0.0*cm  | 0.0*rad 0.0*rad 0.0*rad  | CC0000 | Tube | 0.0*cm 2.0*cm 0.2*cm 0.0*rad 6.28318530718*rad  | G4_lH2 | no | 1 | 1 | 1 | 1 | 1 | no |  |  \n"
     ]
    }
   ],
   "source": [
    "print gen\n",
    "print gen['paddle_1']\n",
    "print gen[1]"
   ]
  },
  {
   "cell_type": "code",
   "execution_count": 10,
   "metadata": {
    "collapsed": false
   },
   "outputs": [
    {
     "name": "stderr",
     "output_type": "stream",
     "text": [
      "Info in <TGeoManager::TGeoManager>: Geometry GEMC, Python ROOT Geometry Engine for GEMC created\n"
     ]
    }
   ],
   "source": [
    "rr=GeometryROOT()\n",
    "rr.debug = 1    # Set the debug level to 1"
   ]
  },
  {
   "cell_type": "code",
   "execution_count": 11,
   "metadata": {
    "collapsed": false
   },
   "outputs": [
    {
     "name": "stderr",
     "output_type": "stream",
     "text": [
      "Info in <TGeoManager::SetTopVolume>: Top volume is root. Master volume is root\n",
      "Info in <TGeoNavigator::BuildCache>: --- Maximum geometry depth set to 100\n"
     ]
    }
   ],
   "source": [
    "rr.create_root_volume()"
   ]
  },
  {
   "cell_type": "code",
   "execution_count": 12,
   "metadata": {
    "collapsed": false
   },
   "outputs": [
    {
     "name": "stdout",
     "output_type": "stream",
     "text": [
      "OOPS, the material: G4_lH2 has not yet been defined in Python world.  I'll pretend it is Aluminum...\n"
     ]
    }
   ],
   "source": [
    "rr.build_volumes(gen)"
   ]
  },
  {
   "cell_type": "markdown",
   "metadata": {
    "collapsed": true
   },
   "source": [
    "Note that some matials are not defined yet in the GeometryROOT package. I am working on adding these, please be patient. For showing the volumes, and for GEMC, these missing materials do not matter at all, they would only be important if you want to track particles through your ROOT geometry. Doing that would still need a significant amount of code...\n",
    "\n",
    "## Drawing the geometry\n",
    "\n",
    "You can now draw the geomerty by calling the \"draw()\" method of your GeometryROOT object.\n",
    "If you do this is a *live* notebook (either a root --notebook, or jupyter notebook, or on binder), then the picture produced below will rotate, zoom etc, just as it would if you executed these command in a python shell."
   ]
  },
  {
   "cell_type": "code",
   "execution_count": 13,
   "metadata": {
    "collapsed": false
   },
   "outputs": [
    {
     "name": "stderr",
     "output_type": "stream",
     "text": [
      "Info in <TCanvas::MakeDefCanvas>:  created default TCanvas with name c1\n"
     ]
    },
    {
     "data": {
      "text/html": [
       "\n",
       "<div id=\"root_plot_1\"\n",
       "     style=\"width: 600px; height: 600px\">\n",
       "</div>\n",
       "\n",
       "<script>\n",
       " requirejs.config({\n",
       "     paths: {\n",
       "       'JSRootCore' : 'https://root.cern.ch/js/notebook//scripts/JSRootCore',\n",
       "     }\n",
       "   });\n",
       " require(['JSRootCore'],\n",
       "     function(Core) {\n",
       "       var obj = Core.parse('{\"_typename\":\"TGeoVolume\",\"fUniqueID\":0,\"fBits\":58720264,\"fName\":\"root\",\"fTitle\":\"Top volume\",\"fGeoAtt\":3080,\"fLineColor\":18,\"fLineStyle\":1,\"fLineWidth\":1,\"fFillColor\":19,\"fFillStyle\":1001,\"fNodes\":{\"_typename\":\"TObjArray\",\"name\":\"TObjArray\",\"arr\":[{\"_typename\":\"TGeoNodeMatrix\",\"fUniqueID\":0,\"fBits\":50331648,\"fName\":\"paddle_1_1\",\"fTitle\":\"\",\"fGeoAtt\":3084,\"fVolume\":{\"_typename\":\"TGeoVolume\",\"fUniqueID\":0,\"fBits\":58720264,\"fName\":\"paddle_1\",\"fTitle\":\"\",\"fGeoAtt\":3212,\"fLineColor\":430,\"fLineStyle\":1,\"fLineWidth\":1,\"fFillColor\":19,\"fFillStyle\":1001,\"fNodes\":null,\"fShape\":{\"_typename\":\"TGeoBBox\",\"fUniqueID\":0,\"fBits\":50331656,\"fName\":\"paddle_1_shape\",\"fTitle\":\"\",\"fShapeId\":256,\"fShapeBits\":1024,\"fDX\":2,\"fDY\":2,\"fDZ\":10,\"fOrigin\":[0,0,0]},\"fMedium\":{\"_typename\":\"TGeoMedium\",\"fUniqueID\":0,\"fBits\":50331656,\"fName\":\"ScintillatorB\",\"fTitle\":\"\",\"fId\":1,\"fParams\":[0,0,0,0,0,0,0,0,0,0,0,0,0,0,0,0,0,0,0,0],\"fMaterial\":{\"_typename\":\"TGeoMixture\",\"fUniqueID\":0,\"fBits\":50462728,\"fName\":\"ScintillatorB\",\"fTitle\":\"\",\"fFillColor\":19,\"fFillStyle\":3000,\"fIndex\":1,\"fA\":1.107226e+01,\"fZ\":5.573542e+00,\"fDensity\":1.032000e+00,\"fRadLen\":4.213201e+01,\"fIntLen\":7.010068e+01,\"fTemperature\":2.731500e+02,\"fPressure\":632420000,\"fState\":0,\"fShader\":null,\"fCerenkov\":null,\"fElement\":null,\"fNelements\":2,\"fZmixture\":[6,1],\"fAmixture\":[1.201070e+01,1.007940e+00],\"fWeights\":[9.147084e-01,8.529165e-02],\"fNatoms\":[9,10],\"fElements\":{\"_typename\":\"TObjArray\",\"name\":\"TObjArray\",\"arr\":[{\"_typename\":\"TGeoElement\",\"fUniqueID\":0,\"fBits\":50593800,\"fName\":\"C\",\"fTitle\":\"CARBON\",\"fZ\":6,\"fN\":12,\"fNisotopes\":0,\"fA\":1.201070e+01,\"fIsotopes\":null,\"fAbundances\":[]},{\"_typename\":\"TGeoElement\",\"fUniqueID\":0,\"fBits\":50593800,\"fName\":\"H\",\"fTitle\":\"HYDROGEN\",\"fZ\":1,\"fN\":1,\"fNisotopes\":0,\"fA\":1.007940e+00,\"fIsotopes\":null,\"fAbundances\":[]}]}}},\"fFinder\":null,\"fVoxels\":null,\"fNumber\":2,\"fNtotal\":0,\"fRefCount\":1},\"fMother\":\"$ref:0\",\"fNumber\":1,\"fNovlp\":0,\"fOverlaps\":[],\"fMatrix\":{\"_typename\":\"TGeoCombiTrans\",\"fUniqueID\":0,\"fBits\":52822024,\"fName\":\"\",\"fTitle\":\"\",\"fTranslation\":[0,0,20],\"fRotation\":{\"_typename\":\"TGeoRotation\",\"fUniqueID\":0,\"fBits\":52690952,\"fName\":\"paddle_1_rot\",\"fTitle\":\"\",\"fRotationMatrix\":[1,0,0,0,1,0,0,0,1]}}},{\"_typename\":\"TGeoNodeMatrix\",\"fUniqueID\":0,\"fBits\":50331648,\"fName\":\"target_1\",\"fTitle\":\"\",\"fGeoAtt\":3084,\"fVolume\":{\"_typename\":\"TGeoVolume\",\"fUniqueID\":0,\"fBits\":58720264,\"fName\":\"target\",\"fTitle\":\"\",\"fGeoAtt\":3212,\"fLineColor\":633,\"fLineStyle\":1,\"fLineWidth\":1,\"fFillColor\":19,\"fFillStyle\":1001,\"fNodes\":null,\"fShape\":{\"_typename\":\"TGeoTube\",\"fUniqueID\":0,\"fBits\":50331656,\"fName\":\"target_shape\",\"fTitle\":\"\",\"fShapeId\":256,\"fShapeBits\":9216,\"fDX\":2,\"fDY\":2,\"fDZ\":2.000000e-01,\"fOrigin\":[0,0,0],\"fRmin\":0,\"fRmax\":2,\"fDz\":2.000000e-01},\"fMedium\":{\"_typename\":\"TGeoMedium\",\"fUniqueID\":0,\"fBits\":50331656,\"fName\":\"Aluminum\",\"fTitle\":\"\",\"fId\":2,\"fParams\":[0,0,0,0,0,0,0,0,0,0,0,0,0,0,0,0,0,0,0,0],\"fMaterial\":{\"_typename\":\"TGeoMaterial\",\"fUniqueID\":0,\"fBits\":50462728,\"fName\":\"Aluminum\",\"fTitle\":\"\",\"fFillColor\":19,\"fFillStyle\":3000,\"fIndex\":2,\"fA\":2.698000e+01,\"fZ\":13,\"fDensity\":2.700000e+00,\"fRadLen\":8.875105e+00,\"fIntLen\":3.886223e+01,\"fTemperature\":2.731500e+02,\"fPressure\":632420000,\"fState\":0,\"fShader\":null,\"fCerenkov\":null,\"fElement\":null}},\"fFinder\":null,\"fVoxels\":null,\"fNumber\":3,\"fNtotal\":0,\"fRefCount\":1},\"fMother\":\"$ref:0\",\"fNumber\":1,\"fNovlp\":0,\"fOverlaps\":[],\"fMatrix\":{\"_typename\":\"TGeoCombiTrans\",\"fUniqueID\":0,\"fBits\":52690952,\"fName\":\"\",\"fTitle\":\"\",\"fTranslation\":[0,0,0],\"fRotation\":{\"_typename\":\"TGeoRotation\",\"fUniqueID\":0,\"fBits\":52690952,\"fName\":\"target_rot\",\"fTitle\":\"\",\"fRotationMatrix\":[1,0,0,0,1,0,0,0,1]}}}]},\"fShape\":{\"_typename\":\"TGeoBBox\",\"fUniqueID\":0,\"fBits\":50331648,\"fName\":\"root\",\"fTitle\":\"\",\"fShapeId\":256,\"fShapeBits\":1024,\"fDX\":1000,\"fDY\":1000,\"fDZ\":1000,\"fOrigin\":[0,0,0]},\"fMedium\":{\"_typename\":\"TGeoMedium\",\"fUniqueID\":0,\"fBits\":50331656,\"fName\":\"Vacuum\",\"fTitle\":\"\",\"fId\":0,\"fParams\":[0,0,0,0,0,0,0,0,0,0,0,0,0,0,0,0,0,0,0,0],\"fMaterial\":{\"_typename\":\"TGeoMaterial\",\"fUniqueID\":0,\"fBits\":50462728,\"fName\":\"Vacuum\",\"fTitle\":\"\",\"fFillColor\":19,\"fFillStyle\":3080,\"fIndex\":0,\"fA\":0,\"fZ\":0,\"fDensity\":0,\"fRadLen\":1000000000000000019884624838656,\"fIntLen\":1000000000000000019884624838656,\"fTemperature\":2.731500e+02,\"fPressure\":632420000,\"fState\":0,\"fShader\":null,\"fCerenkov\":null,\"fElement\":null}},\"fFinder\":null,\"fVoxels\":null,\"fNumber\":1,\"fNtotal\":0,\"fRefCount\":3}');\n",
       "       Core.draw(\"root_plot_1\", obj, \"all\");\n",
       "     }\n",
       " );\n",
       "</script>\n"
      ],
      "text/plain": [
       "<IPython.core.display.HTML object>"
      ]
     },
     "metadata": {},
     "output_type": "display_data"
    }
   ],
   "source": [
    "rr.draw()"
   ]
  },
  {
   "cell_type": "markdown",
   "metadata": {
    "collapsed": true
   },
   "source": [
    "## Modifying\n",
    "Since this is a interactive session for geometry, you probably want to be able to adjust one of your objects, and then look at it again. Let's shorten the paddle from 10 cm to 5 cm.\n",
    "\n",
    "We need to manipulate the object inside the GeometryEngine object, \"gen\". What we do is change the length, and then look at it again.\n",
    "**Note:** We can only have one active GeometryROOT object at one time right now. So we re-initialize our rr object to clear out the old geometry and load the new one. "
   ]
  },
  {
   "cell_type": "code",
   "execution_count": 14,
   "metadata": {
    "collapsed": true
   },
   "outputs": [],
   "source": [
    "gen['paddle_1'].dimensions[2]=5"
   ]
  },
  {
   "cell_type": "code",
   "execution_count": 15,
   "metadata": {
    "collapsed": false
   },
   "outputs": [
    {
     "name": "stderr",
     "output_type": "stream",
     "text": [
      "Warning in <TGeoManager::Init>: Deleting previous geometry: GEMC/Python ROOT Geometry Engine for GEMC\n",
      "Info in <TGeoManager::TGeoManager>: Geometry GEMC, Python ROOT Geometry Engine for GEMC created\n",
      "Info in <TGeoManager::SetTopVolume>: Top volume is root. Master volume is root\n"
     ]
    }
   ],
   "source": [
    "rr = GeometryROOT()\n",
    "rr.create_root_volume()\n",
    "rr.build_volumes(gen)"
   ]
  },
  {
   "cell_type": "code",
   "execution_count": 16,
   "metadata": {
    "collapsed": false
   },
   "outputs": [
    {
     "data": {
      "text/html": [
       "\n",
       "<div id=\"root_plot_2\"\n",
       "     style=\"width: 600px; height: 600px\">\n",
       "</div>\n",
       "\n",
       "<script>\n",
       " requirejs.config({\n",
       "     paths: {\n",
       "       'JSRootCore' : 'https://root.cern.ch/js/notebook//scripts/JSRootCore',\n",
       "     }\n",
       "   });\n",
       " require(['JSRootCore'],\n",
       "     function(Core) {\n",
       "       var obj = Core.parse('{\"_typename\":\"TGeoVolume\",\"fUniqueID\":0,\"fBits\":58720264,\"fName\":\"root\",\"fTitle\":\"Top volume\",\"fGeoAtt\":3080,\"fLineColor\":18,\"fLineStyle\":1,\"fLineWidth\":1,\"fFillColor\":19,\"fFillStyle\":1001,\"fNodes\":{\"_typename\":\"TObjArray\",\"name\":\"TObjArray\",\"arr\":[{\"_typename\":\"TGeoNodeMatrix\",\"fUniqueID\":0,\"fBits\":50331648,\"fName\":\"paddle_1_1\",\"fTitle\":\"\",\"fGeoAtt\":3084,\"fVolume\":{\"_typename\":\"TGeoVolume\",\"fUniqueID\":0,\"fBits\":58720264,\"fName\":\"paddle_1\",\"fTitle\":\"\",\"fGeoAtt\":3212,\"fLineColor\":430,\"fLineStyle\":1,\"fLineWidth\":1,\"fFillColor\":19,\"fFillStyle\":1001,\"fNodes\":null,\"fShape\":{\"_typename\":\"TGeoBBox\",\"fUniqueID\":0,\"fBits\":50331656,\"fName\":\"paddle_1_shape\",\"fTitle\":\"\",\"fShapeId\":256,\"fShapeBits\":1024,\"fDX\":2,\"fDY\":2,\"fDZ\":5,\"fOrigin\":[0,0,0]},\"fMedium\":{\"_typename\":\"TGeoMedium\",\"fUniqueID\":0,\"fBits\":50331656,\"fName\":\"ScintillatorB\",\"fTitle\":\"\",\"fId\":1,\"fParams\":[0,0,0,0,0,0,0,0,0,0,0,0,0,0,0,0,0,0,0,0],\"fMaterial\":{\"_typename\":\"TGeoMixture\",\"fUniqueID\":0,\"fBits\":50462728,\"fName\":\"ScintillatorB\",\"fTitle\":\"\",\"fFillColor\":19,\"fFillStyle\":3000,\"fIndex\":1,\"fA\":1.107226e+01,\"fZ\":5.573542e+00,\"fDensity\":1.032000e+00,\"fRadLen\":4.213201e+01,\"fIntLen\":7.010068e+01,\"fTemperature\":2.731500e+02,\"fPressure\":632420000,\"fState\":0,\"fShader\":null,\"fCerenkov\":null,\"fElement\":null,\"fNelements\":2,\"fZmixture\":[6,1],\"fAmixture\":[1.201070e+01,1.007940e+00],\"fWeights\":[9.147084e-01,8.529165e-02],\"fNatoms\":[9,10],\"fElements\":{\"_typename\":\"TObjArray\",\"name\":\"TObjArray\",\"arr\":[{\"_typename\":\"TGeoElement\",\"fUniqueID\":0,\"fBits\":50593800,\"fName\":\"C\",\"fTitle\":\"CARBON\",\"fZ\":6,\"fN\":12,\"fNisotopes\":0,\"fA\":1.201070e+01,\"fIsotopes\":null,\"fAbundances\":[]},{\"_typename\":\"TGeoElement\",\"fUniqueID\":0,\"fBits\":50593800,\"fName\":\"H\",\"fTitle\":\"HYDROGEN\",\"fZ\":1,\"fN\":1,\"fNisotopes\":0,\"fA\":1.007940e+00,\"fIsotopes\":null,\"fAbundances\":[]}]}}},\"fFinder\":null,\"fVoxels\":null,\"fNumber\":2,\"fNtotal\":0,\"fRefCount\":1},\"fMother\":\"$ref:0\",\"fNumber\":1,\"fNovlp\":0,\"fOverlaps\":[],\"fMatrix\":{\"_typename\":\"TGeoCombiTrans\",\"fUniqueID\":0,\"fBits\":52822024,\"fName\":\"\",\"fTitle\":\"\",\"fTranslation\":[0,0,20],\"fRotation\":{\"_typename\":\"TGeoRotation\",\"fUniqueID\":0,\"fBits\":52690952,\"fName\":\"paddle_1_rot\",\"fTitle\":\"\",\"fRotationMatrix\":[1,0,0,0,1,0,0,0,1]}}},{\"_typename\":\"TGeoNodeMatrix\",\"fUniqueID\":0,\"fBits\":50331648,\"fName\":\"target_1\",\"fTitle\":\"\",\"fGeoAtt\":3084,\"fVolume\":{\"_typename\":\"TGeoVolume\",\"fUniqueID\":0,\"fBits\":58720264,\"fName\":\"target\",\"fTitle\":\"\",\"fGeoAtt\":3212,\"fLineColor\":633,\"fLineStyle\":1,\"fLineWidth\":1,\"fFillColor\":19,\"fFillStyle\":1001,\"fNodes\":null,\"fShape\":{\"_typename\":\"TGeoTube\",\"fUniqueID\":0,\"fBits\":50331656,\"fName\":\"target_shape\",\"fTitle\":\"\",\"fShapeId\":256,\"fShapeBits\":9216,\"fDX\":2,\"fDY\":2,\"fDZ\":2.000000e-01,\"fOrigin\":[0,0,0],\"fRmin\":0,\"fRmax\":2,\"fDz\":2.000000e-01},\"fMedium\":{\"_typename\":\"TGeoMedium\",\"fUniqueID\":0,\"fBits\":50331656,\"fName\":\"Aluminum\",\"fTitle\":\"\",\"fId\":2,\"fParams\":[0,0,0,0,0,0,0,0,0,0,0,0,0,0,0,0,0,0,0,0],\"fMaterial\":{\"_typename\":\"TGeoMaterial\",\"fUniqueID\":0,\"fBits\":50462728,\"fName\":\"Aluminum\",\"fTitle\":\"\",\"fFillColor\":19,\"fFillStyle\":3000,\"fIndex\":2,\"fA\":2.698000e+01,\"fZ\":13,\"fDensity\":2.700000e+00,\"fRadLen\":8.875105e+00,\"fIntLen\":3.886223e+01,\"fTemperature\":2.731500e+02,\"fPressure\":632420000,\"fState\":0,\"fShader\":null,\"fCerenkov\":null,\"fElement\":null}},\"fFinder\":null,\"fVoxels\":null,\"fNumber\":3,\"fNtotal\":0,\"fRefCount\":1},\"fMother\":\"$ref:0\",\"fNumber\":1,\"fNovlp\":0,\"fOverlaps\":[],\"fMatrix\":{\"_typename\":\"TGeoCombiTrans\",\"fUniqueID\":0,\"fBits\":52690952,\"fName\":\"\",\"fTitle\":\"\",\"fTranslation\":[0,0,0],\"fRotation\":{\"_typename\":\"TGeoRotation\",\"fUniqueID\":0,\"fBits\":52690952,\"fName\":\"target_rot\",\"fTitle\":\"\",\"fRotationMatrix\":[1,0,0,0,1,0,0,0,1]}}}]},\"fShape\":{\"_typename\":\"TGeoBBox\",\"fUniqueID\":0,\"fBits\":50331648,\"fName\":\"root\",\"fTitle\":\"\",\"fShapeId\":256,\"fShapeBits\":1024,\"fDX\":1000,\"fDY\":1000,\"fDZ\":1000,\"fOrigin\":[0,0,0]},\"fMedium\":{\"_typename\":\"TGeoMedium\",\"fUniqueID\":0,\"fBits\":50331656,\"fName\":\"Vacuum\",\"fTitle\":\"\",\"fId\":0,\"fParams\":[0,0,0,0,0,0,0,0,0,0,0,0,0,0,0,0,0,0,0,0],\"fMaterial\":{\"_typename\":\"TGeoMaterial\",\"fUniqueID\":0,\"fBits\":50462728,\"fName\":\"Vacuum\",\"fTitle\":\"\",\"fFillColor\":19,\"fFillStyle\":3080,\"fIndex\":0,\"fA\":0,\"fZ\":0,\"fDensity\":0,\"fRadLen\":1000000000000000019884624838656,\"fIntLen\":1000000000000000019884624838656,\"fTemperature\":2.731500e+02,\"fPressure\":632420000,\"fState\":0,\"fShader\":null,\"fCerenkov\":null,\"fElement\":null}},\"fFinder\":null,\"fVoxels\":null,\"fNumber\":1,\"fNtotal\":0,\"fRefCount\":3}');\n",
       "       Core.draw(\"root_plot_2\", obj, \"all\");\n",
       "     }\n",
       " );\n",
       "</script>\n"
      ],
      "text/plain": [
       "<IPython.core.display.HTML object>"
      ]
     },
     "metadata": {},
     "output_type": "display_data"
    }
   ],
   "source": [
    "rr.draw()"
   ]
  },
  {
   "cell_type": "markdown",
   "metadata": {},
   "source": [
    "## Directly interacting with the ROOT objects\n",
    "It is possible to directly interact with the underlying ROOT objects. This is more *expert level*, but I just want to show you some fun. Let's change the geometry of the paddle again, but now only in ROOT.\n",
    "We now need to access the volume in the store of ROOT objects, in rr._volumes, which is a dictionary."
   ]
  },
  {
   "cell_type": "code",
   "execution_count": 17,
   "metadata": {
    "collapsed": false
   },
   "outputs": [
    {
     "data": {
      "text/html": [
       "\n",
       "<div id=\"root_plot_3\"\n",
       "     style=\"width: 600px; height: 600px\">\n",
       "</div>\n",
       "\n",
       "<script>\n",
       " requirejs.config({\n",
       "     paths: {\n",
       "       'JSRootCore' : 'https://root.cern.ch/js/notebook//scripts/JSRootCore',\n",
       "     }\n",
       "   });\n",
       " require(['JSRootCore'],\n",
       "     function(Core) {\n",
       "       var obj = Core.parse('{\"_typename\":\"TGeoVolume\",\"fUniqueID\":0,\"fBits\":58720264,\"fName\":\"root\",\"fTitle\":\"Top volume\",\"fGeoAtt\":7176,\"fLineColor\":18,\"fLineStyle\":1,\"fLineWidth\":1,\"fFillColor\":19,\"fFillStyle\":1001,\"fNodes\":{\"_typename\":\"TObjArray\",\"name\":\"TObjArray\",\"arr\":[{\"_typename\":\"TGeoNodeMatrix\",\"fUniqueID\":0,\"fBits\":50331648,\"fName\":\"paddle_1_1\",\"fTitle\":\"\",\"fGeoAtt\":3084,\"fVolume\":{\"_typename\":\"TGeoVolume\",\"fUniqueID\":0,\"fBits\":58720264,\"fName\":\"paddle_1\",\"fTitle\":\"\",\"fGeoAtt\":3212,\"fLineColor\":430,\"fLineStyle\":1,\"fLineWidth\":1,\"fFillColor\":19,\"fFillStyle\":1001,\"fNodes\":null,\"fShape\":{\"_typename\":\"TGeoBBox\",\"fUniqueID\":0,\"fBits\":50331656,\"fName\":\"paddle_1_shape\",\"fTitle\":\"\",\"fShapeId\":256,\"fShapeBits\":1024,\"fDX\":10,\"fDY\":10,\"fDZ\":1,\"fOrigin\":[0,0,0]},\"fMedium\":{\"_typename\":\"TGeoMedium\",\"fUniqueID\":0,\"fBits\":50331656,\"fName\":\"ScintillatorB\",\"fTitle\":\"\",\"fId\":1,\"fParams\":[0,0,0,0,0,0,0,0,0,0,0,0,0,0,0,0,0,0,0,0],\"fMaterial\":{\"_typename\":\"TGeoMixture\",\"fUniqueID\":0,\"fBits\":50462728,\"fName\":\"ScintillatorB\",\"fTitle\":\"\",\"fFillColor\":19,\"fFillStyle\":3000,\"fIndex\":1,\"fA\":1.107226e+01,\"fZ\":5.573542e+00,\"fDensity\":1.032000e+00,\"fRadLen\":4.213201e+01,\"fIntLen\":7.010068e+01,\"fTemperature\":2.731500e+02,\"fPressure\":632420000,\"fState\":0,\"fShader\":null,\"fCerenkov\":null,\"fElement\":null,\"fNelements\":2,\"fZmixture\":[6,1],\"fAmixture\":[1.201070e+01,1.007940e+00],\"fWeights\":[9.147084e-01,8.529165e-02],\"fNatoms\":[9,10],\"fElements\":{\"_typename\":\"TObjArray\",\"name\":\"TObjArray\",\"arr\":[{\"_typename\":\"TGeoElement\",\"fUniqueID\":0,\"fBits\":50593800,\"fName\":\"C\",\"fTitle\":\"CARBON\",\"fZ\":6,\"fN\":12,\"fNisotopes\":0,\"fA\":1.201070e+01,\"fIsotopes\":null,\"fAbundances\":[]},{\"_typename\":\"TGeoElement\",\"fUniqueID\":0,\"fBits\":50593800,\"fName\":\"H\",\"fTitle\":\"HYDROGEN\",\"fZ\":1,\"fN\":1,\"fNisotopes\":0,\"fA\":1.007940e+00,\"fIsotopes\":null,\"fAbundances\":[]}]}}},\"fFinder\":null,\"fVoxels\":null,\"fNumber\":2,\"fNtotal\":0,\"fRefCount\":1},\"fMother\":\"$ref:0\",\"fNumber\":1,\"fNovlp\":0,\"fOverlaps\":[],\"fMatrix\":{\"_typename\":\"TGeoCombiTrans\",\"fUniqueID\":0,\"fBits\":52822024,\"fName\":\"\",\"fTitle\":\"\",\"fTranslation\":[0,0,20],\"fRotation\":{\"_typename\":\"TGeoRotation\",\"fUniqueID\":0,\"fBits\":52690952,\"fName\":\"paddle_1_rot\",\"fTitle\":\"\",\"fRotationMatrix\":[1,0,0,0,1,0,0,0,1]}}},{\"_typename\":\"TGeoNodeMatrix\",\"fUniqueID\":0,\"fBits\":50331648,\"fName\":\"target_1\",\"fTitle\":\"\",\"fGeoAtt\":3084,\"fVolume\":{\"_typename\":\"TGeoVolume\",\"fUniqueID\":0,\"fBits\":58720264,\"fName\":\"target\",\"fTitle\":\"\",\"fGeoAtt\":3212,\"fLineColor\":633,\"fLineStyle\":1,\"fLineWidth\":1,\"fFillColor\":19,\"fFillStyle\":1001,\"fNodes\":null,\"fShape\":{\"_typename\":\"TGeoTube\",\"fUniqueID\":0,\"fBits\":50331656,\"fName\":\"target_shape\",\"fTitle\":\"\",\"fShapeId\":256,\"fShapeBits\":9216,\"fDX\":2,\"fDY\":2,\"fDZ\":2.000000e-01,\"fOrigin\":[0,0,0],\"fRmin\":0,\"fRmax\":2,\"fDz\":2.000000e-01},\"fMedium\":{\"_typename\":\"TGeoMedium\",\"fUniqueID\":0,\"fBits\":50331656,\"fName\":\"Aluminum\",\"fTitle\":\"\",\"fId\":2,\"fParams\":[0,0,0,0,0,0,0,0,0,0,0,0,0,0,0,0,0,0,0,0],\"fMaterial\":{\"_typename\":\"TGeoMaterial\",\"fUniqueID\":0,\"fBits\":50462728,\"fName\":\"Aluminum\",\"fTitle\":\"\",\"fFillColor\":19,\"fFillStyle\":3000,\"fIndex\":2,\"fA\":2.698000e+01,\"fZ\":13,\"fDensity\":2.700000e+00,\"fRadLen\":8.875105e+00,\"fIntLen\":3.886223e+01,\"fTemperature\":2.731500e+02,\"fPressure\":632420000,\"fState\":0,\"fShader\":null,\"fCerenkov\":null,\"fElement\":null}},\"fFinder\":null,\"fVoxels\":null,\"fNumber\":3,\"fNtotal\":0,\"fRefCount\":1},\"fMother\":\"$ref:0\",\"fNumber\":1,\"fNovlp\":0,\"fOverlaps\":[],\"fMatrix\":{\"_typename\":\"TGeoCombiTrans\",\"fUniqueID\":0,\"fBits\":52690952,\"fName\":\"\",\"fTitle\":\"\",\"fTranslation\":[0,0,0],\"fRotation\":{\"_typename\":\"TGeoRotation\",\"fUniqueID\":0,\"fBits\":52690952,\"fName\":\"target_rot\",\"fTitle\":\"\",\"fRotationMatrix\":[1,0,0,0,1,0,0,0,1]}}}]},\"fShape\":{\"_typename\":\"TGeoBBox\",\"fUniqueID\":0,\"fBits\":50331648,\"fName\":\"root\",\"fTitle\":\"\",\"fShapeId\":256,\"fShapeBits\":1024,\"fDX\":1000,\"fDY\":1000,\"fDZ\":1000,\"fOrigin\":[0,0,0]},\"fMedium\":{\"_typename\":\"TGeoMedium\",\"fUniqueID\":0,\"fBits\":50331656,\"fName\":\"Vacuum\",\"fTitle\":\"\",\"fId\":0,\"fParams\":[0,0,0,0,0,0,0,0,0,0,0,0,0,0,0,0,0,0,0,0],\"fMaterial\":{\"_typename\":\"TGeoMaterial\",\"fUniqueID\":0,\"fBits\":50462728,\"fName\":\"Vacuum\",\"fTitle\":\"\",\"fFillColor\":19,\"fFillStyle\":3080,\"fIndex\":0,\"fA\":0,\"fZ\":0,\"fDensity\":0,\"fRadLen\":1000000000000000019884624838656,\"fIntLen\":1000000000000000019884624838656,\"fTemperature\":2.731500e+02,\"fPressure\":632420000,\"fState\":0,\"fShader\":null,\"fCerenkov\":null,\"fElement\":null}},\"fFinder\":null,\"fVoxels\":null,\"fNumber\":1,\"fNtotal\":0,\"fRefCount\":3}');\n",
       "       Core.draw(\"root_plot_3\", obj, \"all\");\n",
       "     }\n",
       " );\n",
       "</script>\n"
      ],
      "text/plain": [
       "<IPython.core.display.HTML object>"
      ]
     },
     "metadata": {},
     "output_type": "display_data"
    }
   ],
   "source": [
    "import numpy as np\n",
    "ndims=np.array([10,10,1],dtype='double')\n",
    "rr._volumes['paddle_1'].GetShape().SetDimensions(ndims)\n",
    "rr.draw()"
   ]
  },
  {
   "cell_type": "markdown",
   "metadata": {},
   "source": [
    "That is it for now. In the next step of this tutorial, we will turn the interactive session of Python into a proper Python script that can be executed to create the GEMC geometry files (or database entries.)"
   ]
  }
 ],
 "metadata": {
  "celltoolbar": "Raw Cell Format",
  "kernelspec": {
   "display_name": "Python 2",
   "language": "python",
   "name": "python2"
  },
  "language_info": {
   "codemirror_mode": {
    "name": "ipython",
    "version": 2
   },
   "file_extension": ".py",
   "mimetype": "text/x-python",
   "name": "python",
   "nbconvert_exporter": "python",
   "pygments_lexer": "ipython2",
   "version": "2.7.11"
  }
 },
 "nbformat": 4,
 "nbformat_minor": 0
}
