{
 "cells": [
  {
   "cell_type": "markdown",
   "metadata": {},
   "source": [
    "# PyGeom: Gemc Python Geometry Example\n",
    "\n",
    "This example shows you the minimal Python commands needed to do something useful with the PyGeom package Python geometry.\n",
    "\n",
    "If any of this is not clear, please email me: holtrop(at)jlab.org\n",
    "\n",
    "## Setup\n",
    "\n",
    "Note: Python is a highly interactive language and that makes it a lot of fun to work with. You can start a python shell by typing \"python\" at the command line, and follow along step by step. A slightly more convenient python shell is \"ipython\", which has command line completion incorporated. \n",
    "\n",
    "**Note**: At Jlab, you have limited ability to install system software your self. Fortunately CC has already installed a modern Python installation with all the scientific Python goodness as a package called Anaconda. This includes ipython, Jupyter Notebooks, and includes the MySQLdb plugin, plus a ton of other good things.\n",
    "You get Anaconda Python by adding it to our path. At Jlab, for bash:\n",
    "> export PATH=/apps/anaconda/bin:${PATH}\n",
    "\n",
    "For tcsh:\n",
    "> setenv PATH /apps/anaconda/bin:${PATH}\n",
    "\n",
    "You are also going to want to use ROOT for allowing us to draw the geometries. This is not needed if you only want to create the TXT files that GEMC uses, but having it really will make the creation of geometries for GEMC easier. \n",
    "So before importing the GeometryROOT package (see below), you will want to have ROOTSYS setup by executing the \"thisroot.sh\" or \"thisroot.tcsh\" script. \n",
    "**At JLab** you want to do for bash:\n",
    "> . /apps/root/5.34.21/root/bin/thisroot.sh \n",
    "\n",
    "And for the tcsh shell:\n",
    "> source /apps/root/5.34.21/root/bin/thisroot.sh \n",
    "\n",
    "To install Anaconda Python on your own system, and for more information, see: https://docs.continuum.io/ and https://docs.continuum.io/anaconda/index. It's free to download and install.\n",
    "\n",
    "To open a notebook, after you installed the software, navigate to the directory where you have your notebooks and PyGeom, and type:\n",
    "> jupyter notebook\n",
    "\n",
    "This will open the current directory in your browser, from where you can select the notebook you want to work on."
   ]
  },
  {
   "cell_type": "markdown",
   "metadata": {},
   "source": [
    "## A little bit of Python\n",
    "\n",
    "We now start python with\n",
    "> ipython\n",
    "\n",
    "At the python command line you can ask for help by typing:"
   ]
  },
  {
   "cell_type": "code",
   "execution_count": 1,
   "metadata": {},
   "outputs": [
    {
     "data": {
      "text/plain": [
       "Type help() for interactive help, or help(object) for help about object."
      ]
     },
     "execution_count": 1,
     "metadata": {},
     "output_type": "execute_result"
    }
   ],
   "source": [
    "help"
   ]
  },
  {
   "cell_type": "code",
   "execution_count": 2,
   "metadata": {},
   "outputs": [
    {
     "name": "stdout",
     "output_type": "stream",
     "text": [
      "Help on built-in function exit in module sys:\n",
      "\n",
      "exit(...)\n",
      "    exit([status])\n",
      "    \n",
      "    Exit the interpreter by raising SystemExit(status).\n",
      "    If the status is omitted or None, it defaults to zero (i.e., success).\n",
      "    If the status is an integer, it will be used as the system exit status.\n",
      "    If it is another kind of object, it will be printed and the system\n",
      "    exit status will be one (i.e., failure).\n",
      "\n"
     ]
    }
   ],
   "source": [
    "import sys\n",
    "help(sys.exit)"
   ]
  },
  {
   "cell_type": "markdown",
   "metadata": {},
   "source": [
    "There is lots of information and help available on Python on the web. Just google.\n",
    "\n",
    "### Notebooks:\n",
    "More interesting still, this very notebook is interactive. You can alter any of the code lines, and then execute the line by pressing the shift+enter key.\n",
    "\n",
    "**Note**: If you want to run this on your own system, you need a late version of ROOT6, and some magic incantations (see the JupyROOT documentation, all of which is experimental at this stage). You can then run \"root --notebook\", and a web browser page will open with the contends of the directory displayed. Then click on \"Index.ipynb\", and it should work. This is not yet properly installed at Jlab. This tutorial will still work interactively in Python. Without the comments in between."
   ]
  },
  {
   "cell_type": "code",
   "execution_count": 3,
   "metadata": {
    "raw_mimetype": "text/x-python"
   },
   "outputs": [
    {
     "name": "stdout",
     "output_type": "stream",
     "text": [
      "Each input line in this file shows the output right below. This line is Python.\n"
     ]
    }
   ],
   "source": [
    "print(\"Each input line in this file shows the output right below. This line is Python.\")"
   ]
  },
  {
   "cell_type": "markdown",
   "metadata": {},
   "source": [
    "## Getting the code\n",
    "\n",
    "OK, now let us get started with the actual geometry stuff.\n",
    "\n",
    "We need to get the code, which is stored on github. Simply clone the repository, or if you want to change the code, fork it or branch it. Look at Mauri's pages for some git introduction. The simplest is just to type:\n",
    "> git clone https://github.com/mholtrop/PyGeom.git\n",
    "\n",
    "You now have a directory called PyGeom, with inside it the Python package \"PyGeom\". In the near future, I will add a proper \"setup.py\" script, so you can install the package. For now, we just work from the PyGeom directory. So\n",
    "> cd PyGeom <br>\n",
    "> ipython\n",
    "\n",
    "You can now follow along from the Python prompt.Alternatively, you can open this file as an interactive Jupyter notebook, as shown above:\n",
    "> cd PyGeom <br>\n",
    "> jupyter notebook\n",
    "\n",
    "## A first simple geometry\n",
    "\n",
    "We want to first import the packages into Python. This will do:"
   ]
  },
  {
   "cell_type": "code",
   "execution_count": 1,
   "metadata": {},
   "outputs": [
    {
     "name": "stdout",
     "output_type": "stream",
     "text": [
      "Welcome to JupyROOT 6.27/01\n"
     ]
    }
   ],
   "source": [
    "from PyGeom import GeometryEngine\n",
    "from PyGeom import Geometry\n",
    "from PyGeom import GeometryROOT"
   ]
  },
  {
   "cell_type": "markdown",
   "metadata": {},
   "source": [
    "*Note that the last line returns a message that only shows up in this notebook, since this is JupyROOT. Also note, if MySQLdb is not installed for Python, initializeing the GeometryEngine will warn you that you will not be able to write to a database. Ask your sysadmin on how to install the MySQLdb module in Python.*\n",
    "\n",
    "We now want to initialize the GeometryEngine. The name \"TestGeom\" is the name of the Gemc \"detector\", so the text files written out will have names like: <code>TestGeom__geometry_original.txt</code>.\n",
    "\n",
    "The GeometryEngine is a place to store the "
   ]
  },
  {
   "cell_type": "code",
   "execution_count": 2,
   "metadata": {},
   "outputs": [],
   "source": [
    "gen = GeometryEngine(\"TestGeom\")"
   ]
  },
  {
   "cell_type": "markdown",
   "metadata": {},
   "source": [
    "Let's define a simple scintillator paddle, dimensions 2x2x10cm, and positioned 20cm down stream of the target, which is at the origin: (0,0,0). We create the paddle by creating a Geometry object, and giving that object the needed parameter:"
   ]
  },
  {
   "cell_type": "code",
   "execution_count": 3,
   "metadata": {},
   "outputs": [],
   "source": [
    "paddle = Geometry(name=\"paddle_1\",mother=\"root\",description=\"Example of a paddle\",\n",
    "                  pos=[0, 0, 20], pos_units='cm', \n",
    "                  rot=[0, 0, 0], rot_units='rad',\n",
    "                  col='339999', \n",
    "                  g4type='Box', \n",
    "                  dimensions=[2,2,10],dims_units='cm',\n",
    "                  material='ScintillatorB')"
   ]
  },
  {
   "cell_type": "markdown",
   "metadata": {},
   "source": [
    "**For more details, look at the Tutorial1.ipynb**"
   ]
  },
  {
   "cell_type": "markdown",
   "metadata": {},
   "source": [
    "Now we add this geometry object to the GeometryEngine: "
   ]
  },
  {
   "cell_type": "code",
   "execution_count": 4,
   "metadata": {},
   "outputs": [],
   "source": [
    "gen.add(paddle)"
   ]
  },
  {
   "cell_type": "markdown",
   "metadata": {},
   "source": [
    "Let'd also add a target, at (0,0,0), made of liquid hydrogen (G4_lH2), and small flat pancake shape: a tube of 2 cm radius and 2 mm thickness. To show you a different way of entering the volume, we do the whole thing in one line:"
   ]
  },
  {
   "cell_type": "code",
   "execution_count": 5,
   "metadata": {},
   "outputs": [],
   "source": [
    "gen.add( Geometry(name=\"target\",mother=\"root\",description=\"A thin LH2 target\",\n",
    "                  pos=\"0*cm 0*cm 0*cm\",\n",
    "                  rot=\"0*deg 0*deg 0*deg\",\n",
    "                  g4type=\"Tube\",\n",
    "                  dimensions=\" 0*cm 2*cm 2*mm 0*deg 360*deg\",\n",
    "                  material=\"G4_lH2\",\n",
    "                  col=\"CC0000\"))"
   ]
  },
  {
   "cell_type": "markdown",
   "metadata": {},
   "source": [
    "After you have added a number of items, you may now want to inspect what you have in your geometry. You can do this by simply printing the objects. You can print the GeometryEngine, to get a list of what is in it. To print the details of a specific Geometry, select it from the GeometryEngine. The Geometry engine is an itterator, so you can itterate on it to print everthing in detail. The detail you get is the same as would be printed in the GEMC geometry text file."
   ]
  },
  {
   "cell_type": "code",
   "execution_count": 7,
   "metadata": {},
   "outputs": [
    {
     "name": "stdout",
     "output_type": "stream",
     "text": [
      "Database:  NOT OPENED \n",
      "Table   : TestGeom\n",
      "Geometry: \n",
      "     paddle_1 in root ::Example of a paddle\n",
      "     target in root ::A thin LH2 target\n",
      "\n",
      "paddle_1 | root | Example of a paddle | 0*cm 0*cm 20*cm  | 0*rad 0*rad 0*rad  | 339999 | Box | 2*cm 2*cm 10*cm  | ScintillatorB | no | 1 | 1 | 1 | 1 | 1 | no |  |  \n",
      "target | root | A thin LH2 target | 0.0*cm 0.0*cm 0.0*cm  | 0.0*deg 0.0*deg 0.0*deg  | CC0000 | Tube | 0.0*cm 2.0*cm 2.0*mm 0.0*deg 360.0*deg  | G4_lH2 | no | 1 | 1 | 1 | 1 | 1 | no |  |  \n"
     ]
    }
   ],
   "source": [
    "print(gen)\n",
    "print(gen['paddle_1'])\n",
    "print(gen[1])"
   ]
  },
  {
   "cell_type": "markdown",
   "metadata": {},
   "source": [
    "## Drawing the geometry\n",
    "\n",
    "You can draw the geometry through the ROOT pacakage:"
   ]
  },
  {
   "cell_type": "code",
   "execution_count": 8,
   "metadata": {},
   "outputs": [
    {
     "name": "stderr",
     "output_type": "stream",
     "text": [
      "Info in <TGeoManager::TGeoManager>: Geometry TestGeom, Geometry for TestGeom variation: original created\n",
      "Info in <TGeoManager::SetTopVolume>: Top volume is root. Master volume is root\n",
      "Info in <TGeoNavigator::BuildCache>: --- Maximum geometry depth set to 100\n"
     ]
    }
   ],
   "source": [
    "rr=GeometryROOT(gen)"
   ]
  },
  {
   "cell_type": "markdown",
   "metadata": {},
   "source": [
    "Note that some matials are not defined yet in the GeometryROOT package. I am working on adding these, please be patient. For showing the volumes, and for GEMC, these missing materials do not matter at all, they would only be important if you want to track particles through your ROOT geometry. Doing that would still need a significant amount of code...\n",
    "\n",
    "You can now draw the geomerty by calling the \"draw()\" method of your GeometryROOT object.\n",
    "If you do this is a *live* notebook (either a root --notebook, or jupyter notebook, or on binder), then the picture produced below will rotate, zoom etc, just as it would if you executed these command in a python shell."
   ]
  },
  {
   "cell_type": "code",
   "execution_count": 9,
   "metadata": {},
   "outputs": [
    {
     "ename": "SegmentationViolation",
     "evalue": "void TGeoVolume::Draw(const char* option = \"\") =>\n    SegmentationViolation: segfault in C++; program state was reset",
     "output_type": "error",
     "traceback": [
      "\u001b[0;31m---------------------------------------------------------------------------\u001b[0m",
      "\u001b[0;31mSegmentationViolation\u001b[0m                     Traceback (most recent call last)",
      "\u001b[0;32m<ipython-input-9-c0d31fdfe971>\u001b[0m in \u001b[0;36m<module>\u001b[0;34m\u001b[0m\n\u001b[0;32m----> 1\u001b[0;31m \u001b[0mrr\u001b[0m\u001b[0;34m.\u001b[0m\u001b[0mdraw\u001b[0m\u001b[0;34m(\u001b[0m\u001b[0;34m\"oglx\"\u001b[0m\u001b[0;34m)\u001b[0m\u001b[0;34m\u001b[0m\u001b[0;34m\u001b[0m\u001b[0m\n\u001b[0m\u001b[1;32m      2\u001b[0m \u001b[0;31m# Note: the 'option' \"oglx\", draws the picture with OpenGL for this notebook when it run on Linux. For Python on\u001b[0m\u001b[0;34m\u001b[0m\u001b[0;34m\u001b[0m\u001b[0;34m\u001b[0m\u001b[0m\n\u001b[1;32m      3\u001b[0m \u001b[0;31m# a Mac, you may need \"ogl\" instead.\u001b[0m\u001b[0;34m\u001b[0m\u001b[0;34m\u001b[0m\u001b[0;34m\u001b[0m\u001b[0m\n\u001b[1;32m      4\u001b[0m \u001b[0;31m# If you leave the option out, the default will be used, which may be a wireframe picture.\u001b[0m\u001b[0;34m\u001b[0m\u001b[0;34m\u001b[0m\u001b[0;34m\u001b[0m\u001b[0m\n\u001b[1;32m      5\u001b[0m \u001b[0;31m# You can set the default in your ~/.rootrc file with a line like: \"Viewer3D.DefaultDrawOption:   ogl\"\u001b[0m\u001b[0;34m\u001b[0m\u001b[0;34m\u001b[0m\u001b[0;34m\u001b[0m\u001b[0m\n",
      "\u001b[0;32m/System/Volumes/Data/data/CLAS12/gemc/PyGeom/PyGeom/GeometryROOT.py\u001b[0m in \u001b[0;36mdraw\u001b[0;34m(self, option)\u001b[0m\n\u001b[1;32m   1028\u001b[0m \u001b[0;31m#        self._geom.SetTopVisible(0)\u001b[0m\u001b[0;34m\u001b[0m\u001b[0;34m\u001b[0m\u001b[0;34m\u001b[0m\u001b[0m\n\u001b[1;32m   1029\u001b[0m         \u001b[0mtopvol\u001b[0m\u001b[0;34m.\u001b[0m\u001b[0mSetVisibility\u001b[0m\u001b[0;34m(\u001b[0m\u001b[0;36m0\u001b[0m\u001b[0;34m)\u001b[0m\u001b[0;34m\u001b[0m\u001b[0;34m\u001b[0m\u001b[0m\n\u001b[0;32m-> 1030\u001b[0;31m         \u001b[0mtopvol\u001b[0m\u001b[0;34m.\u001b[0m\u001b[0mDraw\u001b[0m\u001b[0;34m(\u001b[0m\u001b[0moption\u001b[0m\u001b[0;34m)\u001b[0m\u001b[0;34m\u001b[0m\u001b[0;34m\u001b[0m\u001b[0m\n\u001b[0m\u001b[1;32m   1031\u001b[0m \u001b[0;34m\u001b[0m\u001b[0m\n\u001b[1;32m   1032\u001b[0m     \u001b[0;32mdef\u001b[0m \u001b[0m__str__\u001b[0m\u001b[0;34m(\u001b[0m\u001b[0mself\u001b[0m\u001b[0;34m)\u001b[0m\u001b[0;34m:\u001b[0m\u001b[0;34m\u001b[0m\u001b[0;34m\u001b[0m\u001b[0m\n",
      "\u001b[0;31mSegmentationViolation\u001b[0m: void TGeoVolume::Draw(const char* option = \"\") =>\n    SegmentationViolation: segfault in C++; program state was reset"
     ]
    },
    {
     "name": "stdout",
     "output_type": "stream",
     "text": [
      "[/Users/maurik/root/root.git/lib/libCore.so] TUnixSystem::DispatchSignals(ESignals) (no debug info)\n",
      "[/usr/lib/system/libsystem_platform.dylib] _sigtramp (no debug info)\n",
      "[<unknown binary>] (no debug info)\n",
      "[/Users/maurik/root/root.git/lib/libcppyy_backend3_8.so] WrapperCall(long, unsigned long, void*, void*, void*) (no debug info)\n",
      "[/Users/maurik/root/root.git/lib/libcppyy3_8.so] CPyCppyy::(anonymous namespace)::VoidExecutor::Execute(long, void*, CPyCppyy::CallContext*) (no debug info)\n",
      "[/Users/maurik/root/root.git/lib/libcppyy3_8.so] CPyCppyy::CPPMethod::ExecuteFast(void*, long, CPyCppyy::CallContext*) (no debug info)\n",
      "[/Users/maurik/root/root.git/lib/libcppyy3_8.so] CPyCppyy::CPPMethod::ExecuteProtected(void*, long, CPyCppyy::CallContext*) (no debug info)\n",
      "[/Users/maurik/root/root.git/lib/libcppyy3_8.so] CPyCppyy::CPPMethod::Call(CPyCppyy::CPPInstance*&, _object*, _object*, CPyCppyy::CallContext*) (no debug info)\n",
      "[/Users/maurik/root/root.git/lib/libcppyy3_8.so] CPyCppyy::(anonymous namespace)::mp_call(CPyCppyy::CPPOverload*, _object*, _object*) (no debug info)\n",
      "[/usr/local/Cellar/python@3.8/3.8.8_1/Frameworks/Python.framework/Versions/3.8/Python] _PyObject_MakeTpCall (no debug info)\n",
      "[/usr/local/Cellar/python@3.8/3.8.8_1/Frameworks/Python.framework/Versions/3.8/Python] call_function (no debug info)\n",
      "[/usr/local/Cellar/python@3.8/3.8.8_1/Frameworks/Python.framework/Versions/3.8/Python] _PyEval_EvalFrameDefault (no debug info)\n",
      "[/usr/local/Cellar/python@3.8/3.8.8_1/Frameworks/Python.framework/Versions/3.8/Python] _PyEval_EvalCodeWithName (no debug info)\n",
      "[/usr/local/Cellar/python@3.8/3.8.8_1/Frameworks/Python.framework/Versions/3.8/Python] _PyFunction_Vectorcall (no debug info)\n",
      "[/usr/local/Cellar/python@3.8/3.8.8_1/Frameworks/Python.framework/Versions/3.8/Python] call_function (no debug info)\n",
      "[/usr/local/Cellar/python@3.8/3.8.8_1/Frameworks/Python.framework/Versions/3.8/Python] _PyEval_EvalFrameDefault (no debug info)\n",
      "[/usr/local/Cellar/python@3.8/3.8.8_1/Frameworks/Python.framework/Versions/3.8/Python] _PyEval_EvalCodeWithName (no debug info)\n",
      "[/usr/local/Cellar/python@3.8/3.8.8_1/Frameworks/Python.framework/Versions/3.8/Python] PyEval_EvalCode (no debug info)\n",
      "[/usr/local/Cellar/python@3.8/3.8.8_1/Frameworks/Python.framework/Versions/3.8/Python] builtin_exec (no debug info)\n",
      "[/usr/local/Cellar/python@3.8/3.8.8_1/Frameworks/Python.framework/Versions/3.8/Python] cfunction_vectorcall_FASTCALL (no debug info)\n",
      "[/usr/local/Cellar/python@3.8/3.8.8_1/Frameworks/Python.framework/Versions/3.8/Python] call_function (no debug info)\n",
      "[/usr/local/Cellar/python@3.8/3.8.8_1/Frameworks/Python.framework/Versions/3.8/Python] _PyEval_EvalFrameDefault (no debug info)\n",
      "[/usr/local/Cellar/python@3.8/3.8.8_1/Frameworks/Python.framework/Versions/3.8/Python] gen_send_ex (no debug info)\n",
      "[/usr/local/Cellar/python@3.8/3.8.8_1/Frameworks/Python.framework/Versions/3.8/Python] _PyEval_EvalFrameDefault (no debug info)\n",
      "[/usr/local/Cellar/python@3.8/3.8.8_1/Frameworks/Python.framework/Versions/3.8/Python] gen_send_ex (no debug info)\n",
      "[/usr/local/Cellar/python@3.8/3.8.8_1/Frameworks/Python.framework/Versions/3.8/Python] _PyEval_EvalFrameDefault (no debug info)\n",
      "[/usr/local/Cellar/python@3.8/3.8.8_1/Frameworks/Python.framework/Versions/3.8/Python] gen_send_ex (no debug info)\n",
      "[/usr/local/Cellar/python@3.8/3.8.8_1/Frameworks/Python.framework/Versions/3.8/Python] method_vectorcall_O (no debug info)\n",
      "[/usr/local/Cellar/python@3.8/3.8.8_1/Frameworks/Python.framework/Versions/3.8/Python] call_function (no debug info)\n",
      "[/usr/local/Cellar/python@3.8/3.8.8_1/Frameworks/Python.framework/Versions/3.8/Python] _PyEval_EvalFrameDefault (no debug info)\n",
      "[/usr/local/Cellar/python@3.8/3.8.8_1/Frameworks/Python.framework/Versions/3.8/Python] function_code_fastcall (no debug info)\n",
      "[/usr/local/Cellar/python@3.8/3.8.8_1/Frameworks/Python.framework/Versions/3.8/Python] call_function (no debug info)\n",
      "[/usr/local/Cellar/python@3.8/3.8.8_1/Frameworks/Python.framework/Versions/3.8/Python] _PyEval_EvalFrameDefault (no debug info)\n",
      "[/usr/local/Cellar/python@3.8/3.8.8_1/Frameworks/Python.framework/Versions/3.8/Python] function_code_fastcall (no debug info)\n",
      "[/usr/local/Cellar/python@3.8/3.8.8_1/Frameworks/Python.framework/Versions/3.8/Python] call_function (no debug info)\n",
      "[/usr/local/Cellar/python@3.8/3.8.8_1/Frameworks/Python.framework/Versions/3.8/Python] _PyEval_EvalFrameDefault (no debug info)\n",
      "[/usr/local/Cellar/python@3.8/3.8.8_1/Frameworks/Python.framework/Versions/3.8/Python] _PyEval_EvalCodeWithName (no debug info)\n",
      "[/usr/local/Cellar/python@3.8/3.8.8_1/Frameworks/Python.framework/Versions/3.8/Python] _PyFunction_Vectorcall (no debug info)\n",
      "[/usr/local/Cellar/python@3.8/3.8.8_1/Frameworks/Python.framework/Versions/3.8/Python] method_vectorcall (no debug info)\n",
      "[/usr/local/Cellar/python@3.8/3.8.8_1/Frameworks/Python.framework/Versions/3.8/Python] PyVectorcall_Call (no debug info)\n",
      "[/usr/local/Cellar/python@3.8/3.8.8_1/Frameworks/Python.framework/Versions/3.8/Python] _PyEval_EvalFrameDefault (no debug info)\n",
      "[/usr/local/Cellar/python@3.8/3.8.8_1/Frameworks/Python.framework/Versions/3.8/Python] _PyEval_EvalCodeWithName (no debug info)\n",
      "[/usr/local/Cellar/python@3.8/3.8.8_1/Frameworks/Python.framework/Versions/3.8/Python] _PyFunction_Vectorcall (no debug info)\n",
      "[/usr/local/Cellar/python@3.8/3.8.8_1/Frameworks/Python.framework/Versions/3.8/Python] method_vectorcall (no debug info)\n",
      "[/usr/local/Cellar/python@3.8/3.8.8_1/Frameworks/Python.framework/Versions/3.8/Python] call_function (no debug info)\n",
      "[/usr/local/Cellar/python@3.8/3.8.8_1/Frameworks/Python.framework/Versions/3.8/Python] _PyEval_EvalFrameDefault (no debug info)\n",
      "[/usr/local/Cellar/python@3.8/3.8.8_1/Frameworks/Python.framework/Versions/3.8/Python] gen_send_ex (no debug info)\n",
      "[/usr/local/Cellar/python@3.8/3.8.8_1/Frameworks/Python.framework/Versions/3.8/Python] builtin_next (no debug info)\n",
      "[/usr/local/Cellar/python@3.8/3.8.8_1/Frameworks/Python.framework/Versions/3.8/Python] cfunction_vectorcall_FASTCALL (no debug info)\n",
      "[/usr/local/Cellar/python@3.8/3.8.8_1/Frameworks/Python.framework/Versions/3.8/Python] call_function (no debug info)\n",
      "[/usr/local/Cellar/python@3.8/3.8.8_1/Frameworks/Python.framework/Versions/3.8/Python] _PyEval_EvalFrameDefault (no debug info)\n",
      "[/usr/local/Cellar/python@3.8/3.8.8_1/Frameworks/Python.framework/Versions/3.8/Python] _PyEval_EvalCodeWithName (no debug info)\n",
      "[/usr/local/Cellar/python@3.8/3.8.8_1/Frameworks/Python.framework/Versions/3.8/Python] _PyFunction_Vectorcall (no debug info)\n",
      "[/usr/local/Cellar/python@3.8/3.8.8_1/Frameworks/Python.framework/Versions/3.8/Python] call_function (no debug info)\n",
      "[/usr/local/Cellar/python@3.8/3.8.8_1/Frameworks/Python.framework/Versions/3.8/Python] _PyEval_EvalFrameDefault (no debug info)\n",
      "[/usr/local/Cellar/python@3.8/3.8.8_1/Frameworks/Python.framework/Versions/3.8/Python] gen_send_ex (no debug info)\n",
      "[/usr/local/Cellar/python@3.8/3.8.8_1/Frameworks/Python.framework/Versions/3.8/Python] builtin_next (no debug info)\n",
      "[/usr/local/Cellar/python@3.8/3.8.8_1/Frameworks/Python.framework/Versions/3.8/Python] cfunction_vectorcall_FASTCALL (no debug info)\n",
      "[/usr/local/Cellar/python@3.8/3.8.8_1/Frameworks/Python.framework/Versions/3.8/Python] call_function (no debug info)\n",
      "[/usr/local/Cellar/python@3.8/3.8.8_1/Frameworks/Python.framework/Versions/3.8/Python] _PyEval_EvalFrameDefault (no debug info)\n",
      "[/usr/local/Cellar/python@3.8/3.8.8_1/Frameworks/Python.framework/Versions/3.8/Python] _PyEval_EvalCodeWithName (no debug info)\n",
      "[/usr/local/Cellar/python@3.8/3.8.8_1/Frameworks/Python.framework/Versions/3.8/Python] _PyFunction_Vectorcall (no debug info)\n",
      "[/usr/local/Cellar/python@3.8/3.8.8_1/Frameworks/Python.framework/Versions/3.8/Python] method_vectorcall (no debug info)\n",
      "[/usr/local/Cellar/python@3.8/3.8.8_1/Frameworks/Python.framework/Versions/3.8/Python] call_function (no debug info)\n",
      "[/usr/local/Cellar/python@3.8/3.8.8_1/Frameworks/Python.framework/Versions/3.8/Python] _PyEval_EvalFrameDefault (no debug info)\n",
      "[/usr/local/Cellar/python@3.8/3.8.8_1/Frameworks/Python.framework/Versions/3.8/Python] gen_send_ex (no debug info)\n",
      "[/usr/local/Cellar/python@3.8/3.8.8_1/Frameworks/Python.framework/Versions/3.8/Python] builtin_next (no debug info)\n",
      "[/usr/local/Cellar/python@3.8/3.8.8_1/Frameworks/Python.framework/Versions/3.8/Python] cfunction_vectorcall_FASTCALL (no debug info)\n",
      "[/usr/local/Cellar/python@3.8/3.8.8_1/Frameworks/Python.framework/Versions/3.8/Python] call_function (no debug info)\n",
      "[/usr/local/Cellar/python@3.8/3.8.8_1/Frameworks/Python.framework/Versions/3.8/Python] _PyEval_EvalFrameDefault (no debug info)\n",
      "[/usr/local/Cellar/python@3.8/3.8.8_1/Frameworks/Python.framework/Versions/3.8/Python] _PyEval_EvalCodeWithName (no debug info)\n",
      "[/usr/local/Cellar/python@3.8/3.8.8_1/Frameworks/Python.framework/Versions/3.8/Python] _PyFunction_Vectorcall (no debug info)\n",
      "[/usr/local/Cellar/python@3.8/3.8.8_1/Frameworks/Python.framework/Versions/3.8/Python] method_vectorcall (no debug info)\n",
      "[/usr/local/Cellar/python@3.8/3.8.8_1/Frameworks/Python.framework/Versions/3.8/Python] PyVectorcall_Call (no debug info)\n",
      "[/usr/local/Cellar/python@3.8/3.8.8_1/Frameworks/Python.framework/Versions/3.8/Python] _PyEval_EvalFrameDefault (no debug info)\n",
      "[/usr/local/Cellar/python@3.8/3.8.8_1/Frameworks/Python.framework/Versions/3.8/Python] gen_send_ex (no debug info)\n",
      "[/usr/local/Cellar/python@3.8/3.8.8_1/Frameworks/Python.framework/Versions/3.8/Python] method_vectorcall_O (no debug info)\n",
      "[/usr/local/Cellar/python@3.8/3.8.8_1/Frameworks/Python.framework/Versions/3.8/Python] call_function (no debug info)\n",
      "[/usr/local/Cellar/python@3.8/3.8.8_1/Frameworks/Python.framework/Versions/3.8/Python] _PyEval_EvalFrameDefault (no debug info)\n",
      "[/usr/local/Cellar/python@3.8/3.8.8_1/Frameworks/Python.framework/Versions/3.8/Python] function_code_fastcall (no debug info)\n",
      "[/usr/local/Cellar/python@3.8/3.8.8_1/Frameworks/Python.framework/Versions/3.8/Python] call_function (no debug info)\n",
      "[/usr/local/Cellar/python@3.8/3.8.8_1/Frameworks/Python.framework/Versions/3.8/Python] _PyEval_EvalFrameDefault (no debug info)\n",
      "[/usr/local/Cellar/python@3.8/3.8.8_1/Frameworks/Python.framework/Versions/3.8/Python] _PyEval_EvalCodeWithName (no debug info)\n",
      "[/usr/local/Cellar/python@3.8/3.8.8_1/Frameworks/Python.framework/Versions/3.8/Python] _PyFunction_Vectorcall (no debug info)\n",
      "[/usr/local/Cellar/python@3.8/3.8.8_1/Frameworks/Python.framework/Versions/3.8/Python] _PyObject_FastCallDict (no debug info)\n",
      "[/usr/local/Cellar/python@3.8/3.8.8_1/Frameworks/Python.framework/Versions/3.8/Python] partial_call (no debug info)\n",
      "[/usr/local/Cellar/python@3.8/3.8.8_1/Frameworks/Python.framework/Versions/3.8/Python] _PyObject_MakeTpCall (no debug info)\n",
      "[/usr/local/Cellar/python@3.8/3.8.8_1/Frameworks/Python.framework/Versions/3.8/Python] call_function (no debug info)\n",
      "[/usr/local/Cellar/python@3.8/3.8.8_1/Frameworks/Python.framework/Versions/3.8/Python] _PyEval_EvalFrameDefault (no debug info)\n",
      "[/usr/local/Cellar/python@3.8/3.8.8_1/Frameworks/Python.framework/Versions/3.8/Python] function_code_fastcall (no debug info)\n",
      "[/usr/local/Cellar/python@3.8/3.8.8_1/Frameworks/Python.framework/Versions/3.8/Python] call_function (no debug info)\n",
      "[/usr/local/Cellar/python@3.8/3.8.8_1/Frameworks/Python.framework/Versions/3.8/Python] _PyEval_EvalFrameDefault (no debug info)\n",
      "[/usr/local/Cellar/python@3.8/3.8.8_1/Frameworks/Python.framework/Versions/3.8/Python] _PyEval_EvalCodeWithName (no debug info)\n",
      "[/usr/local/Cellar/python@3.8/3.8.8_1/Frameworks/Python.framework/Versions/3.8/Python] _PyFunction_Vectorcall (no debug info)\n",
      "[/usr/local/Cellar/python@3.8/3.8.8_1/Frameworks/Python.framework/Versions/3.8/Python] context_run (no debug info)\n",
      "[/usr/local/Cellar/python@3.8/3.8.8_1/Frameworks/Python.framework/Versions/3.8/Python] cfunction_vectorcall_FASTCALL_KEYWORDS (no debug info)\n",
      "[/usr/local/Cellar/python@3.8/3.8.8_1/Frameworks/Python.framework/Versions/3.8/Python] PyVectorcall_Call (no debug info)\n",
      "[/usr/local/Cellar/python@3.8/3.8.8_1/Frameworks/Python.framework/Versions/3.8/Python] _PyEval_EvalFrameDefault (no debug info)\n",
      "[/usr/local/Cellar/python@3.8/3.8.8_1/Frameworks/Python.framework/Versions/3.8/Python] function_code_fastcall (no debug info)\n",
      "[/usr/local/Cellar/python@3.8/3.8.8_1/Frameworks/Python.framework/Versions/3.8/Python] call_function (no debug info)\n",
      "[/usr/local/Cellar/python@3.8/3.8.8_1/Frameworks/Python.framework/Versions/3.8/Python] _PyEval_EvalFrameDefault (no debug info)\n",
      "[/usr/local/Cellar/python@3.8/3.8.8_1/Frameworks/Python.framework/Versions/3.8/Python] function_code_fastcall (no debug info)\n",
      "[/usr/local/Cellar/python@3.8/3.8.8_1/Frameworks/Python.framework/Versions/3.8/Python] call_function (no debug info)\n",
      "[/usr/local/Cellar/python@3.8/3.8.8_1/Frameworks/Python.framework/Versions/3.8/Python] _PyEval_EvalFrameDefault (no debug info)\n",
      "[/usr/local/Cellar/python@3.8/3.8.8_1/Frameworks/Python.framework/Versions/3.8/Python] function_code_fastcall (no debug info)\n",
      "[/usr/local/Cellar/python@3.8/3.8.8_1/Frameworks/Python.framework/Versions/3.8/Python] call_function (no debug info)\n",
      "[/usr/local/Cellar/python@3.8/3.8.8_1/Frameworks/Python.framework/Versions/3.8/Python] _PyEval_EvalFrameDefault (no debug info)\n",
      "[/usr/local/Cellar/python@3.8/3.8.8_1/Frameworks/Python.framework/Versions/3.8/Python] function_code_fastcall (no debug info)\n",
      "[/usr/local/Cellar/python@3.8/3.8.8_1/Frameworks/Python.framework/Versions/3.8/Python] call_function (no debug info)\n",
      "[/usr/local/Cellar/python@3.8/3.8.8_1/Frameworks/Python.framework/Versions/3.8/Python] _PyEval_EvalFrameDefault (no debug info)\n",
      "[/usr/local/Cellar/python@3.8/3.8.8_1/Frameworks/Python.framework/Versions/3.8/Python] function_code_fastcall (no debug info)\n",
      "[/usr/local/Cellar/python@3.8/3.8.8_1/Frameworks/Python.framework/Versions/3.8/Python] call_function (no debug info)\n",
      "[/usr/local/Cellar/python@3.8/3.8.8_1/Frameworks/Python.framework/Versions/3.8/Python] _PyEval_EvalFrameDefault (no debug info)\n",
      "[/usr/local/Cellar/python@3.8/3.8.8_1/Frameworks/Python.framework/Versions/3.8/Python] _PyEval_EvalCodeWithName (no debug info)\n",
      "[/usr/local/Cellar/python@3.8/3.8.8_1/Frameworks/Python.framework/Versions/3.8/Python] _PyFunction_Vectorcall (no debug info)\n",
      "[/usr/local/Cellar/python@3.8/3.8.8_1/Frameworks/Python.framework/Versions/3.8/Python] method_vectorcall (no debug info)\n",
      "[/usr/local/Cellar/python@3.8/3.8.8_1/Frameworks/Python.framework/Versions/3.8/Python] call_function (no debug info)\n",
      "[/usr/local/Cellar/python@3.8/3.8.8_1/Frameworks/Python.framework/Versions/3.8/Python] _PyEval_EvalFrameDefault (no debug info)\n",
      "[/usr/local/Cellar/python@3.8/3.8.8_1/Frameworks/Python.framework/Versions/3.8/Python] _PyEval_EvalCodeWithName (no debug info)\n",
      "[/usr/local/Cellar/python@3.8/3.8.8_1/Frameworks/Python.framework/Versions/3.8/Python] PyEval_EvalCode (no debug info)\n",
      "[/usr/local/Cellar/python@3.8/3.8.8_1/Frameworks/Python.framework/Versions/3.8/Python] builtin_exec (no debug info)\n",
      "[/usr/local/Cellar/python@3.8/3.8.8_1/Frameworks/Python.framework/Versions/3.8/Python] cfunction_vectorcall_FASTCALL (no debug info)\n",
      "[/usr/local/Cellar/python@3.8/3.8.8_1/Frameworks/Python.framework/Versions/3.8/Python] call_function (no debug info)\n",
      "[/usr/local/Cellar/python@3.8/3.8.8_1/Frameworks/Python.framework/Versions/3.8/Python] _PyEval_EvalFrameDefault (no debug info)\n",
      "[/usr/local/Cellar/python@3.8/3.8.8_1/Frameworks/Python.framework/Versions/3.8/Python] _PyEval_EvalCodeWithName (no debug info)\n",
      "[/usr/local/Cellar/python@3.8/3.8.8_1/Frameworks/Python.framework/Versions/3.8/Python] _PyFunction_Vectorcall (no debug info)\n",
      "Error in callback <bound method CaptureDrawnPrimitives._post_execute of <JupyROOT.helpers.utils.CaptureDrawnPrimitives object at 0x12c0e3f70>> (for post_execute):\n"
     ]
    },
    {
     "name": "stderr",
     "output_type": "stream",
     "text": [
      "Error in <TPluginHandler::SetupCallEnv>: class ROOT::Experimental::REveGeoPainter not found in plugin ROOTEve\n",
      "Error in <TGeoManager::GetGeomPainter>: could not create web geo_painter\n",
      " *** Break *** segmentation violation\n"
     ]
    },
    {
     "ename": "AttributeError",
     "evalue": "'TGeoVolume' object has no attribute 'GetListOfPrimitives'",
     "output_type": "error",
     "traceback": [
      "\u001b[0;31m---------------------------------------------------------------------------\u001b[0m",
      "\u001b[0;31mAttributeError\u001b[0m                            Traceback (most recent call last)",
      "\u001b[0;32m~/root/root.git/lib/JupyROOT/helpers/utils.py\u001b[0m in \u001b[0;36m_post_execute\u001b[0;34m(self)\u001b[0m\n\u001b[1;32m    459\u001b[0m \u001b[0;34m\u001b[0m\u001b[0m\n\u001b[1;32m    460\u001b[0m     \u001b[0;32mdef\u001b[0m \u001b[0m_post_execute\u001b[0m\u001b[0;34m(\u001b[0m\u001b[0mself\u001b[0m\u001b[0;34m)\u001b[0m\u001b[0;34m:\u001b[0m\u001b[0;34m\u001b[0m\u001b[0;34m\u001b[0m\u001b[0m\n\u001b[0;32m--> 461\u001b[0;31m         \u001b[0mNotebookDraw\u001b[0m\u001b[0;34m(\u001b[0m\u001b[0;34m)\u001b[0m\u001b[0;34m\u001b[0m\u001b[0;34m\u001b[0m\u001b[0m\n\u001b[0m\u001b[1;32m    462\u001b[0m \u001b[0;34m\u001b[0m\u001b[0m\n\u001b[1;32m    463\u001b[0m     \u001b[0;32mdef\u001b[0m \u001b[0mregister\u001b[0m\u001b[0;34m(\u001b[0m\u001b[0mself\u001b[0m\u001b[0;34m)\u001b[0m\u001b[0;34m:\u001b[0m\u001b[0;34m\u001b[0m\u001b[0;34m\u001b[0m\u001b[0m\n",
      "\u001b[0;32m~/root/root.git/lib/JupyROOT/helpers/utils.py\u001b[0m in \u001b[0;36mNotebookDraw\u001b[0;34m()\u001b[0m\n\u001b[1;32m    447\u001b[0m \u001b[0;34m\u001b[0m\u001b[0m\n\u001b[1;32m    448\u001b[0m \u001b[0;32mdef\u001b[0m \u001b[0mNotebookDraw\u001b[0m\u001b[0;34m(\u001b[0m\u001b[0;34m)\u001b[0m\u001b[0;34m:\u001b[0m\u001b[0;34m\u001b[0m\u001b[0;34m\u001b[0m\u001b[0m\n\u001b[0;32m--> 449\u001b[0;31m     \u001b[0mDrawGeometry\u001b[0m\u001b[0;34m(\u001b[0m\u001b[0;34m)\u001b[0m\u001b[0;34m\u001b[0m\u001b[0;34m\u001b[0m\u001b[0m\n\u001b[0m\u001b[1;32m    450\u001b[0m     \u001b[0mDrawCanvases\u001b[0m\u001b[0;34m(\u001b[0m\u001b[0;34m)\u001b[0m\u001b[0;34m\u001b[0m\u001b[0;34m\u001b[0m\u001b[0m\n\u001b[1;32m    451\u001b[0m     \u001b[0mDrawRCanvases\u001b[0m\u001b[0;34m(\u001b[0m\u001b[0;34m)\u001b[0m\u001b[0;34m\u001b[0m\u001b[0;34m\u001b[0m\u001b[0m\n",
      "\u001b[0;32m~/root/root.git/lib/JupyROOT/helpers/utils.py\u001b[0m in \u001b[0;36mDrawGeometry\u001b[0;34m()\u001b[0m\n\u001b[1;32m    434\u001b[0m     \u001b[0mdrawer\u001b[0m \u001b[0;34m=\u001b[0m \u001b[0mGetGeometryDrawer\u001b[0m\u001b[0;34m(\u001b[0m\u001b[0;34m)\u001b[0m\u001b[0;34m\u001b[0m\u001b[0;34m\u001b[0m\u001b[0m\n\u001b[1;32m    435\u001b[0m     \u001b[0;32mif\u001b[0m \u001b[0mdrawer\u001b[0m\u001b[0;34m:\u001b[0m\u001b[0;34m\u001b[0m\u001b[0;34m\u001b[0m\u001b[0m\n\u001b[0;32m--> 436\u001b[0;31m         \u001b[0mdrawer\u001b[0m\u001b[0;34m.\u001b[0m\u001b[0mDraw\u001b[0m\u001b[0;34m(\u001b[0m\u001b[0;34m)\u001b[0m\u001b[0;34m\u001b[0m\u001b[0;34m\u001b[0m\u001b[0m\n\u001b[0m\u001b[1;32m    437\u001b[0m \u001b[0;34m\u001b[0m\u001b[0m\n\u001b[1;32m    438\u001b[0m \u001b[0;32mdef\u001b[0m \u001b[0mDrawCanvases\u001b[0m\u001b[0;34m(\u001b[0m\u001b[0;34m)\u001b[0m\u001b[0;34m:\u001b[0m\u001b[0;34m\u001b[0m\u001b[0;34m\u001b[0m\u001b[0m\n",
      "\u001b[0;32m~/root/root.git/lib/JupyROOT/helpers/utils.py\u001b[0m in \u001b[0;36mDraw\u001b[0;34m(self)\u001b[0m\n\u001b[1;32m    596\u001b[0m \u001b[0;34m\u001b[0m\u001b[0m\n\u001b[1;32m    597\u001b[0m     \u001b[0;32mdef\u001b[0m \u001b[0mDraw\u001b[0m\u001b[0;34m(\u001b[0m\u001b[0mself\u001b[0m\u001b[0;34m)\u001b[0m\u001b[0;34m:\u001b[0m\u001b[0;34m\u001b[0m\u001b[0;34m\u001b[0m\u001b[0m\n\u001b[0;32m--> 598\u001b[0;31m         \u001b[0mself\u001b[0m\u001b[0;34m.\u001b[0m\u001b[0m_display\u001b[0m\u001b[0;34m(\u001b[0m\u001b[0;34m)\u001b[0m\u001b[0;34m\u001b[0m\u001b[0;34m\u001b[0m\u001b[0m\n\u001b[0m\u001b[1;32m    599\u001b[0m         \u001b[0;32mreturn\u001b[0m \u001b[0;36m0\u001b[0m\u001b[0;34m\u001b[0m\u001b[0;34m\u001b[0m\u001b[0m\n\u001b[1;32m    600\u001b[0m \u001b[0;34m\u001b[0m\u001b[0m\n",
      "\u001b[0;32m~/root/root.git/lib/JupyROOT/helpers/utils.py\u001b[0m in \u001b[0;36m_display\u001b[0;34m(self)\u001b[0m\n\u001b[1;32m    579\u001b[0m        \u001b[0;32melse\u001b[0m\u001b[0;34m:\u001b[0m\u001b[0;34m\u001b[0m\u001b[0;34m\u001b[0m\u001b[0m\n\u001b[1;32m    580\u001b[0m          \u001b[0;32mif\u001b[0m \u001b[0mself\u001b[0m\u001b[0;34m.\u001b[0m\u001b[0m_canJsDisplay\u001b[0m\u001b[0;34m(\u001b[0m\u001b[0;34m)\u001b[0m\u001b[0;34m:\u001b[0m\u001b[0;34m\u001b[0m\u001b[0;34m\u001b[0m\u001b[0m\n\u001b[0;32m--> 581\u001b[0;31m             \u001b[0mself\u001b[0m\u001b[0;34m.\u001b[0m\u001b[0m_jsDisplay\u001b[0m\u001b[0;34m(\u001b[0m\u001b[0;34m)\u001b[0m\u001b[0;34m\u001b[0m\u001b[0;34m\u001b[0m\u001b[0m\n\u001b[0m\u001b[1;32m    582\u001b[0m          \u001b[0;32melse\u001b[0m\u001b[0;34m:\u001b[0m\u001b[0;34m\u001b[0m\u001b[0;34m\u001b[0m\u001b[0m\n\u001b[1;32m    583\u001b[0m             \u001b[0mself\u001b[0m\u001b[0;34m.\u001b[0m\u001b[0m_pngDisplay\u001b[0m\u001b[0;34m(\u001b[0m\u001b[0;34m)\u001b[0m\u001b[0;34m\u001b[0m\u001b[0;34m\u001b[0m\u001b[0m\n",
      "\u001b[0;32m~/root/root.git/lib/JupyROOT/helpers/utils.py\u001b[0m in \u001b[0;36m_jsDisplay\u001b[0;34m(self)\u001b[0m\n\u001b[1;32m    557\u001b[0m \u001b[0;34m\u001b[0m\u001b[0m\n\u001b[1;32m    558\u001b[0m     \u001b[0;32mdef\u001b[0m \u001b[0m_jsDisplay\u001b[0m\u001b[0;34m(\u001b[0m\u001b[0mself\u001b[0m\u001b[0;34m)\u001b[0m\u001b[0;34m:\u001b[0m\u001b[0;34m\u001b[0m\u001b[0;34m\u001b[0m\u001b[0m\n\u001b[0;32m--> 559\u001b[0;31m         \u001b[0mIPython\u001b[0m\u001b[0;34m.\u001b[0m\u001b[0mdisplay\u001b[0m\u001b[0;34m.\u001b[0m\u001b[0mdisplay\u001b[0m\u001b[0;34m(\u001b[0m\u001b[0mself\u001b[0m\u001b[0;34m.\u001b[0m\u001b[0m_getJsDiv\u001b[0m\u001b[0;34m(\u001b[0m\u001b[0;34m)\u001b[0m\u001b[0;34m)\u001b[0m\u001b[0;34m\u001b[0m\u001b[0;34m\u001b[0m\u001b[0m\n\u001b[0m\u001b[1;32m    560\u001b[0m         \u001b[0;32mreturn\u001b[0m \u001b[0;36m0\u001b[0m\u001b[0;34m\u001b[0m\u001b[0;34m\u001b[0m\u001b[0m\n\u001b[1;32m    561\u001b[0m \u001b[0;34m\u001b[0m\u001b[0m\n",
      "\u001b[0;32m~/root/root.git/lib/JupyROOT/helpers/utils.py\u001b[0m in \u001b[0;36m_getJsDiv\u001b[0;34m(self)\u001b[0m\n\u001b[1;32m    554\u001b[0m \u001b[0;34m\u001b[0m\u001b[0m\n\u001b[1;32m    555\u001b[0m     \u001b[0;32mdef\u001b[0m \u001b[0m_getJsDiv\u001b[0m\u001b[0;34m(\u001b[0m\u001b[0mself\u001b[0m\u001b[0;34m)\u001b[0m\u001b[0;34m:\u001b[0m\u001b[0;34m\u001b[0m\u001b[0;34m\u001b[0m\u001b[0m\n\u001b[0;32m--> 556\u001b[0;31m         \u001b[0;32mreturn\u001b[0m \u001b[0mHTML\u001b[0m\u001b[0;34m(\u001b[0m\u001b[0mself\u001b[0m\u001b[0;34m.\u001b[0m\u001b[0m_getJsCode\u001b[0m\u001b[0;34m(\u001b[0m\u001b[0;34m)\u001b[0m\u001b[0;34m)\u001b[0m\u001b[0;34m\u001b[0m\u001b[0;34m\u001b[0m\u001b[0m\n\u001b[0m\u001b[1;32m    557\u001b[0m \u001b[0;34m\u001b[0m\u001b[0m\n\u001b[1;32m    558\u001b[0m     \u001b[0;32mdef\u001b[0m \u001b[0m_jsDisplay\u001b[0m\u001b[0;34m(\u001b[0m\u001b[0mself\u001b[0m\u001b[0;34m)\u001b[0m\u001b[0;34m:\u001b[0m\u001b[0;34m\u001b[0m\u001b[0;34m\u001b[0m\u001b[0m\n",
      "\u001b[0;32m~/root/root.git/lib/JupyROOT/helpers/utils.py\u001b[0m in \u001b[0;36m_getJsCode\u001b[0;34m(self)\u001b[0m\n\u001b[1;32m    527\u001b[0m             \u001b[0mjson\u001b[0m \u001b[0;34m=\u001b[0m \u001b[0mself\u001b[0m\u001b[0;34m.\u001b[0m\u001b[0mdrawableObject\u001b[0m\u001b[0;34m.\u001b[0m\u001b[0mCreateJSON\u001b[0m\u001b[0;34m(\u001b[0m\u001b[0;34m)\u001b[0m\u001b[0;34m\u001b[0m\u001b[0;34m\u001b[0m\u001b[0m\n\u001b[1;32m    528\u001b[0m         \u001b[0;32melse\u001b[0m\u001b[0;34m:\u001b[0m\u001b[0;34m\u001b[0m\u001b[0;34m\u001b[0m\u001b[0m\n\u001b[0;32m--> 529\u001b[0;31m             \u001b[0mjson\u001b[0m \u001b[0;34m=\u001b[0m \u001b[0mproduceCanvasJson\u001b[0m\u001b[0;34m(\u001b[0m\u001b[0mself\u001b[0m\u001b[0;34m.\u001b[0m\u001b[0mdrawableObject\u001b[0m\u001b[0;34m)\u001b[0m\u001b[0;34m.\u001b[0m\u001b[0mData\u001b[0m\u001b[0;34m(\u001b[0m\u001b[0;34m)\u001b[0m\u001b[0;34m\u001b[0m\u001b[0;34m\u001b[0m\u001b[0m\n\u001b[0m\u001b[1;32m    530\u001b[0m \u001b[0;34m\u001b[0m\u001b[0m\n\u001b[1;32m    531\u001b[0m         \u001b[0;31m# Here we could optimise the string manipulation\u001b[0m\u001b[0;34m\u001b[0m\u001b[0;34m\u001b[0m\u001b[0;34m\u001b[0m\u001b[0m\n",
      "\u001b[0;32m~/root/root.git/lib/JupyROOT/helpers/utils.py\u001b[0m in \u001b[0;36mproduceCanvasJson\u001b[0;34m(canvas)\u001b[0m\n\u001b[1;32m    294\u001b[0m \u001b[0;32mdef\u001b[0m \u001b[0mproduceCanvasJson\u001b[0m\u001b[0;34m(\u001b[0m\u001b[0mcanvas\u001b[0m\u001b[0;34m)\u001b[0m\u001b[0;34m:\u001b[0m\u001b[0;34m\u001b[0m\u001b[0;34m\u001b[0m\u001b[0m\n\u001b[1;32m    295\u001b[0m    \u001b[0;31m# Add extra primitives to canvas with custom colors, palette, gStyle\u001b[0m\u001b[0;34m\u001b[0m\u001b[0;34m\u001b[0m\u001b[0;34m\u001b[0m\u001b[0m\n\u001b[0;32m--> 296\u001b[0;31m    \u001b[0mprim\u001b[0m \u001b[0;34m=\u001b[0m \u001b[0mcanvas\u001b[0m\u001b[0;34m.\u001b[0m\u001b[0mGetListOfPrimitives\u001b[0m\u001b[0;34m(\u001b[0m\u001b[0;34m)\u001b[0m\u001b[0;34m\u001b[0m\u001b[0;34m\u001b[0m\u001b[0m\n\u001b[0m\u001b[1;32m    297\u001b[0m \u001b[0;34m\u001b[0m\u001b[0m\n\u001b[1;32m    298\u001b[0m    \u001b[0mstyle\u001b[0m \u001b[0;34m=\u001b[0m \u001b[0mROOT\u001b[0m\u001b[0;34m.\u001b[0m\u001b[0mgStyle\u001b[0m\u001b[0;34m\u001b[0m\u001b[0;34m\u001b[0m\u001b[0m\n",
      "\u001b[0;31mAttributeError\u001b[0m: 'TGeoVolume' object has no attribute 'GetListOfPrimitives'"
     ]
    }
   ],
   "source": [
    "rr.draw(\"oglx\")    \n",
    "# Note: the 'option' \"oglx\", draws the picture with OpenGL for this notebook when it run on Linux. For Python on  \n",
    "# a Mac, you may need \"ogl\" instead.\n",
    "# If you leave the option out, the default will be used, which may be a wireframe picture.\n",
    "# You can set the default in your ~/.rootrc file with a line like: \"Viewer3D.DefaultDrawOption:   ogl\""
   ]
  },
  {
   "cell_type": "markdown",
   "metadata": {},
   "source": [
    "## Modifying\n",
    "Since this is a interactive session for geometry, you probably want to be able to adjust one of your objects, and then look at it again. Let's shorten the paddle from 10 cm to 5 cm.\n",
    "\n",
    "We need to manipulate the object inside the GeometryEngine object, \"gen\". What we do is change the length, and then look at it again.\n",
    "**Note:** We can only have one active GeometryROOT object at one time right now. So we re-initialize our rr object to clear out the old geometry and load the new one. "
   ]
  },
  {
   "cell_type": "code",
   "execution_count": 12,
   "metadata": {
    "collapsed": true,
    "jupyter": {
     "outputs_hidden": true
    }
   },
   "outputs": [],
   "source": [
    "gen['paddle_1'].dimensions[2]=5"
   ]
  },
  {
   "cell_type": "code",
   "execution_count": 13,
   "metadata": {},
   "outputs": [
    {
     "name": "stderr",
     "output_type": "stream",
     "text": [
      "Warning in <TGeoManager::Init>: Deleting previous geometry: TestGeom/Geometry for TestGeom variation: original\n",
      "Info in <TGeoManager::TGeoManager>: Geometry TestGeom, Geometry for TestGeom variation: original created\n",
      "Info in <TGeoManager::SetTopVolume>: Top volume is root. Master volume is root\n"
     ]
    },
    {
     "data": {
      "text/html": [
       "\n",
       "<div id=\"root_plot_2\"\n",
       "     style=\"width: 600px; height: 600px\">\n",
       "</div>\n",
       "\n",
       "<script>\n",
       " requirejs.config({\n",
       "     paths: {\n",
       "       'JSRootCore' : 'https://root.cern.ch/js/notebook//scripts/JSRootCore',\n",
       "     }\n",
       "   });\n",
       " require(['JSRootCore'],\n",
       "     function(Core) {\n",
       "       var obj = Core.JSONR_unref({\"_typename\":\"TGeoVolume\",\"fUniqueID\":0,\"fBits\":58720264,\"fName\":\"root\",\"fTitle\":\"Top volume\",\"fGeoAtt\":3080,\"fLineColor\":18,\"fLineStyle\":1,\"fLineWidth\":1,\"fFillColor\":19,\"fFillStyle\":1001,\"fNodes\":{\"_typename\":\"TObjArray\",\"name\":\"TObjArray\",\"arr\":[{\"_typename\":\"TGeoNodeMatrix\",\"fUniqueID\":0,\"fBits\":50331648,\"fName\":\"paddle_1_1\",\"fTitle\":\"\",\"fGeoAtt\":3084,\"fVolume\":{\"_typename\":\"TGeoVolume\",\"fUniqueID\":0,\"fBits\":58720264,\"fName\":\"paddle_1\",\"fTitle\":\"\",\"fGeoAtt\":3212,\"fLineColor\":430,\"fLineStyle\":1,\"fLineWidth\":1,\"fFillColor\":19,\"fFillStyle\":1001,\"fNodes\":null,\"fShape\":{\"_typename\":\"TGeoBBox\",\"fUniqueID\":0,\"fBits\":50331656,\"fName\":\"paddle_1_shape\",\"fTitle\":\"\",\"fShapeId\":256,\"fShapeBits\":1024,\"fDX\":2,\"fDY\":2,\"fDZ\":5,\"fOrigin\":[0,0,0]},\"fMedium\":{\"_typename\":\"TGeoMedium\",\"fUniqueID\":0,\"fBits\":50331656,\"fName\":\"ScintillatorB\",\"fTitle\":\"\",\"fId\":1,\"fParams\":[0,0,0,0,0,0,0,0,0,0,0,0,0,0,0,0,0,0,0,0],\"fMaterial\":{\"_typename\":\"TGeoMixture\",\"fUniqueID\":0,\"fBits\":50462728,\"fName\":\"ScintillatorB\",\"fTitle\":\"\",\"fFillColor\":19,\"fFillStyle\":3000,\"fIndex\":1,\"fA\":11.0722564862827,\"fZ\":5.57354176873926,\"fDensity\":1.032,\"fRadLen\":42.13201332142,\"fIntLen\":70.100677118772,\"fTemperature\":273.15,\"fPressure\":632420000,\"fState\":0,\"fShader\":null,\"fCerenkov\":null,\"fElement\":null,\"fNelements\":2,\"fZmixture\":[6,1],\"fAmixture\":[12.0107,1.00794],\"fWeights\":[0.914708353747852,0.0852916462521483],\"fNatoms\":[9,10],\"fElements\":{\"_typename\":\"TObjArray\",\"name\":\"TObjArray\",\"arr\":[{\"_typename\":\"TGeoElement\",\"fUniqueID\":0,\"fBits\":50593800,\"fName\":\"C\",\"fTitle\":\"CARBON\",\"fZ\":6,\"fN\":12,\"fNisotopes\":0,\"fA\":12.0107,\"fIsotopes\":null,\"fAbundances\":[]},{\"_typename\":\"TGeoElement\",\"fUniqueID\":0,\"fBits\":50593800,\"fName\":\"H\",\"fTitle\":\"HYDROGEN\",\"fZ\":1,\"fN\":1,\"fNisotopes\":0,\"fA\":1.00794,\"fIsotopes\":null,\"fAbundances\":[]}]}}},\"fFinder\":null,\"fVoxels\":null,\"fNumber\":2,\"fNtotal\":0,\"fRefCount\":1},\"fMother\":{\"$ref\":0},\"fNumber\":1,\"fNovlp\":0,\"fOverlaps\":[],\"fMatrix\":{\"_typename\":\"TGeoCombiTrans\",\"fUniqueID\":0,\"fBits\":52822024,\"fName\":\"\",\"fTitle\":\"\",\"fTranslation\":[0,0,20],\"fRotation\":{\"_typename\":\"TGeoRotation\",\"fUniqueID\":0,\"fBits\":52690952,\"fName\":\"paddle_1_rot\",\"fTitle\":\"\",\"fRotationMatrix\":[1,0,0,0,1,0,0,0,1]}}},{\"_typename\":\"TGeoNodeMatrix\",\"fUniqueID\":0,\"fBits\":50331648,\"fName\":\"target_1\",\"fTitle\":\"\",\"fGeoAtt\":3084,\"fVolume\":{\"_typename\":\"TGeoVolume\",\"fUniqueID\":0,\"fBits\":58720264,\"fName\":\"target\",\"fTitle\":\"\",\"fGeoAtt\":3212,\"fLineColor\":633,\"fLineStyle\":1,\"fLineWidth\":1,\"fFillColor\":19,\"fFillStyle\":1001,\"fNodes\":null,\"fShape\":{\"_typename\":\"TGeoTube\",\"fUniqueID\":0,\"fBits\":50331656,\"fName\":\"target_shape\",\"fTitle\":\"\",\"fShapeId\":256,\"fShapeBits\":9216,\"fDX\":2,\"fDY\":2,\"fDZ\":0.2,\"fOrigin\":[0,0,0],\"fRmin\":0,\"fRmax\":2,\"fDz\":0.2},\"fMedium\":{\"_typename\":\"TGeoMedium\",\"fUniqueID\":0,\"fBits\":50331656,\"fName\":\"Aluminum\",\"fTitle\":\"\",\"fId\":2,\"fParams\":[0,0,0,0,0,0,0,0,0,0,0,0,0,0,0,0,0,0,0,0],\"fMaterial\":{\"_typename\":\"TGeoMaterial\",\"fUniqueID\":0,\"fBits\":50462728,\"fName\":\"Aluminum\",\"fTitle\":\"\",\"fFillColor\":19,\"fFillStyle\":3000,\"fIndex\":2,\"fA\":26.98,\"fZ\":13,\"fDensity\":2.7,\"fRadLen\":8.87510465963777,\"fIntLen\":38.8622319406182,\"fTemperature\":273.15,\"fPressure\":632420000,\"fState\":0,\"fShader\":null,\"fCerenkov\":null,\"fElement\":null}},\"fFinder\":null,\"fVoxels\":null,\"fNumber\":3,\"fNtotal\":0,\"fRefCount\":1},\"fMother\":{\"$ref\":0},\"fNumber\":1,\"fNovlp\":0,\"fOverlaps\":[],\"fMatrix\":{\"_typename\":\"TGeoCombiTrans\",\"fUniqueID\":0,\"fBits\":52690952,\"fName\":\"\",\"fTitle\":\"\",\"fTranslation\":[0,0,0],\"fRotation\":{\"_typename\":\"TGeoRotation\",\"fUniqueID\":0,\"fBits\":52690952,\"fName\":\"target_rot\",\"fTitle\":\"\",\"fRotationMatrix\":[1,0,0,0,1,0,0,0,1]}}}]},\"fShape\":{\"_typename\":\"TGeoBBox\",\"fUniqueID\":0,\"fBits\":50331648,\"fName\":\"root\",\"fTitle\":\"\",\"fShapeId\":256,\"fShapeBits\":1024,\"fDX\":1000,\"fDY\":1000,\"fDZ\":1000,\"fOrigin\":[0,0,0]},\"fMedium\":{\"_typename\":\"TGeoMedium\",\"fUniqueID\":0,\"fBits\":50331656,\"fName\":\"Vacuum\",\"fTitle\":\"\",\"fId\":0,\"fParams\":[0,0,0,0,0,0,0,0,0,0,0,0,0,0,0,0,0,0,0,0],\"fMaterial\":{\"_typename\":\"TGeoMaterial\",\"fUniqueID\":0,\"fBits\":50462728,\"fName\":\"Vacuum\",\"fTitle\":\"\",\"fFillColor\":19,\"fFillStyle\":3080,\"fIndex\":0,\"fA\":0,\"fZ\":0,\"fDensity\":0,\"fRadLen\":1000000000000000019884624838656,\"fIntLen\":1000000000000000019884624838656,\"fTemperature\":273.15,\"fPressure\":632420000,\"fState\":0,\"fShader\":null,\"fCerenkov\":null,\"fElement\":null}},\"fFinder\":null,\"fVoxels\":null,\"fNumber\":1,\"fNtotal\":0,\"fRefCount\":3});\n",
       "       Core.draw(\"root_plot_2\", obj, \"all\");\n",
       "     }\n",
       " );\n",
       "</script>\n"
      ],
      "text/plain": [
       "<IPython.core.display.HTML object>"
      ]
     },
     "metadata": {},
     "output_type": "display_data"
    }
   ],
   "source": [
    "rr = GeometryROOT(gen)\n",
    "rr.draw(\"oglx\")"
   ]
  },
  {
   "cell_type": "markdown",
   "metadata": {},
   "source": [
    "## Directly interacting with the ROOT objects\n",
    "It is possible to directly interact with the underlying ROOT objects. This is more *expert level*, but I just want to show you some fun. Let's change the geometry of the paddle again, but now only in ROOT.\n",
    "We now need to access the volume in the store of ROOT objects, in rr._volumes, which is a dictionary."
   ]
  },
  {
   "cell_type": "code",
   "execution_count": 14,
   "metadata": {},
   "outputs": [
    {
     "data": {
      "text/html": [
       "\n",
       "<div id=\"root_plot_3\"\n",
       "     style=\"width: 600px; height: 600px\">\n",
       "</div>\n",
       "\n",
       "<script>\n",
       " requirejs.config({\n",
       "     paths: {\n",
       "       'JSRootCore' : 'https://root.cern.ch/js/notebook//scripts/JSRootCore',\n",
       "     }\n",
       "   });\n",
       " require(['JSRootCore'],\n",
       "     function(Core) {\n",
       "       var obj = Core.JSONR_unref({\"_typename\":\"TGeoVolume\",\"fUniqueID\":0,\"fBits\":58720264,\"fName\":\"root\",\"fTitle\":\"Top volume\",\"fGeoAtt\":7176,\"fLineColor\":18,\"fLineStyle\":1,\"fLineWidth\":1,\"fFillColor\":19,\"fFillStyle\":1001,\"fNodes\":{\"_typename\":\"TObjArray\",\"name\":\"TObjArray\",\"arr\":[{\"_typename\":\"TGeoNodeMatrix\",\"fUniqueID\":0,\"fBits\":50331648,\"fName\":\"paddle_1_1\",\"fTitle\":\"\",\"fGeoAtt\":3084,\"fVolume\":{\"_typename\":\"TGeoVolume\",\"fUniqueID\":0,\"fBits\":58720264,\"fName\":\"paddle_1\",\"fTitle\":\"\",\"fGeoAtt\":3212,\"fLineColor\":430,\"fLineStyle\":1,\"fLineWidth\":1,\"fFillColor\":19,\"fFillStyle\":1001,\"fNodes\":null,\"fShape\":{\"_typename\":\"TGeoBBox\",\"fUniqueID\":0,\"fBits\":50331656,\"fName\":\"paddle_1_shape\",\"fTitle\":\"\",\"fShapeId\":256,\"fShapeBits\":1024,\"fDX\":10,\"fDY\":10,\"fDZ\":1,\"fOrigin\":[0,0,0]},\"fMedium\":{\"_typename\":\"TGeoMedium\",\"fUniqueID\":0,\"fBits\":50331656,\"fName\":\"ScintillatorB\",\"fTitle\":\"\",\"fId\":1,\"fParams\":[0,0,0,0,0,0,0,0,0,0,0,0,0,0,0,0,0,0,0,0],\"fMaterial\":{\"_typename\":\"TGeoMixture\",\"fUniqueID\":0,\"fBits\":50462728,\"fName\":\"ScintillatorB\",\"fTitle\":\"\",\"fFillColor\":19,\"fFillStyle\":3000,\"fIndex\":1,\"fA\":11.0722564862827,\"fZ\":5.57354176873926,\"fDensity\":1.032,\"fRadLen\":42.13201332142,\"fIntLen\":70.100677118772,\"fTemperature\":273.15,\"fPressure\":632420000,\"fState\":0,\"fShader\":null,\"fCerenkov\":null,\"fElement\":null,\"fNelements\":2,\"fZmixture\":[6,1],\"fAmixture\":[12.0107,1.00794],\"fWeights\":[0.914708353747852,0.0852916462521483],\"fNatoms\":[9,10],\"fElements\":{\"_typename\":\"TObjArray\",\"name\":\"TObjArray\",\"arr\":[{\"_typename\":\"TGeoElement\",\"fUniqueID\":0,\"fBits\":50593800,\"fName\":\"C\",\"fTitle\":\"CARBON\",\"fZ\":6,\"fN\":12,\"fNisotopes\":0,\"fA\":12.0107,\"fIsotopes\":null,\"fAbundances\":[]},{\"_typename\":\"TGeoElement\",\"fUniqueID\":0,\"fBits\":50593800,\"fName\":\"H\",\"fTitle\":\"HYDROGEN\",\"fZ\":1,\"fN\":1,\"fNisotopes\":0,\"fA\":1.00794,\"fIsotopes\":null,\"fAbundances\":[]}]}}},\"fFinder\":null,\"fVoxels\":null,\"fNumber\":2,\"fNtotal\":0,\"fRefCount\":1},\"fMother\":{\"$ref\":0},\"fNumber\":1,\"fNovlp\":0,\"fOverlaps\":[],\"fMatrix\":{\"_typename\":\"TGeoCombiTrans\",\"fUniqueID\":0,\"fBits\":52822024,\"fName\":\"\",\"fTitle\":\"\",\"fTranslation\":[0,0,20],\"fRotation\":{\"_typename\":\"TGeoRotation\",\"fUniqueID\":0,\"fBits\":52690952,\"fName\":\"paddle_1_rot\",\"fTitle\":\"\",\"fRotationMatrix\":[1,0,0,0,1,0,0,0,1]}}},{\"_typename\":\"TGeoNodeMatrix\",\"fUniqueID\":0,\"fBits\":50331648,\"fName\":\"target_1\",\"fTitle\":\"\",\"fGeoAtt\":3084,\"fVolume\":{\"_typename\":\"TGeoVolume\",\"fUniqueID\":0,\"fBits\":58720264,\"fName\":\"target\",\"fTitle\":\"\",\"fGeoAtt\":3212,\"fLineColor\":633,\"fLineStyle\":1,\"fLineWidth\":1,\"fFillColor\":19,\"fFillStyle\":1001,\"fNodes\":null,\"fShape\":{\"_typename\":\"TGeoTube\",\"fUniqueID\":0,\"fBits\":50331656,\"fName\":\"target_shape\",\"fTitle\":\"\",\"fShapeId\":256,\"fShapeBits\":9216,\"fDX\":2,\"fDY\":2,\"fDZ\":0.2,\"fOrigin\":[0,0,0],\"fRmin\":0,\"fRmax\":2,\"fDz\":0.2},\"fMedium\":{\"_typename\":\"TGeoMedium\",\"fUniqueID\":0,\"fBits\":50331656,\"fName\":\"Aluminum\",\"fTitle\":\"\",\"fId\":2,\"fParams\":[0,0,0,0,0,0,0,0,0,0,0,0,0,0,0,0,0,0,0,0],\"fMaterial\":{\"_typename\":\"TGeoMaterial\",\"fUniqueID\":0,\"fBits\":50462728,\"fName\":\"Aluminum\",\"fTitle\":\"\",\"fFillColor\":19,\"fFillStyle\":3000,\"fIndex\":2,\"fA\":26.98,\"fZ\":13,\"fDensity\":2.7,\"fRadLen\":8.87510465963777,\"fIntLen\":38.8622319406182,\"fTemperature\":273.15,\"fPressure\":632420000,\"fState\":0,\"fShader\":null,\"fCerenkov\":null,\"fElement\":null}},\"fFinder\":null,\"fVoxels\":null,\"fNumber\":3,\"fNtotal\":0,\"fRefCount\":1},\"fMother\":{\"$ref\":0},\"fNumber\":1,\"fNovlp\":0,\"fOverlaps\":[],\"fMatrix\":{\"_typename\":\"TGeoCombiTrans\",\"fUniqueID\":0,\"fBits\":52690952,\"fName\":\"\",\"fTitle\":\"\",\"fTranslation\":[0,0,0],\"fRotation\":{\"_typename\":\"TGeoRotation\",\"fUniqueID\":0,\"fBits\":52690952,\"fName\":\"target_rot\",\"fTitle\":\"\",\"fRotationMatrix\":[1,0,0,0,1,0,0,0,1]}}}]},\"fShape\":{\"_typename\":\"TGeoBBox\",\"fUniqueID\":0,\"fBits\":50331648,\"fName\":\"root\",\"fTitle\":\"\",\"fShapeId\":256,\"fShapeBits\":1024,\"fDX\":1000,\"fDY\":1000,\"fDZ\":1000,\"fOrigin\":[0,0,0]},\"fMedium\":{\"_typename\":\"TGeoMedium\",\"fUniqueID\":0,\"fBits\":50331656,\"fName\":\"Vacuum\",\"fTitle\":\"\",\"fId\":0,\"fParams\":[0,0,0,0,0,0,0,0,0,0,0,0,0,0,0,0,0,0,0,0],\"fMaterial\":{\"_typename\":\"TGeoMaterial\",\"fUniqueID\":0,\"fBits\":50462728,\"fName\":\"Vacuum\",\"fTitle\":\"\",\"fFillColor\":19,\"fFillStyle\":3080,\"fIndex\":0,\"fA\":0,\"fZ\":0,\"fDensity\":0,\"fRadLen\":1000000000000000019884624838656,\"fIntLen\":1000000000000000019884624838656,\"fTemperature\":273.15,\"fPressure\":632420000,\"fState\":0,\"fShader\":null,\"fCerenkov\":null,\"fElement\":null}},\"fFinder\":null,\"fVoxels\":null,\"fNumber\":1,\"fNtotal\":0,\"fRefCount\":3});\n",
       "       Core.draw(\"root_plot_3\", obj, \"all\");\n",
       "     }\n",
       " );\n",
       "</script>\n"
      ],
      "text/plain": [
       "<IPython.core.display.HTML object>"
      ]
     },
     "metadata": {},
     "output_type": "display_data"
    }
   ],
   "source": [
    "import numpy as np\n",
    "ndims=np.array([10,10,1],dtype='double')\n",
    "rr._volumes['paddle_1'].GetShape().SetDimensions(ndims)\n",
    "rr.draw(\"oglx\")"
   ]
  },
  {
   "cell_type": "markdown",
   "metadata": {},
   "source": [
    "That is it for now. In the next step of this tutorial, we will turn the interactive session of Python into a proper Python script that can be executed to create the GEMC geometry files (or database entries.)"
   ]
  }
 ],
 "metadata": {
  "celltoolbar": "Raw Cell Format",
  "kernelspec": {
   "display_name": "Python 3",
   "language": "python",
   "name": "python3"
  },
  "language_info": {
   "codemirror_mode": {
    "name": "ipython",
    "version": 3
   },
   "file_extension": ".py",
   "mimetype": "text/x-python",
   "name": "python",
   "nbconvert_exporter": "python",
   "pygments_lexer": "ipython3",
   "version": "3.8.8"
  }
 },
 "nbformat": 4,
 "nbformat_minor": 4
}
